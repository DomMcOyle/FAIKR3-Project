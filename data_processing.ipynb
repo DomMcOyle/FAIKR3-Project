{
  "cells": [
    {
      "cell_type": "code",
      "source": [
        "import pandas as pd\n",
        "import numpy as np\n",
        "\n",
        "url = \"https://raw.githubusercontent.com/DomMcOyle/FAIKR3-Project/main/data/clean_data.csv?token=GHSAT0AAAAAABRL6KH4BZ3NIW66OUBEC2VIYSAQT7Q\"\n",
        "df = pd.read_csv(url)\n",
        "\n",
        "df.head()\n",
        "\"\"\"\n",
        "da eliminare: ID, work_phone, phone, email, years_employed, occupation_type, housing_type, \n",
        "ok: gendro, unemploued, account_length, age, income_type, education_type, family status\n",
        "da tenere: own_car, own_property, Num_children,\tNum_family, total_income, target\n",
        "\"\"\"\n"
      ],
      "metadata": {
        "id": "0GTH_trA8TTS"
      },
      "id": "0GTH_trA8TTS",
      "execution_count": null,
      "outputs": []
    },
    {
      "cell_type": "code",
      "source": [
        "df2 = df.drop([\"ID\", \"Work_phone\", \"Phone\", \"Email\", \"Years_employed\", \"Occupation_type\", \"Housing_type\"], axis=1)\n",
        "\n",
        "df2[\"Age\"] = df2[\"Age\"].apply(np.floor)\n",
        "df2[\"Age\"] = df2[\"Age\"].astype(np.int8)\n",
        "\n",
        "df2.head()\n"
      ],
      "metadata": {
        "colab": {
          "base_uri": "https://localhost:8080/",
          "height": 285
        },
        "id": "QmehouJl8ht2",
        "outputId": "29228e44-cc1c-4471-d227-1fe4048ca3b7"
      },
      "id": "QmehouJl8ht2",
      "execution_count": 14,
      "outputs": [
        {
          "output_type": "execute_result",
          "data": {
            "text/plain": [
              "   Gender  Own_car  Own_property  Unemployed  Num_children  Num_family  \\\n",
              "0       1        1             1           0             0           2   \n",
              "1       1        1             1           0             0           2   \n",
              "2       0        0             1           0             0           1   \n",
              "3       0        0             1           1             0           1   \n",
              "4       1        1             1           0             0           2   \n",
              "\n",
              "   Account_length  Total_income  Age           Income_type  \\\n",
              "0              15      427500.0   32               Working   \n",
              "1              29      112500.0   58               Working   \n",
              "2               4      270000.0   52  Commercial associate   \n",
              "3              20      283500.0   61             Pensioner   \n",
              "4               5      270000.0   46               Working   \n",
              "\n",
              "                  Education_type         Family_status  Target  \n",
              "0               Higher education        Civil marriage       1  \n",
              "1  Secondary / secondary special               Married       0  \n",
              "2  Secondary / secondary special  Single / not married       0  \n",
              "3               Higher education             Separated       0  \n",
              "4               Higher education               Married       0  "
            ],
            "text/html": [
              "\n",
              "  <div id=\"df-8ea8244f-b2d9-4f61-98a2-72d414eb1b26\">\n",
              "    <div class=\"colab-df-container\">\n",
              "      <div>\n",
              "<style scoped>\n",
              "    .dataframe tbody tr th:only-of-type {\n",
              "        vertical-align: middle;\n",
              "    }\n",
              "\n",
              "    .dataframe tbody tr th {\n",
              "        vertical-align: top;\n",
              "    }\n",
              "\n",
              "    .dataframe thead th {\n",
              "        text-align: right;\n",
              "    }\n",
              "</style>\n",
              "<table border=\"1\" class=\"dataframe\">\n",
              "  <thead>\n",
              "    <tr style=\"text-align: right;\">\n",
              "      <th></th>\n",
              "      <th>Gender</th>\n",
              "      <th>Own_car</th>\n",
              "      <th>Own_property</th>\n",
              "      <th>Unemployed</th>\n",
              "      <th>Num_children</th>\n",
              "      <th>Num_family</th>\n",
              "      <th>Account_length</th>\n",
              "      <th>Total_income</th>\n",
              "      <th>Age</th>\n",
              "      <th>Income_type</th>\n",
              "      <th>Education_type</th>\n",
              "      <th>Family_status</th>\n",
              "      <th>Target</th>\n",
              "    </tr>\n",
              "  </thead>\n",
              "  <tbody>\n",
              "    <tr>\n",
              "      <th>0</th>\n",
              "      <td>1</td>\n",
              "      <td>1</td>\n",
              "      <td>1</td>\n",
              "      <td>0</td>\n",
              "      <td>0</td>\n",
              "      <td>2</td>\n",
              "      <td>15</td>\n",
              "      <td>427500.0</td>\n",
              "      <td>32</td>\n",
              "      <td>Working</td>\n",
              "      <td>Higher education</td>\n",
              "      <td>Civil marriage</td>\n",
              "      <td>1</td>\n",
              "    </tr>\n",
              "    <tr>\n",
              "      <th>1</th>\n",
              "      <td>1</td>\n",
              "      <td>1</td>\n",
              "      <td>1</td>\n",
              "      <td>0</td>\n",
              "      <td>0</td>\n",
              "      <td>2</td>\n",
              "      <td>29</td>\n",
              "      <td>112500.0</td>\n",
              "      <td>58</td>\n",
              "      <td>Working</td>\n",
              "      <td>Secondary / secondary special</td>\n",
              "      <td>Married</td>\n",
              "      <td>0</td>\n",
              "    </tr>\n",
              "    <tr>\n",
              "      <th>2</th>\n",
              "      <td>0</td>\n",
              "      <td>0</td>\n",
              "      <td>1</td>\n",
              "      <td>0</td>\n",
              "      <td>0</td>\n",
              "      <td>1</td>\n",
              "      <td>4</td>\n",
              "      <td>270000.0</td>\n",
              "      <td>52</td>\n",
              "      <td>Commercial associate</td>\n",
              "      <td>Secondary / secondary special</td>\n",
              "      <td>Single / not married</td>\n",
              "      <td>0</td>\n",
              "    </tr>\n",
              "    <tr>\n",
              "      <th>3</th>\n",
              "      <td>0</td>\n",
              "      <td>0</td>\n",
              "      <td>1</td>\n",
              "      <td>1</td>\n",
              "      <td>0</td>\n",
              "      <td>1</td>\n",
              "      <td>20</td>\n",
              "      <td>283500.0</td>\n",
              "      <td>61</td>\n",
              "      <td>Pensioner</td>\n",
              "      <td>Higher education</td>\n",
              "      <td>Separated</td>\n",
              "      <td>0</td>\n",
              "    </tr>\n",
              "    <tr>\n",
              "      <th>4</th>\n",
              "      <td>1</td>\n",
              "      <td>1</td>\n",
              "      <td>1</td>\n",
              "      <td>0</td>\n",
              "      <td>0</td>\n",
              "      <td>2</td>\n",
              "      <td>5</td>\n",
              "      <td>270000.0</td>\n",
              "      <td>46</td>\n",
              "      <td>Working</td>\n",
              "      <td>Higher education</td>\n",
              "      <td>Married</td>\n",
              "      <td>0</td>\n",
              "    </tr>\n",
              "  </tbody>\n",
              "</table>\n",
              "</div>\n",
              "      <button class=\"colab-df-convert\" onclick=\"convertToInteractive('df-8ea8244f-b2d9-4f61-98a2-72d414eb1b26')\"\n",
              "              title=\"Convert this dataframe to an interactive table.\"\n",
              "              style=\"display:none;\">\n",
              "        \n",
              "  <svg xmlns=\"http://www.w3.org/2000/svg\" height=\"24px\"viewBox=\"0 0 24 24\"\n",
              "       width=\"24px\">\n",
              "    <path d=\"M0 0h24v24H0V0z\" fill=\"none\"/>\n",
              "    <path d=\"M18.56 5.44l.94 2.06.94-2.06 2.06-.94-2.06-.94-.94-2.06-.94 2.06-2.06.94zm-11 1L8.5 8.5l.94-2.06 2.06-.94-2.06-.94L8.5 2.5l-.94 2.06-2.06.94zm10 10l.94 2.06.94-2.06 2.06-.94-2.06-.94-.94-2.06-.94 2.06-2.06.94z\"/><path d=\"M17.41 7.96l-1.37-1.37c-.4-.4-.92-.59-1.43-.59-.52 0-1.04.2-1.43.59L10.3 9.45l-7.72 7.72c-.78.78-.78 2.05 0 2.83L4 21.41c.39.39.9.59 1.41.59.51 0 1.02-.2 1.41-.59l7.78-7.78 2.81-2.81c.8-.78.8-2.07 0-2.86zM5.41 20L4 18.59l7.72-7.72 1.47 1.35L5.41 20z\"/>\n",
              "  </svg>\n",
              "      </button>\n",
              "      \n",
              "  <style>\n",
              "    .colab-df-container {\n",
              "      display:flex;\n",
              "      flex-wrap:wrap;\n",
              "      gap: 12px;\n",
              "    }\n",
              "\n",
              "    .colab-df-convert {\n",
              "      background-color: #E8F0FE;\n",
              "      border: none;\n",
              "      border-radius: 50%;\n",
              "      cursor: pointer;\n",
              "      display: none;\n",
              "      fill: #1967D2;\n",
              "      height: 32px;\n",
              "      padding: 0 0 0 0;\n",
              "      width: 32px;\n",
              "    }\n",
              "\n",
              "    .colab-df-convert:hover {\n",
              "      background-color: #E2EBFA;\n",
              "      box-shadow: 0px 1px 2px rgba(60, 64, 67, 0.3), 0px 1px 3px 1px rgba(60, 64, 67, 0.15);\n",
              "      fill: #174EA6;\n",
              "    }\n",
              "\n",
              "    [theme=dark] .colab-df-convert {\n",
              "      background-color: #3B4455;\n",
              "      fill: #D2E3FC;\n",
              "    }\n",
              "\n",
              "    [theme=dark] .colab-df-convert:hover {\n",
              "      background-color: #434B5C;\n",
              "      box-shadow: 0px 1px 3px 1px rgba(0, 0, 0, 0.15);\n",
              "      filter: drop-shadow(0px 1px 2px rgba(0, 0, 0, 0.3));\n",
              "      fill: #FFFFFF;\n",
              "    }\n",
              "  </style>\n",
              "\n",
              "      <script>\n",
              "        const buttonEl =\n",
              "          document.querySelector('#df-8ea8244f-b2d9-4f61-98a2-72d414eb1b26 button.colab-df-convert');\n",
              "        buttonEl.style.display =\n",
              "          google.colab.kernel.accessAllowed ? 'block' : 'none';\n",
              "\n",
              "        async function convertToInteractive(key) {\n",
              "          const element = document.querySelector('#df-8ea8244f-b2d9-4f61-98a2-72d414eb1b26');\n",
              "          const dataTable =\n",
              "            await google.colab.kernel.invokeFunction('convertToInteractive',\n",
              "                                                     [key], {});\n",
              "          if (!dataTable) return;\n",
              "\n",
              "          const docLinkHtml = 'Like what you see? Visit the ' +\n",
              "            '<a target=\"_blank\" href=https://colab.research.google.com/notebooks/data_table.ipynb>data table notebook</a>'\n",
              "            + ' to learn more about interactive tables.';\n",
              "          element.innerHTML = '';\n",
              "          dataTable['output_type'] = 'display_data';\n",
              "          await google.colab.output.renderOutput(dataTable, element);\n",
              "          const docLink = document.createElement('div');\n",
              "          docLink.innerHTML = docLinkHtml;\n",
              "          element.appendChild(docLink);\n",
              "        }\n",
              "      </script>\n",
              "    </div>\n",
              "  </div>\n",
              "  "
            ]
          },
          "metadata": {},
          "execution_count": 14
        }
      ]
    },
    {
      "cell_type": "code",
      "source": [
        "print(pd.unique(df2[\"Num_children\"]))\n",
        "print(pd.unique(df2[\"Num_family\"]))\n",
        "print(pd.unique(df2[\"Account_length\"]))\n",
        "print(pd.unique(df2[\"Education_type\"]))\n",
        "print(pd.unique(df2[\"Income_type\"]))\n",
        "print(pd.unique(df2[\"Family_status\"]))\n"
      ],
      "metadata": {
        "id": "ZRpoT2ptCUg_"
      },
      "id": "ZRpoT2ptCUg_",
      "execution_count": null,
      "outputs": []
    },
    {
      "cell_type": "code",
      "source": [
        "def discretize_num(x):\n",
        "    if x >=thresh:\n",
        "      return str(thresh) + \"+\"\n",
        "    else:\n",
        "      return str(x)\n",
        "\n",
        "thresh = 3\n",
        "df3 = df2.copy()\n",
        "df3[\"Num_children\"] = df2[\"Num_children\"].apply(discretize_num)\n",
        "\n"
      ],
      "metadata": {
        "id": "fThoogClFCFs"
      },
      "id": "fThoogClFCFs",
      "execution_count": null,
      "outputs": []
    },
    {
      "cell_type": "code",
      "source": [
        "thresh = 4\n",
        "df3[\"Num_family\"] = df2[\"Num_family\"].apply(discretize_num)\n",
        "\n",
        "np.unique(df3[\"Num_family\"], return_counts=True)\n"
      ],
      "metadata": {
        "id": "lDQi1J4pHZQ_"
      },
      "id": "lDQi1J4pHZQ_",
      "execution_count": null,
      "outputs": []
    },
    {
      "cell_type": "code",
      "source": [
        "np.unique(df3[\"Age\"], return_counts=True)\n",
        "df2.hist(\"Age\", bins=100)\n",
        "# >30, 30-39, 40-49, 50-59, >=60"
      ],
      "metadata": {
        "colab": {
          "base_uri": "https://localhost:8080/",
          "height": 317
        },
        "id": "7qty88cuIKyl",
        "outputId": "5c1f6608-a806-4992-a63a-d1e145fdd61e"
      },
      "id": "7qty88cuIKyl",
      "execution_count": 41,
      "outputs": [
        {
          "output_type": "execute_result",
          "data": {
            "text/plain": [
              "array([[<matplotlib.axes._subplots.AxesSubplot object at 0x7f8edc745910>]],\n",
              "      dtype=object)"
            ]
          },
          "metadata": {},
          "execution_count": 41
        },
        {
          "output_type": "display_data",
          "data": {
            "text/plain": [
              "<Figure size 432x288 with 1 Axes>"
            ],
            "image/png": "[encoded data removed]"
          },
          "metadata": {
            "needs_background": "light"
          }
        }
      ]
    },
    {
      "cell_type": "code",
      "source": [
        "def discretize_age(x):\n",
        "  if x<30:\n",
        "    return \"<30\"\n",
        "  elif x<40:\n",
        "    return \"30-39\"\n",
        "  elif x<50:\n",
        "    return \"40-49\"\n",
        "  elif x<60:\n",
        "    return \"50-59\"\n",
        "  else:\n",
        "    return \"60>=\"  \n",
        "\n",
        "df3[\"Age\"] = df2[\"Age\"].apply(discretize_age)\n",
        "np.unique(df3[\"Age\"], return_counts=True)\n"
      ],
      "metadata": {
        "colab": {
          "base_uri": "https://localhost:8080/"
        },
        "id": "LyyTVODKI3rZ",
        "outputId": "f0e05aa5-dfb9-4c9a-c370-38ff7c4487d3"
      },
      "id": "LyyTVODKI3rZ",
      "execution_count": 32,
      "outputs": [
        {
          "output_type": "execute_result",
          "data": {
            "text/plain": [
              "(array(['30-39', '40-49', '50-59', '60>=', '<30'], dtype=object),\n",
              " array([2724, 2445, 2169, 1021, 1350]))"
            ]
          },
          "metadata": {},
          "execution_count": 32
        }
      ]
    },
    {
      "cell_type": "code",
      "source": [
        "df3.hist(\"Total_income\", bins=75, figsize=(20,20))"
      ],
      "metadata": {
        "colab": {
          "base_uri": "https://localhost:8080/",
          "height": 1000
        },
        "id": "jntGNcxlKAVl",
        "outputId": "c8f92cd4-4d68-4b0a-9f3e-7203708671da"
      },
      "id": "jntGNcxlKAVl",
      "execution_count": 50,
      "outputs": [
        {
          "output_type": "execute_result",
          "data": {
            "text/plain": [
              "<matplotlib.axes._subplots.AxesSubplot at 0x7f8edb25b9d0>"
            ]
          },
          "metadata": {},
          "execution_count": 50
        },
        {
          "output_type": "display_data",
          "data": {
            "text/plain": [
              "<Figure size 1440x1440 with 1 Axes>"
            ],
            "image/png": "[encoded data removed]"
          },
          "metadata": {
            "needs_background": "light"
          }
        }
      ]
    },
    {
      "cell_type": "code",
      "source": [
        "#df3.hist(\"Total_income\", bins=75, figsize=(20,20))\n",
        "#134997 - > 192600\n",
        "def discretize_income(x):\n",
        "  if x < 134997:\n",
        "    return \"low\"\n",
        "  elif x < 192600:\n",
        "    return \"medium\"\n",
        "  else:\n",
        "    return \"high\"\n",
        "\n",
        "df3[\"Total_income\"] = df2[\"Total_income\"].apply(discretize_income)\n",
        "np.unique(df3[\"Total_income\"], return_counts=True)\n"
      ],
      "metadata": {
        "colab": {
          "base_uri": "https://localhost:8080/"
        },
        "id": "H01gIiuRR-PU",
        "outputId": "240e07c4-367a-4cba-b8fe-4bf7a3dc151e"
      },
      "id": "H01gIiuRR-PU",
      "execution_count": 52,
      "outputs": [
        {
          "output_type": "execute_result",
          "data": {
            "text/plain": [
              "(array(['high', 'low', 'medium'], dtype=object), array([3393, 2939, 3377]))"
            ]
          },
          "metadata": {},
          "execution_count": 52
        }
      ]
    },
    {
      "cell_type": "code",
      "source": [
        "from google.colab import files\n",
        "\n",
        "df3.to_csv('processed.csv', encoding = 'utf-8-sig') \n",
        "files.download('processed.csv')"
      ],
      "metadata": {
        "colab": {
          "base_uri": "https://localhost:8080/",
          "height": 17
        },
        "id": "Ngg8MFNMTVT9",
        "outputId": "2e0095e8-b80c-4faa-abc2-a6a3df14991a"
      },
      "id": "Ngg8MFNMTVT9",
      "execution_count": 54,
      "outputs": [
        {
          "output_type": "display_data",
          "data": {
            "text/plain": [
              "<IPython.core.display.Javascript object>"
            ],
            "application/javascript": [
              "\n",
              "    async function download(id, filename, size) {\n",
              "      if (!google.colab.kernel.accessAllowed) {\n",
              "        return;\n",
              "      }\n",
              "      const div = document.createElement('div');\n",
              "      const label = document.createElement('label');\n",
              "      label.textContent = `Downloading \"${filename}\": `;\n",
              "      div.appendChild(label);\n",
              "      const progress = document.createElement('progress');\n",
              "      progress.max = size;\n",
              "      div.appendChild(progress);\n",
              "      document.body.appendChild(div);\n",
              "\n",
              "      const buffers = [];\n",
              "      let downloaded = 0;\n",
              "\n",
              "      const channel = await google.colab.kernel.comms.open(id);\n",
              "      // Send a message to notify the kernel that we're ready.\n",
              "      channel.send({})\n",
              "\n",
              "      for await (const message of channel.messages) {\n",
              "        // Send a message to notify the kernel that we're ready.\n",
              "        channel.send({})\n",
              "        if (message.buffers) {\n",
              "          for (const buffer of message.buffers) {\n",
              "            buffers.push(buffer);\n",
              "            downloaded += buffer.byteLength;\n",
              "            progress.value = downloaded;\n",
              "          }\n",
              "        }\n",
              "      }\n",
              "      const blob = new Blob(buffers, {type: 'application/binary'});\n",
              "      const a = document.createElement('a');\n",
              "      a.href = window.URL.createObjectURL(blob);\n",
              "      a.download = filename;\n",
              "      div.appendChild(a);\n",
              "      a.click();\n",
              "      div.remove();\n",
              "    }\n",
              "  "
            ]
          },
          "metadata": {}
        },
        {
          "output_type": "display_data",
          "data": {
            "text/plain": [
              "<IPython.core.display.Javascript object>"
            ],
            "application/javascript": [
              "download(\"download_2fc3a058-e7c2-45b3-9434-bb811eff7bb6\", \"processed.csv\", 789088)"
            ]
          },
          "metadata": {}
        }
      ]
    },
    {
      "cell_type": "markdown",
      "source": [
        ""
      ],
      "metadata": {
        "id": "_14HC4pPTU43"
      },
      "id": "_14HC4pPTU43"
    },
    {
      "cell_type": "markdown",
      "source": [
        ""
      ],
      "metadata": {
        "id": "0cXjBiReI0Il"
      },
      "id": "0cXjBiReI0Il"
    }
  ],
  "metadata": {
    "colab": {
      "name": "data_processing.ipynb",
      "provenance": []
    },
    "language_info": {
      "name": "python"
    },
    "kernelspec": {
      "name": "python3",
      "display_name": "Python 3"
    }
  },
  "nbformat": 4,
  "nbformat_minor": 5
}