{
 "cells": [
  {
   "cell_type": "code",
   "metadata": {
    "id": "0GTH_trA8TTS",
    "cell_id": "ae1b82a4-c736-421a-a142-4fd89f59ed96",
    "deepnote_to_be_reexecuted": false,
    "source_hash": "f22f4031",
    "execution_start": 1649435049779,
    "execution_millis": 37,
    "owner_user_id": "d3c0040e-1334-4d1d-af60-5a227b82581a",
    "deepnote_cell_type": "code",
    "deepnote_cell_height": 352.1875,
    "deepnote_output_heights": [
     21.1875
    ]
   },
   "source": "import pandas as pd\nimport numpy as np\n\nurl = \"data/clean_data.csv\"\ndf = pd.read_csv(url)\n\ndf.head()\n\n\"\"\"\nda eliminare: ID, work_phone, phone, email, years_employed, occupation_type, housing_type, Num_children\nok: gendro, unemploued, account_length, age, income_type, education_type, family status\nda tenere: own_car, own_property,\tNum_family, total_income, target\n\"\"\"\n",
   "execution_count": 17,
   "outputs": [
    {
     "output_type": "execute_result",
     "execution_count": 17,
     "data": {
      "text/plain": "'\\nda eliminare: ID, work_phone, phone, email, years_employed, occupation_type, housing_type, Num_children\\nok: gendro, unemploued, account_length, age, income_type, education_type, family status\\nda tenere: own_car, own_property,\\tNum_family, total_income, target\\n'"
     },
     "metadata": {}
    }
   ]
  },
  {
   "cell_type": "code",
   "metadata": {
    "colab": {
     "base_uri": "https://localhost:8080/",
     "height": 285
    },
    "id": "QmehouJl8ht2",
    "outputId": "29228e44-cc1c-4471-d227-1fe4048ca3b7",
    "cell_id": "00001-d3e56bbb-0896-4f34-a69a-54f32f43897c",
    "deepnote_to_be_reexecuted": false,
    "source_hash": "6ba0ddf1",
    "execution_start": 1649435055247,
    "execution_millis": 65,
    "deepnote_cell_type": "code",
    "deepnote_cell_height": 520
   },
   "source": "df2 = df.drop([\"ID\", \"Work_phone\", \"Phone\", \"Email\", \"Years_employed\", \"Occupation_type\", \"Housing_type\", \"Num_children\"], axis=1)\n\ndf2[\"Age\"] = df2[\"Age\"].apply(np.floor)\ndf2[\"Age\"] = df2[\"Age\"].astype(np.int8)\n\ndf2.head()\n",
   "execution_count": 18,
   "outputs": [
    {
     "output_type": "execute_result",
     "execution_count": 18,
     "data": {
      "application/vnd.deepnote.dataframe.v3+json": {
       "column_count": 12,
       "row_count": 5,
       "columns": [
        {
         "name": "Gender",
         "dtype": "int64",
         "stats": {
          "unique_count": 2,
          "nan_count": 0,
          "min": "0",
          "max": "1",
          "histogram": [
           {
            "bin_start": 0,
            "bin_end": 0.1,
            "count": 2
           },
           {
            "bin_start": 0.1,
            "bin_end": 0.2,
            "count": 0
           },
           {
            "bin_start": 0.2,
            "bin_end": 0.30000000000000004,
            "count": 0
           },
           {
            "bin_start": 0.30000000000000004,
            "bin_end": 0.4,
            "count": 0
           },
           {
            "bin_start": 0.4,
            "bin_end": 0.5,
            "count": 0
           },
           {
            "bin_start": 0.5,
            "bin_end": 0.6000000000000001,
            "count": 0
           },
           {
            "bin_start": 0.6000000000000001,
            "bin_end": 0.7000000000000001,
            "count": 0
           },
           {
            "bin_start": 0.7000000000000001,
            "bin_end": 0.8,
            "count": 0
           },
           {
            "bin_start": 0.8,
            "bin_end": 0.9,
            "count": 0
           },
           {
            "bin_start": 0.9,
            "bin_end": 1,
            "count": 3
           }
          ]
         }
        },
        {
         "name": "Own_car",
         "dtype": "int64",
         "stats": {
          "unique_count": 2,
          "nan_count": 0,
          "min": "0",
          "max": "1",
          "histogram": [
           {
            "bin_start": 0,
            "bin_end": 0.1,
            "count": 2
           },
           {
            "bin_start": 0.1,
            "bin_end": 0.2,
            "count": 0
           },
           {
            "bin_start": 0.2,
            "bin_end": 0.30000000000000004,
            "count": 0
           },
           {
            "bin_start": 0.30000000000000004,
            "bin_end": 0.4,
            "count": 0
           },
           {
            "bin_start": 0.4,
            "bin_end": 0.5,
            "count": 0
           },
           {
            "bin_start": 0.5,
            "bin_end": 0.6000000000000001,
            "count": 0
           },
           {
            "bin_start": 0.6000000000000001,
            "bin_end": 0.7000000000000001,
            "count": 0
           },
           {
            "bin_start": 0.7000000000000001,
            "bin_end": 0.8,
            "count": 0
           },
           {
            "bin_start": 0.8,
            "bin_end": 0.9,
            "count": 0
           },
           {
            "bin_start": 0.9,
            "bin_end": 1,
            "count": 3
           }
          ]
         }
        },
        {
         "name": "Own_property",
         "dtype": "int64",
         "stats": {
          "unique_count": 1,
          "nan_count": 0,
          "min": "1",
          "max": "1",
          "histogram": [
           {
            "bin_start": 0.5,
            "bin_end": 0.6,
            "count": 0
           },
           {
            "bin_start": 0.6,
            "bin_end": 0.7,
            "count": 0
           },
           {
            "bin_start": 0.7,
            "bin_end": 0.8,
            "count": 0
           },
           {
            "bin_start": 0.8,
            "bin_end": 0.9,
            "count": 0
           },
           {
            "bin_start": 0.9,
            "bin_end": 1,
            "count": 0
           },
           {
            "bin_start": 1,
            "bin_end": 1.1,
            "count": 5
           },
           {
            "bin_start": 1.1,
            "bin_end": 1.2000000000000002,
            "count": 0
           },
           {
            "bin_start": 1.2000000000000002,
            "bin_end": 1.3,
            "count": 0
           },
           {
            "bin_start": 1.3,
            "bin_end": 1.4,
            "count": 0
           },
           {
            "bin_start": 1.4,
            "bin_end": 1.5,
            "count": 0
           }
          ]
         }
        },
        {
         "name": "Unemployed",
         "dtype": "int64",
         "stats": {
          "unique_count": 2,
          "nan_count": 0,
          "min": "0",
          "max": "1",
          "histogram": [
           {
            "bin_start": 0,
            "bin_end": 0.1,
            "count": 4
           },
           {
            "bin_start": 0.1,
            "bin_end": 0.2,
            "count": 0
           },
           {
            "bin_start": 0.2,
            "bin_end": 0.30000000000000004,
            "count": 0
           },
           {
            "bin_start": 0.30000000000000004,
            "bin_end": 0.4,
            "count": 0
           },
           {
            "bin_start": 0.4,
            "bin_end": 0.5,
            "count": 0
           },
           {
            "bin_start": 0.5,
            "bin_end": 0.6000000000000001,
            "count": 0
           },
           {
            "bin_start": 0.6000000000000001,
            "bin_end": 0.7000000000000001,
            "count": 0
           },
           {
            "bin_start": 0.7000000000000001,
            "bin_end": 0.8,
            "count": 0
           },
           {
            "bin_start": 0.8,
            "bin_end": 0.9,
            "count": 0
           },
           {
            "bin_start": 0.9,
            "bin_end": 1,
            "count": 1
           }
          ]
         }
        },
        {
         "name": "Num_family",
         "dtype": "int64",
         "stats": {
          "unique_count": 2,
          "nan_count": 0,
          "min": "1",
          "max": "2",
          "histogram": [
           {
            "bin_start": 1,
            "bin_end": 1.1,
            "count": 2
           },
           {
            "bin_start": 1.1,
            "bin_end": 1.2,
            "count": 0
           },
           {
            "bin_start": 1.2,
            "bin_end": 1.3,
            "count": 0
           },
           {
            "bin_start": 1.3,
            "bin_end": 1.4,
            "count": 0
           },
           {
            "bin_start": 1.4,
            "bin_end": 1.5,
            "count": 0
           },
           {
            "bin_start": 1.5,
            "bin_end": 1.6,
            "count": 0
           },
           {
            "bin_start": 1.6,
            "bin_end": 1.7000000000000002,
            "count": 0
           },
           {
            "bin_start": 1.7000000000000002,
            "bin_end": 1.8,
            "count": 0
           },
           {
            "bin_start": 1.8,
            "bin_end": 1.9,
            "count": 0
           },
           {
            "bin_start": 1.9,
            "bin_end": 2,
            "count": 3
           }
          ]
         }
        },
        {
         "name": "Account_length",
         "dtype": "int64",
         "stats": {
          "unique_count": 5,
          "nan_count": 0,
          "min": "4",
          "max": "29",
          "histogram": [
           {
            "bin_start": 4,
            "bin_end": 6.5,
            "count": 2
           },
           {
            "bin_start": 6.5,
            "bin_end": 9,
            "count": 0
           },
           {
            "bin_start": 9,
            "bin_end": 11.5,
            "count": 0
           },
           {
            "bin_start": 11.5,
            "bin_end": 14,
            "count": 0
           },
           {
            "bin_start": 14,
            "bin_end": 16.5,
            "count": 1
           },
           {
            "bin_start": 16.5,
            "bin_end": 19,
            "count": 0
           },
           {
            "bin_start": 19,
            "bin_end": 21.5,
            "count": 1
           },
           {
            "bin_start": 21.5,
            "bin_end": 24,
            "count": 0
           },
           {
            "bin_start": 24,
            "bin_end": 26.5,
            "count": 0
           },
           {
            "bin_start": 26.5,
            "bin_end": 29,
            "count": 1
           }
          ]
         }
        },
        {
         "name": "Total_income",
         "dtype": "float64",
         "stats": {
          "unique_count": 4,
          "nan_count": 0,
          "min": "112500.0",
          "max": "427500.0",
          "histogram": [
           {
            "bin_start": 112500,
            "bin_end": 144000,
            "count": 1
           },
           {
            "bin_start": 144000,
            "bin_end": 175500,
            "count": 0
           },
           {
            "bin_start": 175500,
            "bin_end": 207000,
            "count": 0
           },
           {
            "bin_start": 207000,
            "bin_end": 238500,
            "count": 0
           },
           {
            "bin_start": 238500,
            "bin_end": 270000,
            "count": 0
           },
           {
            "bin_start": 270000,
            "bin_end": 301500,
            "count": 3
           },
           {
            "bin_start": 301500,
            "bin_end": 333000,
            "count": 0
           },
           {
            "bin_start": 333000,
            "bin_end": 364500,
            "count": 0
           },
           {
            "bin_start": 364500,
            "bin_end": 396000,
            "count": 0
           },
           {
            "bin_start": 396000,
            "bin_end": 427500,
            "count": 1
           }
          ]
         }
        },
        {
         "name": "Age",
         "dtype": "int8",
         "stats": {
          "unique_count": 5,
          "nan_count": 0,
          "min": "32",
          "max": "61",
          "histogram": [
           {
            "bin_start": 32,
            "bin_end": 34.9,
            "count": 1
           },
           {
            "bin_start": 34.9,
            "bin_end": 37.8,
            "count": 0
           },
           {
            "bin_start": 37.8,
            "bin_end": 40.7,
            "count": 0
           },
           {
            "bin_start": 40.7,
            "bin_end": 43.6,
            "count": 0
           },
           {
            "bin_start": 43.6,
            "bin_end": 46.5,
            "count": 1
           },
           {
            "bin_start": 46.5,
            "bin_end": 49.4,
            "count": 0
           },
           {
            "bin_start": 49.4,
            "bin_end": 52.3,
            "count": 1
           },
           {
            "bin_start": 52.3,
            "bin_end": 55.2,
            "count": 0
           },
           {
            "bin_start": 55.2,
            "bin_end": 58.099999999999994,
            "count": 1
           },
           {
            "bin_start": 58.099999999999994,
            "bin_end": 61,
            "count": 1
           }
          ]
         }
        },
        {
         "name": "Income_type",
         "dtype": "object",
         "stats": {
          "unique_count": 3,
          "nan_count": 0,
          "categories": [
           {
            "name": "Working",
            "count": 3
           },
           {
            "name": "Commercial associate",
            "count": 1
           },
           {
            "name": "Pensioner",
            "count": 1
           }
          ]
         }
        },
        {
         "name": "Education_type",
         "dtype": "object",
         "stats": {
          "unique_count": 2,
          "nan_count": 0,
          "categories": [
           {
            "name": "Higher education",
            "count": 3
           },
           {
            "name": "Secondary / secondary special",
            "count": 2
           }
          ]
         }
        },
        {
         "name": "Family_status",
         "dtype": "object",
         "stats": {
          "unique_count": 4,
          "nan_count": 0,
          "categories": [
           {
            "name": "Married",
            "count": 2
           },
           {
            "name": "Civil marriage",
            "count": 1
           },
           {
            "name": "2 others",
            "count": 2
           }
          ]
         }
        },
        {
         "name": "Target",
         "dtype": "int64",
         "stats": {
          "unique_count": 2,
          "nan_count": 0,
          "min": "0",
          "max": "1",
          "histogram": [
           {
            "bin_start": 0,
            "bin_end": 0.1,
            "count": 4
           },
           {
            "bin_start": 0.1,
            "bin_end": 0.2,
            "count": 0
           },
           {
            "bin_start": 0.2,
            "bin_end": 0.30000000000000004,
            "count": 0
           },
           {
            "bin_start": 0.30000000000000004,
            "bin_end": 0.4,
            "count": 0
           },
           {
            "bin_start": 0.4,
            "bin_end": 0.5,
            "count": 0
           },
           {
            "bin_start": 0.5,
            "bin_end": 0.6000000000000001,
            "count": 0
           },
           {
            "bin_start": 0.6000000000000001,
            "bin_end": 0.7000000000000001,
            "count": 0
           },
           {
            "bin_start": 0.7000000000000001,
            "bin_end": 0.8,
            "count": 0
           },
           {
            "bin_start": 0.8,
            "bin_end": 0.9,
            "count": 0
           },
           {
            "bin_start": 0.9,
            "bin_end": 1,
            "count": 1
           }
          ]
         }
        },
        {
         "name": "_deepnote_index_column",
         "dtype": "int64"
        }
       ],
       "rows": [
        {
         "Gender": 1,
         "Own_car": 1,
         "Own_property": 1,
         "Unemployed": 0,
         "Num_family": 2,
         "Account_length": 15,
         "Total_income": 427500,
         "Age": 32,
         "Income_type": "Working",
         "Education_type": "Higher education",
         "Family_status": "Civil marriage",
         "Target": 1,
         "_deepnote_index_column": 0
        },
        {
         "Gender": 1,
         "Own_car": 1,
         "Own_property": 1,
         "Unemployed": 0,
         "Num_family": 2,
         "Account_length": 29,
         "Total_income": 112500,
         "Age": 58,
         "Income_type": "Working",
         "Education_type": "Secondary / secondary special",
         "Family_status": "Married",
         "Target": 0,
         "_deepnote_index_column": 1
        },
        {
         "Gender": 0,
         "Own_car": 0,
         "Own_property": 1,
         "Unemployed": 0,
         "Num_family": 1,
         "Account_length": 4,
         "Total_income": 270000,
         "Age": 52,
         "Income_type": "Commercial associate",
         "Education_type": "Secondary / secondary special",
         "Family_status": "Single / not married",
         "Target": 0,
         "_deepnote_index_column": 2
        },
        {
         "Gender": 0,
         "Own_car": 0,
         "Own_property": 1,
         "Unemployed": 1,
         "Num_family": 1,
         "Account_length": 20,
         "Total_income": 283500,
         "Age": 61,
         "Income_type": "Pensioner",
         "Education_type": "Higher education",
         "Family_status": "Separated",
         "Target": 0,
         "_deepnote_index_column": 3
        },
        {
         "Gender": 1,
         "Own_car": 1,
         "Own_property": 1,
         "Unemployed": 0,
         "Num_family": 2,
         "Account_length": 5,
         "Total_income": 270000,
         "Age": 46,
         "Income_type": "Working",
         "Education_type": "Higher education",
         "Family_status": "Married",
         "Target": 0,
         "_deepnote_index_column": 4
        }
       ]
      },
      "text/plain": "   Gender  Own_car  Own_property  Unemployed  Num_family  Account_length  \\\n0       1        1             1           0           2              15   \n1       1        1             1           0           2              29   \n2       0        0             1           0           1               4   \n3       0        0             1           1           1              20   \n4       1        1             1           0           2               5   \n\n   Total_income  Age           Income_type                 Education_type  \\\n0      427500.0   32               Working               Higher education   \n1      112500.0   58               Working  Secondary / secondary special   \n2      270000.0   52  Commercial associate  Secondary / secondary special   \n3      283500.0   61             Pensioner               Higher education   \n4      270000.0   46               Working               Higher education   \n\n          Family_status  Target  \n0        Civil marriage       1  \n1               Married       0  \n2  Single / not married       0  \n3             Separated       0  \n4               Married       0  ",
      "text/html": "<div>\n<style scoped>\n    .dataframe tbody tr th:only-of-type {\n        vertical-align: middle;\n    }\n\n    .dataframe tbody tr th {\n        vertical-align: top;\n    }\n\n    .dataframe thead th {\n        text-align: right;\n    }\n</style>\n<table border=\"1\" class=\"dataframe\">\n  <thead>\n    <tr style=\"text-align: right;\">\n      <th></th>\n      <th>Gender</th>\n      <th>Own_car</th>\n      <th>Own_property</th>\n      <th>Unemployed</th>\n      <th>Num_family</th>\n      <th>Account_length</th>\n      <th>Total_income</th>\n      <th>Age</th>\n      <th>Income_type</th>\n      <th>Education_type</th>\n      <th>Family_status</th>\n      <th>Target</th>\n    </tr>\n  </thead>\n  <tbody>\n    <tr>\n      <th>0</th>\n      <td>1</td>\n      <td>1</td>\n      <td>1</td>\n      <td>0</td>\n      <td>2</td>\n      <td>15</td>\n      <td>427500.0</td>\n      <td>32</td>\n      <td>Working</td>\n      <td>Higher education</td>\n      <td>Civil marriage</td>\n      <td>1</td>\n    </tr>\n    <tr>\n      <th>1</th>\n      <td>1</td>\n      <td>1</td>\n      <td>1</td>\n      <td>0</td>\n      <td>2</td>\n      <td>29</td>\n      <td>112500.0</td>\n      <td>58</td>\n      <td>Working</td>\n      <td>Secondary / secondary special</td>\n      <td>Married</td>\n      <td>0</td>\n    </tr>\n    <tr>\n      <th>2</th>\n      <td>0</td>\n      <td>0</td>\n      <td>1</td>\n      <td>0</td>\n      <td>1</td>\n      <td>4</td>\n      <td>270000.0</td>\n      <td>52</td>\n      <td>Commercial associate</td>\n      <td>Secondary / secondary special</td>\n      <td>Single / not married</td>\n      <td>0</td>\n    </tr>\n    <tr>\n      <th>3</th>\n      <td>0</td>\n      <td>0</td>\n      <td>1</td>\n      <td>1</td>\n      <td>1</td>\n      <td>20</td>\n      <td>283500.0</td>\n      <td>61</td>\n      <td>Pensioner</td>\n      <td>Higher education</td>\n      <td>Separated</td>\n      <td>0</td>\n    </tr>\n    <tr>\n      <th>4</th>\n      <td>1</td>\n      <td>1</td>\n      <td>1</td>\n      <td>0</td>\n      <td>2</td>\n      <td>5</td>\n      <td>270000.0</td>\n      <td>46</td>\n      <td>Working</td>\n      <td>Higher education</td>\n      <td>Married</td>\n      <td>0</td>\n    </tr>\n  </tbody>\n</table>\n</div>"
     },
     "metadata": {}
    }
   ]
  },
  {
   "cell_type": "code",
   "metadata": {
    "id": "ZRpoT2ptCUg_",
    "cell_id": "00002-0ede5da2-e441-4489-9425-a57b7eda8e81",
    "deepnote_to_be_reexecuted": false,
    "source_hash": "e3e0e558",
    "execution_start": 1649435057480,
    "execution_millis": 13,
    "deepnote_cell_type": "code",
    "deepnote_cell_height": 325.5
   },
   "source": "print(pd.unique(df2[\"Num_family\"]))\nprint(pd.unique(df2[\"Account_length\"]))\nprint(pd.unique(df2[\"Education_type\"]))\nprint(pd.unique(df2[\"Income_type\"]))\nprint(pd.unique(df2[\"Family_status\"]))",
   "execution_count": 19,
   "outputs": [
    {
     "name": "stdout",
     "text": "[ 2  1  5  3  4  6 15  7 20  9]\n[15 29  4 20  5 17 25 31 44 24 39 43 10 21 40 11  7 12 45 49 30 22 13 16\n  8 34  0  3 51 46 56 38 35 33 36 27 26  6 19 47 28 60  9 57 32 55 14 23\n 54 58 59 42 37 41  1 48 53 50 52 18  2]\n['Higher education' 'Secondary / secondary special' 'Incomplete higher'\n 'Lower secondary' 'Academic degree']\n['Working' 'Commercial associate' 'Pensioner' 'State servant' 'Student']\n['Civil marriage' 'Married' 'Single / not married' 'Separated' 'Widow']\n",
     "output_type": "stream"
    }
   ]
  },
  {
   "cell_type": "code",
   "metadata": {
    "id": "fThoogClFCFs",
    "cell_id": "00003-328ca7bd-9d85-4961-baf7-f6d4a223aa00",
    "deepnote_to_be_reexecuted": false,
    "source_hash": "f99b5d0c",
    "execution_start": 1649435059631,
    "execution_millis": 4,
    "deepnote_cell_type": "code",
    "deepnote_cell_height": 171
   },
   "source": "def discretize_num(x):\n    if x >=thresh:\n      return str(thresh) + \"+\"\n    else:\n      return str(x)\n",
   "execution_count": 20,
   "outputs": []
  },
  {
   "cell_type": "code",
   "metadata": {
    "id": "lDQi1J4pHZQ_",
    "cell_id": "00004-d684faed-21ea-4ed2-aca6-78002872cdfe",
    "deepnote_to_be_reexecuted": false,
    "source_hash": "cf1d596d",
    "execution_start": 1649435151840,
    "execution_millis": 21,
    "deepnote_cell_type": "code",
    "deepnote_cell_height": 208.1875,
    "deepnote_output_heights": [
     21.1875
    ]
   },
   "source": "thresh = 4\n\ndf3 = df2.copy()\ndf3[\"Num_family\"] = df2[\"Num_family\"].apply(discretize_num)\n\nnp.unique(df3[\"Num_family\"], return_counts=True)",
   "execution_count": 22,
   "outputs": [
    {
     "output_type": "execute_result",
     "execution_count": 22,
     "data": {
      "text/plain": "(array(['1', '2', '3', '4+'], dtype=object), array([1947, 5183, 1635,  944]))"
     },
     "metadata": {}
    }
   ]
  },
  {
   "cell_type": "code",
   "metadata": {
    "colab": {
     "base_uri": "https://localhost:8080/",
     "height": 317
    },
    "id": "7qty88cuIKyl",
    "outputId": "5c1f6608-a806-4992-a63a-d1e145fdd61e",
    "cell_id": "00005-71861b7e-bc8d-4e56-9462-af8b91958661",
    "deepnote_to_be_reexecuted": false,
    "source_hash": "e354e70f",
    "execution_start": 1649435155814,
    "execution_millis": 528,
    "deepnote_cell_type": "code",
    "deepnote_cell_height": 451.1875,
    "deepnote_output_heights": [
     21.1875,
     266
    ]
   },
   "source": "np.unique(df3[\"Age\"], return_counts=True)\ndf2.hist(\"Age\", bins=100)\n# >30, 30-39, 40-49, 50-59, >=60",
   "execution_count": 23,
   "outputs": [
    {
     "output_type": "execute_result",
     "execution_count": 23,
     "data": {
      "text/plain": "array([[<AxesSubplot:title={'center':'Age'}>]], dtype=object)"
     },
     "metadata": {}
    },
    {
     "data": {
      "text/plain": "<Figure size 432x288 with 1 Axes>",
      "image/png": "[encoded data removed]"
     },
     "metadata": {
      "needs_background": "light",
      "image/png": {
       "width": 378,
       "height": 264
      }
     },
     "output_type": "display_data"
    }
   ]
  },
  {
   "cell_type": "code",
   "metadata": {
    "colab": {
     "base_uri": "https://localhost:8080/"
    },
    "id": "LyyTVODKI3rZ",
    "outputId": "f0e05aa5-dfb9-4c9a-c370-38ff7c4487d3",
    "cell_id": "00006-c6f21d7e-86b4-400c-b213-272e596ad426",
    "deepnote_to_be_reexecuted": false,
    "source_hash": "742ba6d0",
    "execution_start": 1649435161312,
    "execution_millis": 84,
    "deepnote_cell_type": "code",
    "deepnote_cell_height": 371.375,
    "deepnote_output_heights": [
     40.375
    ]
   },
   "source": "def discretize_age(x):\n  if x<30:\n    return \"<30\"\n  elif x<40:\n    return \"30-39\"\n  elif x<50:\n    return \"40-49\"\n  elif x<60:\n    return \"50-59\"\n  else:\n    return \"60>=\"  \n\ndf3[\"Age\"] = df2[\"Age\"].apply(discretize_age)\nnp.unique(df3[\"Age\"], return_counts=True)",
   "execution_count": 24,
   "outputs": [
    {
     "output_type": "execute_result",
     "execution_count": 24,
     "data": {
      "text/plain": "(array(['30-39', '40-49', '50-59', '60>=', '<30'], dtype=object),\n array([2724, 2445, 2169, 1021, 1350]))"
     },
     "metadata": {}
    }
   ]
  },
  {
   "cell_type": "code",
   "metadata": {
    "colab": {
     "base_uri": "https://localhost:8080/",
     "height": 1000
    },
    "id": "jntGNcxlKAVl",
    "outputId": "c8f92cd4-4d68-4b0a-9f3e-7203708671da",
    "cell_id": "00007-669ea30e-3e77-4da4-8419-e6c7aa935bfe",
    "deepnote_to_be_reexecuted": false,
    "source_hash": "f4efc6dd",
    "execution_start": 1649435163902,
    "execution_millis": 500,
    "deepnote_cell_type": "code",
    "deepnote_cell_height": 755.1875,
    "deepnote_output_heights": [
     21.1875,
     606
    ]
   },
   "source": "df3.hist(\"Total_income\", bins=75, figsize=(10,10))",
   "execution_count": 25,
   "outputs": [
    {
     "output_type": "execute_result",
     "execution_count": 25,
     "data": {
      "text/plain": "array([[<AxesSubplot:title={'center':'Total_income'}>]], dtype=object)"
     },
     "metadata": {}
    },
    {
     "data": {
      "text/plain": "<Figure size 720x720 with 1 Axes>",
      "image/png": "[encoded data removed]"
     },
     "metadata": {
      "needs_background": "light",
      "image/png": {
       "width": 604,
       "height": 604
      }
     },
     "output_type": "display_data"
    }
   ]
  },
  {
   "cell_type": "markdown",
   "source": "Discretization of totali income has been performed considering and equi-frequency kind of splitting",
   "metadata": {
    "cell_id": "798a5472cd4849a5bbdc58daea2a570c",
    "tags": [],
    "deepnote_cell_type": "markdown",
    "deepnote_cell_height": 52.390625
   }
  },
  {
   "cell_type": "code",
   "metadata": {
    "colab": {
     "base_uri": "https://localhost:8080/"
    },
    "id": "H01gIiuRR-PU",
    "outputId": "240e07c4-367a-4cba-b8fe-4bf7a3dc151e",
    "cell_id": "00008-9726c453-d15a-49b2-9aa7-cbdbf2012fe2",
    "deepnote_to_be_reexecuted": false,
    "source_hash": "ae0d22af",
    "execution_start": 1649435167456,
    "execution_millis": 20,
    "owner_user_id": "14885735-5940-40fe-a39a-7ab7fac88e2b",
    "deepnote_cell_type": "code",
    "deepnote_cell_height": 136.1875,
    "deepnote_output_heights": [
     21.1875
    ]
   },
   "source": "df3[\"Total_income\"] =  pd.qcut(df2['Total_income'], 3, labels=[\"low\", \"medium\", \"high\"])\nnp.unique(df3[\"Total_income\"], return_counts=True)",
   "execution_count": 26,
   "outputs": [
    {
     "output_type": "execute_result",
     "execution_count": 26,
     "data": {
      "text/plain": "(array(['high', 'low', 'medium'], dtype=object), array([2777, 4078, 2854]))"
     },
     "metadata": {}
    }
   ]
  },
  {
   "cell_type": "code",
   "metadata": {
    "colab": {
     "base_uri": "https://localhost:8080/",
     "height": 1000
    },
    "id": "SnQmRN22Vg6b",
    "outputId": "e2aee1da-d83e-4f35-f5bb-66238844a3ec",
    "cell_id": "00009-733b99ad-4386-4fa9-be23-fe47c6e062fa",
    "deepnote_to_be_reexecuted": false,
    "source_hash": "8f61b129",
    "execution_start": 1649435169204,
    "execution_millis": 556,
    "deepnote_cell_type": "code",
    "deepnote_cell_height": 760.1875,
    "deepnote_output_heights": [
     21.1875,
     611
    ]
   },
   "source": "df3.hist(\"Account_length\", bins=75, figsize=(20,20))",
   "execution_count": 27,
   "outputs": [
    {
     "output_type": "execute_result",
     "execution_count": 27,
     "data": {
      "text/plain": "array([[<AxesSubplot:title={'center':'Account_length'}>]], dtype=object)"
     },
     "metadata": {}
    },
    {
     "data": {
      "text/plain": "<Figure size 1440x1440 with 1 Axes>",
      "image/png": "[encoded data removed]"
     },
     "metadata": {
      "needs_background": "light",
      "image/png": {
       "width": 1156,
       "height": 1134
      }
     },
     "output_type": "display_data"
    }
   ]
  },
  {
   "cell_type": "code",
   "metadata": {
    "colab": {
     "base_uri": "https://localhost:8080/"
    },
    "id": "cw7WuTAnV5-H",
    "outputId": "2424e022-6935-431f-8ba3-db9003c5a069",
    "cell_id": "00010-87a348c9-1974-4749-b159-ea7186f6627f",
    "deepnote_to_be_reexecuted": false,
    "source_hash": "51a38312",
    "execution_start": 1649435171851,
    "execution_millis": 209,
    "deepnote_cell_type": "code",
    "deepnote_cell_height": 335.375,
    "deepnote_output_heights": [
     40.375
    ]
   },
   "source": "def discretize_al(x):\n  if x < 12:\n    return \"<1y\"\n  elif x < 24:\n    return \"1y-2y\"\n  elif x<36:\n    return \"2y-3y\"\n  else:\n    return \"3y+\"\n\ndf3[\"Account_length\"] = df2[\"Account_length\"].apply(discretize_al)\nnp.unique(df3[\"Account_length\"], return_counts=True)",
   "execution_count": 28,
   "outputs": [
    {
     "output_type": "execute_result",
     "execution_count": 28,
     "data": {
      "text/plain": "(array(['1y-2y', '2y-3y', '3y+', '<1y'], dtype=object),\n array([2321, 1943, 3306, 2139]))"
     },
     "metadata": {}
    }
   ]
  },
  {
   "cell_type": "code",
   "source": "df3[\"Gender\"]       = df3[\"Gender\"].astype(str)\ndf3[\"Own_car\"]      = df3[\"Own_car\"].astype(str)\ndf3[\"Own_property\"] = df3[\"Own_property\"].astype(str)\ndf3[\"Unemployed\"]   = df3[\"Unemployed\"].astype(str)\ndf3[\"Target\"]       = df3[\"Target\"].astype(str)\n\ndataType = df3.dtypes\nprint(dataType)",
   "metadata": {
    "cell_id": "9e3932d58b3f4c82b86ac512d2dfc2c8",
    "tags": [],
    "deepnote_to_be_reexecuted": false,
    "source_hash": "69d21e7e",
    "execution_start": 1649435348291,
    "execution_millis": 27,
    "deepnote_cell_type": "code",
    "deepnote_cell_height": 480.4375
   },
   "outputs": [
    {
     "name": "stdout",
     "text": "Gender              object\nOwn_car             object\nOwn_property        object\nUnemployed          object\nNum_family          object\nAccount_length      object\nTotal_income      category\nAge                 object\nIncome_type         object\nEducation_type      object\nFamily_status       object\nTarget              object\ndtype: object\n",
     "output_type": "stream"
    }
   ],
   "execution_count": 31
  },
  {
   "cell_type": "code",
   "metadata": {
    "colab": {
     "base_uri": "https://localhost:8080/",
     "height": 17
    },
    "id": "Ngg8MFNMTVT9",
    "outputId": "d2e9d12a-b406-403a-fc0c-c52056284c6d",
    "cell_id": "00011-9bca13b7-e06a-4125-9121-9f405bc02536",
    "deepnote_to_be_reexecuted": false,
    "source_hash": "f55b610a",
    "execution_start": 1648492638430,
    "execution_millis": 63,
    "deepnote_cell_type": "code",
    "deepnote_cell_height": 81
   },
   "source": "df3.to_csv('data/processed.csv', encoding = 'utf-8-sig', index=False) ",
   "execution_count": null,
   "outputs": []
  },
  {
   "cell_type": "markdown",
   "source": "",
   "metadata": {
    "id": "_14HC4pPTU43",
    "cell_id": "00012-841cf2ae-f5a9-42e9-acb3-36139ace76d8",
    "deepnote_cell_type": "markdown",
    "deepnote_cell_height": 46
   }
  },
  {
   "cell_type": "markdown",
   "source": "",
   "metadata": {
    "id": "0cXjBiReI0Il",
    "cell_id": "00013-6873e656-2d13-43ec-9bec-c1a152f84b15",
    "deepnote_cell_type": "markdown",
    "deepnote_cell_height": 46
   }
  },
  {
   "cell_type": "markdown",
   "source": "<a style='text-decoration:none;line-height:16px;display:flex;color:#5B5B62;padding:10px;justify-content:end;' href='https://deepnote.com?utm_source=created-in-deepnote-cell&projectId=03282642-4d6b-431b-a45f-9f21a6236fff' target=\"_blank\">\n<img alt='Created in deepnote.com' style='display:inline;max-height:16px;margin:0px;margin-right:7.5px;' src='data:image/svg+xml;base64,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' > </img>\nCreated in <span style='font-weight:600;margin-left:4px;'>Deepnote</span></a>",
   "metadata": {
    "tags": [],
    "created_in_deepnote_cell": true,
    "deepnote_cell_type": "markdown"
   }
  }
 ],
 "nbformat": 4,
 "nbformat_minor": 5,
 "metadata": {
  "colab": {
   "name": "data_processing.ipynb",
   "provenance": []
  },
  "language_info": {
   "name": "python"
  },
  "kernelspec": {
   "name": "python3",
   "display_name": "Python 3"
  },
  "deepnote_notebook_id": "8ca11451-d7fa-4407-becf-306f84bdcbb5",
  "deepnote": {},
  "deepnote_execution_queue": []
 }
}