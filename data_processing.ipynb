{
 "cells": [
  {
   "cell_type": "markdown",
   "id": "3f408d05",
   "metadata": {
    "cell_id": "08c0ee1507164ad1973520f3a385a16c",
    "deepnote_cell_height": 352,
    "deepnote_cell_type": "markdown",
    "tags": []
   },
   "source": [
    "## Fundamentals of Artificial Intelligence and Knowledge Representation \n",
    "## Module 3\n",
    "### Members of the group for this project:\n",
    "#### - Dell'Olio Domenico - ID: 0001037814 - domenico.dellolio@studio.unibo.it\n",
    "#### - Delvecchio Giovanni Pio - ID: 0001037185 - giovanni.delvecchio2@studio.unibo.it\n",
    "#### - Disabato Raffaele - ID: 0001057619 - raffaele.disabato@studio.unibo.it"
   ]
  },
  {
   "cell_type": "markdown",
   "id": "22795b12",
   "metadata": {
    "cell_id": "0b99ed6bd81a40b3b18a9f70dc131681",
    "deepnote_cell_height": 1088.28125,
    "deepnote_cell_type": "markdown",
    "tags": []
   },
   "source": [
    "# Dataset: Credit Card Classification - clean data\n",
    "##### source: https://www.kaggle.com/datasets/samuelcortinhas/credit-card-classification-clean-data\n",
    "\n",
    "## 1. Description\n",
    "The dataset we employed is composed of 9709 rows x 20 columns representing different clients of a credit card service.\n",
    "From the few information that are provided on the dataset, we know that it has been obtained by processing another original dataset and we can assume all the data come from chinese clients, since currency is expressed in yuan. No critical personal information is proposed, except for the client'IDs.\n",
    "<br>The attributes represented by each column are:\n",
    "- ID: the client ID in the database\n",
    "- **Gender**: A boolean variable indicating the gender of the client, where 0 = \"female\" and 1 = \"male\"\n",
    "- **Own_car**: A boolean variable indicating whether the client owns a car (1) or not (0)\n",
    "- **Own_property**: A boolean variable indicating whether the client owns property (1) or not (0)\n",
    "- Work_phone: A boolean variable indicating whether the client owns a work phone (1) or not (0)\n",
    "- Phone: A boolean variable indicating whether the client owns a phone (1) or not (0)\n",
    "- Email: A boolean variable indicating whether the client owns a email address (1) or not (0)\n",
    "- **Unemployed**: A boolean variable indicating whether the client is currently unemployed from his work (1) or not (0)\n",
    "- Num_children: Integer variable indicating the number of children the client has\n",
    "- **Num_family**: Integer variable indicating the number of members in the family of the client\n",
    "- **Account_length**: Integer variables representing the number of months of credit card ownership\n",
    "- **Total_income**: Integer variable indicating the total annual income of the client in terms of chinese yuan (CNY). (ed: to current date 1 CNY ~ 0.14€)\n",
    "- **Age**: Float variable indicating the age of the client. The unusual data type is due to the fact that it was obtained by means of a timestamp transformation from the original dataset.\n",
    "- Years_employed: Float variable indicating the number of years of employment of the client (if employed).\n",
    "- **Income_type**: Discrete string variable indicating the source of income for each client, independently from the value of \"Unemployed\". It has 5 different values: 'Working', 'Commercial associate', 'Pensioner', 'State servant' and 'Student'.\n",
    "- **Education_type**: Discrete string variable indicating the maximum level of education achieved by the client, with 5 different values: 'Lower secondary' (Attended up to middle school), 'Secondary / secondary special' (Attended up to High School), 'Incomplete higher' (left college), 'Higher education'(Attended up to college), 'Academic degree' (Obtained Ph.D.) \n",
    "- **Family_status**: Discrete string variable indicating the marital status of the client, with 5 different values: 'Civil marriage', 'Married', 'Single / not married', 'Separated', 'Widow'.\n",
    "- Housing_type: Discrete string variable indicating the housing situation of the client, with 6 different values: 'Rented apartment', 'House / apartment', 'Municipal apartment', 'With parents', 'Co-op apartment', 'Office apartment'.\n",
    "- Occupation_type: Discrete string variable indicating the kind of occupation of the client, with 19 different values. Each value is auto-explicative of the occupation it indicates, with the exception of \"Other\", that handles specific cases.\n",
    "- **Target**: Boolean variable indicating whether the client is high risk (1), that means more prone to insolvency and all its consequences, or low risk (0)."
   ]
  },
  {
   "cell_type": "code",
   "execution_count": 1,
   "id": "c49e7195",
   "metadata": {
    "cell_id": "ae1b82a4-c736-421a-a142-4fd89f59ed96",
    "deepnote_cell_height": 620.1875,
    "deepnote_cell_type": "code",
    "deepnote_to_be_reexecuted": false,
    "execution_millis": 271,
    "execution_start": 1649522752339,
    "id": "0GTH_trA8TTS",
    "source_hash": "c58aece5"
   },
   "outputs": [
    {
     "name": "stdout",
     "output_type": "stream",
     "text": [
      "Dataset shape: (9709, 20)\n"
     ]
    },
    {
     "data": {
      "text/html": [
       "<div>\n",
       "<style scoped>\n",
       "    .dataframe tbody tr th:only-of-type {\n",
       "        vertical-align: middle;\n",
       "    }\n",
       "\n",
       "    .dataframe tbody tr th {\n",
       "        vertical-align: top;\n",
       "    }\n",
       "\n",
       "    .dataframe thead th {\n",
       "        text-align: right;\n",
       "    }\n",
       "</style>\n",
       "<table border=\"1\" class=\"dataframe\">\n",
       "  <thead>\n",
       "    <tr style=\"text-align: right;\">\n",
       "      <th></th>\n",
       "      <th>ID</th>\n",
       "      <th>Gender</th>\n",
       "      <th>Own_car</th>\n",
       "      <th>Own_property</th>\n",
       "      <th>Work_phone</th>\n",
       "      <th>Phone</th>\n",
       "      <th>Email</th>\n",
       "      <th>Unemployed</th>\n",
       "      <th>Num_children</th>\n",
       "      <th>Num_family</th>\n",
       "      <th>Account_length</th>\n",
       "      <th>Total_income</th>\n",
       "      <th>Age</th>\n",
       "      <th>Years_employed</th>\n",
       "      <th>Income_type</th>\n",
       "      <th>Education_type</th>\n",
       "      <th>Family_status</th>\n",
       "      <th>Housing_type</th>\n",
       "      <th>Occupation_type</th>\n",
       "      <th>Target</th>\n",
       "    </tr>\n",
       "  </thead>\n",
       "  <tbody>\n",
       "    <tr>\n",
       "      <th>0</th>\n",
       "      <td>5008804</td>\n",
       "      <td>1</td>\n",
       "      <td>1</td>\n",
       "      <td>1</td>\n",
       "      <td>1</td>\n",
       "      <td>0</td>\n",
       "      <td>0</td>\n",
       "      <td>0</td>\n",
       "      <td>0</td>\n",
       "      <td>2</td>\n",
       "      <td>15</td>\n",
       "      <td>427500.0</td>\n",
       "      <td>32.868574</td>\n",
       "      <td>12.435574</td>\n",
       "      <td>Working</td>\n",
       "      <td>Higher education</td>\n",
       "      <td>Civil marriage</td>\n",
       "      <td>Rented apartment</td>\n",
       "      <td>Other</td>\n",
       "      <td>1</td>\n",
       "    </tr>\n",
       "    <tr>\n",
       "      <th>1</th>\n",
       "      <td>5008806</td>\n",
       "      <td>1</td>\n",
       "      <td>1</td>\n",
       "      <td>1</td>\n",
       "      <td>0</td>\n",
       "      <td>0</td>\n",
       "      <td>0</td>\n",
       "      <td>0</td>\n",
       "      <td>0</td>\n",
       "      <td>2</td>\n",
       "      <td>29</td>\n",
       "      <td>112500.0</td>\n",
       "      <td>58.793815</td>\n",
       "      <td>3.104787</td>\n",
       "      <td>Working</td>\n",
       "      <td>Secondary / secondary special</td>\n",
       "      <td>Married</td>\n",
       "      <td>House / apartment</td>\n",
       "      <td>Security staff</td>\n",
       "      <td>0</td>\n",
       "    </tr>\n",
       "    <tr>\n",
       "      <th>2</th>\n",
       "      <td>5008808</td>\n",
       "      <td>0</td>\n",
       "      <td>0</td>\n",
       "      <td>1</td>\n",
       "      <td>0</td>\n",
       "      <td>1</td>\n",
       "      <td>1</td>\n",
       "      <td>0</td>\n",
       "      <td>0</td>\n",
       "      <td>1</td>\n",
       "      <td>4</td>\n",
       "      <td>270000.0</td>\n",
       "      <td>52.321403</td>\n",
       "      <td>8.353354</td>\n",
       "      <td>Commercial associate</td>\n",
       "      <td>Secondary / secondary special</td>\n",
       "      <td>Single / not married</td>\n",
       "      <td>House / apartment</td>\n",
       "      <td>Sales staff</td>\n",
       "      <td>0</td>\n",
       "    </tr>\n",
       "    <tr>\n",
       "      <th>3</th>\n",
       "      <td>5008812</td>\n",
       "      <td>0</td>\n",
       "      <td>0</td>\n",
       "      <td>1</td>\n",
       "      <td>0</td>\n",
       "      <td>0</td>\n",
       "      <td>0</td>\n",
       "      <td>1</td>\n",
       "      <td>0</td>\n",
       "      <td>1</td>\n",
       "      <td>20</td>\n",
       "      <td>283500.0</td>\n",
       "      <td>61.504343</td>\n",
       "      <td>0.000000</td>\n",
       "      <td>Pensioner</td>\n",
       "      <td>Higher education</td>\n",
       "      <td>Separated</td>\n",
       "      <td>House / apartment</td>\n",
       "      <td>Other</td>\n",
       "      <td>0</td>\n",
       "    </tr>\n",
       "    <tr>\n",
       "      <th>4</th>\n",
       "      <td>5008815</td>\n",
       "      <td>1</td>\n",
       "      <td>1</td>\n",
       "      <td>1</td>\n",
       "      <td>1</td>\n",
       "      <td>1</td>\n",
       "      <td>1</td>\n",
       "      <td>0</td>\n",
       "      <td>0</td>\n",
       "      <td>2</td>\n",
       "      <td>5</td>\n",
       "      <td>270000.0</td>\n",
       "      <td>46.193967</td>\n",
       "      <td>2.105450</td>\n",
       "      <td>Working</td>\n",
       "      <td>Higher education</td>\n",
       "      <td>Married</td>\n",
       "      <td>House / apartment</td>\n",
       "      <td>Accountants</td>\n",
       "      <td>0</td>\n",
       "    </tr>\n",
       "  </tbody>\n",
       "</table>\n",
       "</div>"
      ],
      "text/plain": [
       "        ID  Gender  Own_car  Own_property  Work_phone  Phone  Email  \\\n",
       "0  5008804       1        1             1           1      0      0   \n",
       "1  5008806       1        1             1           0      0      0   \n",
       "2  5008808       0        0             1           0      1      1   \n",
       "3  5008812       0        0             1           0      0      0   \n",
       "4  5008815       1        1             1           1      1      1   \n",
       "\n",
       "   Unemployed  Num_children  Num_family  Account_length  Total_income  \\\n",
       "0           0             0           2              15      427500.0   \n",
       "1           0             0           2              29      112500.0   \n",
       "2           0             0           1               4      270000.0   \n",
       "3           1             0           1              20      283500.0   \n",
       "4           0             0           2               5      270000.0   \n",
       "\n",
       "         Age  Years_employed           Income_type  \\\n",
       "0  32.868574       12.435574               Working   \n",
       "1  58.793815        3.104787               Working   \n",
       "2  52.321403        8.353354  Commercial associate   \n",
       "3  61.504343        0.000000             Pensioner   \n",
       "4  46.193967        2.105450               Working   \n",
       "\n",
       "                  Education_type         Family_status       Housing_type  \\\n",
       "0               Higher education        Civil marriage   Rented apartment   \n",
       "1  Secondary / secondary special               Married  House / apartment   \n",
       "2  Secondary / secondary special  Single / not married  House / apartment   \n",
       "3               Higher education             Separated  House / apartment   \n",
       "4               Higher education               Married  House / apartment   \n",
       "\n",
       "  Occupation_type  Target  \n",
       "0           Other       1  \n",
       "1  Security staff       0  \n",
       "2     Sales staff       0  \n",
       "3           Other       0  \n",
       "4     Accountants       0  "
      ]
     },
     "execution_count": 1,
     "metadata": {},
     "output_type": "execute_result"
    }
   ],
   "source": [
    "import pandas as pd\n",
    "import numpy as np\n",
    "\n",
    "# Loading the dataset\n",
    "url = \"data/clean_data.csv\"\n",
    "df = pd.read_csv(url)\n",
    "\n",
    "# Showing shape and first rows\n",
    "print(\"Dataset shape: {}\".format(df.shape))\n",
    "df.head()"
   ]
  },
  {
   "cell_type": "markdown",
   "id": "6acecaae",
   "metadata": {
    "cell_id": "5b612c40170f4f7cb2ea969c71d547c0",
    "deepnote_cell_height": 201.171875,
    "deepnote_cell_type": "markdown",
    "tags": []
   },
   "source": [
    "## 2. Pre-processing\n",
    "### 2.1 Dropping attributes\n",
    "As first pre-processing step, we decided to prune the dataset to remove columns that are either redundant (e.g. <code>Num_children</code> is somewhat contained in <code>Num_family</code>) or less informative, like <code>ID</code> or <code>phone</code>. In the end, we decided to keep only the attributes marked previously in **bold**, reducing the number of columns to 12."
   ]
  },
  {
   "cell_type": "code",
   "execution_count": 2,
   "id": "20447dbf",
   "metadata": {
    "cell_id": "00001-d3e56bbb-0896-4f34-a69a-54f32f43897c",
    "colab": {
     "base_uri": "https://localhost:8080/",
     "height": 285
    },
    "deepnote_cell_height": 530.1875,
    "deepnote_cell_type": "code",
    "deepnote_to_be_reexecuted": false,
    "execution_millis": 43,
    "execution_start": 1649523078532,
    "id": "QmehouJl8ht2",
    "outputId": "29228e44-cc1c-4471-d227-1fe4048ca3b7",
    "source_hash": "17c04a42"
   },
   "outputs": [
    {
     "name": "stdout",
     "output_type": "stream",
     "text": [
      "New dataset size:(9709, 12)\n"
     ]
    },
    {
     "data": {
      "text/html": [
       "<div>\n",
       "<style scoped>\n",
       "    .dataframe tbody tr th:only-of-type {\n",
       "        vertical-align: middle;\n",
       "    }\n",
       "\n",
       "    .dataframe tbody tr th {\n",
       "        vertical-align: top;\n",
       "    }\n",
       "\n",
       "    .dataframe thead th {\n",
       "        text-align: right;\n",
       "    }\n",
       "</style>\n",
       "<table border=\"1\" class=\"dataframe\">\n",
       "  <thead>\n",
       "    <tr style=\"text-align: right;\">\n",
       "      <th></th>\n",
       "      <th>Gender</th>\n",
       "      <th>Own_car</th>\n",
       "      <th>Own_property</th>\n",
       "      <th>Unemployed</th>\n",
       "      <th>Num_family</th>\n",
       "      <th>Account_length</th>\n",
       "      <th>Total_income</th>\n",
       "      <th>Age</th>\n",
       "      <th>Income_type</th>\n",
       "      <th>Education_type</th>\n",
       "      <th>Family_status</th>\n",
       "      <th>Target</th>\n",
       "    </tr>\n",
       "  </thead>\n",
       "  <tbody>\n",
       "    <tr>\n",
       "      <th>0</th>\n",
       "      <td>1</td>\n",
       "      <td>1</td>\n",
       "      <td>1</td>\n",
       "      <td>0</td>\n",
       "      <td>2</td>\n",
       "      <td>15</td>\n",
       "      <td>427500.0</td>\n",
       "      <td>32.868574</td>\n",
       "      <td>Working</td>\n",
       "      <td>Higher education</td>\n",
       "      <td>Civil marriage</td>\n",
       "      <td>1</td>\n",
       "    </tr>\n",
       "    <tr>\n",
       "      <th>1</th>\n",
       "      <td>1</td>\n",
       "      <td>1</td>\n",
       "      <td>1</td>\n",
       "      <td>0</td>\n",
       "      <td>2</td>\n",
       "      <td>29</td>\n",
       "      <td>112500.0</td>\n",
       "      <td>58.793815</td>\n",
       "      <td>Working</td>\n",
       "      <td>Secondary / secondary special</td>\n",
       "      <td>Married</td>\n",
       "      <td>0</td>\n",
       "    </tr>\n",
       "    <tr>\n",
       "      <th>2</th>\n",
       "      <td>0</td>\n",
       "      <td>0</td>\n",
       "      <td>1</td>\n",
       "      <td>0</td>\n",
       "      <td>1</td>\n",
       "      <td>4</td>\n",
       "      <td>270000.0</td>\n",
       "      <td>52.321403</td>\n",
       "      <td>Commercial associate</td>\n",
       "      <td>Secondary / secondary special</td>\n",
       "      <td>Single / not married</td>\n",
       "      <td>0</td>\n",
       "    </tr>\n",
       "    <tr>\n",
       "      <th>3</th>\n",
       "      <td>0</td>\n",
       "      <td>0</td>\n",
       "      <td>1</td>\n",
       "      <td>1</td>\n",
       "      <td>1</td>\n",
       "      <td>20</td>\n",
       "      <td>283500.0</td>\n",
       "      <td>61.504343</td>\n",
       "      <td>Pensioner</td>\n",
       "      <td>Higher education</td>\n",
       "      <td>Separated</td>\n",
       "      <td>0</td>\n",
       "    </tr>\n",
       "    <tr>\n",
       "      <th>4</th>\n",
       "      <td>1</td>\n",
       "      <td>1</td>\n",
       "      <td>1</td>\n",
       "      <td>0</td>\n",
       "      <td>2</td>\n",
       "      <td>5</td>\n",
       "      <td>270000.0</td>\n",
       "      <td>46.193967</td>\n",
       "      <td>Working</td>\n",
       "      <td>Higher education</td>\n",
       "      <td>Married</td>\n",
       "      <td>0</td>\n",
       "    </tr>\n",
       "  </tbody>\n",
       "</table>\n",
       "</div>"
      ],
      "text/plain": [
       "   Gender  Own_car  Own_property  Unemployed  Num_family  Account_length  \\\n",
       "0       1        1             1           0           2              15   \n",
       "1       1        1             1           0           2              29   \n",
       "2       0        0             1           0           1               4   \n",
       "3       0        0             1           1           1              20   \n",
       "4       1        1             1           0           2               5   \n",
       "\n",
       "   Total_income        Age           Income_type  \\\n",
       "0      427500.0  32.868574               Working   \n",
       "1      112500.0  58.793815               Working   \n",
       "2      270000.0  52.321403  Commercial associate   \n",
       "3      283500.0  61.504343             Pensioner   \n",
       "4      270000.0  46.193967               Working   \n",
       "\n",
       "                  Education_type         Family_status  Target  \n",
       "0               Higher education        Civil marriage       1  \n",
       "1  Secondary / secondary special               Married       0  \n",
       "2  Secondary / secondary special  Single / not married       0  \n",
       "3               Higher education             Separated       0  \n",
       "4               Higher education               Married       0  "
      ]
     },
     "execution_count": 2,
     "metadata": {},
     "output_type": "execute_result"
    }
   ],
   "source": [
    "# df2 will act as working copy of the data we are interested in\n",
    "df2 = df.drop([\"ID\", \"Work_phone\", \"Phone\", \"Email\", \"Years_employed\", \"Occupation_type\", \"Housing_type\", \"Num_children\"], axis=1)\n",
    "\n",
    "print(\"New dataset size:{}\".format(df2.shape))\n",
    "df2.head()"
   ]
  },
  {
   "cell_type": "markdown",
   "id": "bd0886c2",
   "metadata": {
    "cell_id": "72a8bf2217a444febe214e37e1d25e1d",
    "deepnote_cell_height": 181.5625,
    "deepnote_cell_type": "markdown",
    "tags": []
   },
   "source": [
    "### 2.2 Discretization and dimensionality reduction\n",
    "The dataset now does not present strictly continuous quantities, but at most descrete variables with high (or infinite) cardinality domains, like <code>Age</code> or <code>Total_income</code>, which would lead to very big and less informative CPDs. So, we decided to tackle this problem by discretizing the domains according to different criteria.\n",
    "\n",
    "First of all, we decided to discretize <code>Num_family</code> so to have four different values: '1', '2', '3' and '4+'."
   ]
  },
  {
   "cell_type": "code",
   "execution_count": 3,
   "id": "19b09718",
   "metadata": {
    "cell_id": "00003-328ca7bd-9d85-4961-baf7-f6d4a223aa00",
    "deepnote_cell_height": 189,
    "deepnote_cell_type": "code",
    "deepnote_to_be_reexecuted": false,
    "execution_millis": 0,
    "execution_start": 1649523735073,
    "id": "fThoogClFCFs",
    "source_hash": "d2f79928"
   },
   "outputs": [],
   "source": [
    "# function setting a defult \"thresh+\" value if x exceedes the value thresh, \n",
    "# or the string representation of x otherwise. This keeps consistency in the data-type\n",
    "def discretize_num(x):\n",
    "    if x >=thresh:\n",
    "      return str(thresh) + \"+\"\n",
    "    else:\n",
    "      return str(x)"
   ]
  },
  {
   "cell_type": "code",
   "execution_count": 4,
   "id": "0173ab66",
   "metadata": {
    "cell_id": "00004-d684faed-21ea-4ed2-aca6-78002872cdfe",
    "deepnote_cell_height": 447.125,
    "deepnote_cell_type": "code",
    "deepnote_to_be_reexecuted": false,
    "execution_millis": 20,
    "execution_start": 1649524161861,
    "id": "lDQi1J4pHZQ_",
    "source_hash": "3ce34000"
   },
   "outputs": [
    {
     "name": "stdout",
     "output_type": "stream",
     "text": [
      "Unique values for \"Num_family\" and respective counts:\n",
      "[ 1  2  3  4  5  6  7  9 15 20]\n",
      "[1947 5183 1635  802  117   18    4    1    1    1]\n",
      "New unique values for \"Num_family\" and respective counts:\n",
      "['1' '2' '3' '4+']\n",
      "[1947 5183 1635  944]\n"
     ]
    }
   ],
   "source": [
    "# setting the desired threshold\n",
    "thresh = 4\n",
    "\n",
    "# df3 will contain the final version of the dataset\n",
    "df3 = df2.copy()\n",
    "print(\"Unique values for \\\"Num_family\\\" and respective counts:\")\n",
    "print(np.unique(df2[\"Num_family\"], return_counts=True)[0])\n",
    "print(np.unique(df2[\"Num_family\"], return_counts=True)[1])\n",
    "\n",
    "df3[\"Num_family\"] = df2[\"Num_family\"].apply(discretize_num)\n",
    "\n",
    "print(\"New unique values for \\\"Num_family\\\" and respective counts:\")\n",
    "print(np.unique(df3[\"Num_family\"], return_counts=True)[0])\n",
    "print(np.unique(df3[\"Num_family\"], return_counts=True)[1])"
   ]
  },
  {
   "cell_type": "markdown",
   "id": "0bc0fb00",
   "metadata": {
    "cell_id": "3fb95eea462946da979af6c5cf0878f3",
    "deepnote_cell_height": 97.171875,
    "deepnote_cell_type": "markdown",
    "tags": []
   },
   "source": [
    "Then, we decided to discretize <code>Age</code> in intervals defined by steps of 10 years, starting from \"less than 30\" to \"more than 60\". The decision was also taken by watching at the histograms for the distribution and its bounds. Moreover, this operation was performed after casting the variable to integer by means of the floor function."
   ]
  },
  {
   "cell_type": "code",
   "execution_count": 5,
   "id": "ce5510f0",
   "metadata": {
    "cell_id": "00005-71861b7e-bc8d-4e56-9462-af8b91958661",
    "colab": {
     "base_uri": "https://localhost:8080/",
     "height": 317
    },
    "deepnote_cell_height": 743,
    "deepnote_cell_type": "code",
    "deepnote_output_heights": [
     592
    ],
    "deepnote_to_be_reexecuted": false,
    "execution_millis": 354,
    "execution_start": 1649524198811,
    "id": "7qty88cuIKyl",
    "outputId": "5c1f6608-a806-4992-a63a-d1e145fdd61e",
    "source_hash": "95c3b657"
   },
   "outputs": [
    {
     "data": {
      "image/png": "[encoded data removed]",
      "text/plain": [
       "<Figure size 720x720 with 1 Axes>"
      ]
     },
     "metadata": {
      "needs_background": "light"
     },
     "output_type": "display_data"
    }
   ],
   "source": [
    "df2[\"Age\"] = df2[\"Age\"].apply(np.floor)\n",
    "df2[\"Age\"] = df2[\"Age\"].astype(np.int8)\n",
    "\n",
    "df2.hist(\"Age\", bins=100, figsize=(10,10));"
   ]
  },
  {
   "cell_type": "code",
   "execution_count": 6,
   "id": "7f18c589",
   "metadata": {
    "cell_id": "00006-c6f21d7e-86b4-400c-b213-272e596ad426",
    "colab": {
     "base_uri": "https://localhost:8080/"
    },
    "deepnote_cell_height": 440.5625,
    "deepnote_cell_type": "code",
    "deepnote_to_be_reexecuted": false,
    "execution_millis": 2,
    "execution_start": 1649524292039,
    "id": "LyyTVODKI3rZ",
    "outputId": "f0e05aa5-dfb9-4c9a-c370-38ff7c4487d3",
    "source_hash": "daf82904"
   },
   "outputs": [
    {
     "name": "stdout",
     "output_type": "stream",
     "text": [
      "New unique values for \"Age\" and respective counts:\n",
      "['30-39' '40-49' '50-59' '60>=' '<30']\n",
      "[2724 2445 2169 1021 1350]\n"
     ]
    }
   ],
   "source": [
    "# function to discretize the age column\n",
    "def discretize_age(x):\n",
    "  if x<30:\n",
    "    return \"<30\"\n",
    "  elif x<40:\n",
    "    return \"30-39\"\n",
    "  elif x<50:\n",
    "    return \"40-49\"\n",
    "  elif x<60:\n",
    "    return \"50-59\"\n",
    "  else:\n",
    "    return \"60>=\"  \n",
    "\n",
    "df3[\"Age\"] = df2[\"Age\"].apply(discretize_age)\n",
    "print(\"New unique values for \\\"Age\\\" and respective counts:\")\n",
    "print(np.unique(df3[\"Age\"], return_counts=True)[0])\n",
    "print(np.unique(df3[\"Age\"], return_counts=True)[1])"
   ]
  },
  {
   "cell_type": "markdown",
   "id": "9a85850f",
   "metadata": {
    "cell_id": "c20d058a40944ed79c3de61ba1617636",
    "deepnote_cell_height": 97.171875,
    "deepnote_cell_type": "markdown",
    "owner_user_id": "22d6d299-87b5-43e8-8680-ed4e80a45a0b",
    "tags": []
   },
   "source": [
    "The next variable to discretize is <code>Total_income</code>. We chose to divide the range into three values \"low\", \"medium\" and \"high\". Since there isn't a trivial way to set the bounds for each bucket, we chose to apply the equi-frequency discretization function based on quantiles, provided by pandas. "
   ]
  },
  {
   "cell_type": "code",
   "execution_count": 7,
   "id": "b10492d4",
   "metadata": {
    "cell_id": "00007-669ea30e-3e77-4da4-8419-e6c7aa935bfe",
    "colab": {
     "base_uri": "https://localhost:8080/",
     "height": 1000
    },
    "deepnote_cell_height": 703,
    "deepnote_cell_type": "code",
    "deepnote_output_heights": [
     606
    ],
    "deepnote_to_be_reexecuted": false,
    "execution_millis": 389,
    "execution_start": 1649518680232,
    "id": "jntGNcxlKAVl",
    "outputId": "c8f92cd4-4d68-4b0a-9f3e-7203708671da",
    "source_hash": "39cc0c81"
   },
   "outputs": [
    {
     "data": {
      "image/png": "[encoded data removed]",
      "text/plain": [
       "<Figure size 720x720 with 1 Axes>"
      ]
     },
     "metadata": {
      "needs_background": "light"
     },
     "output_type": "display_data"
    }
   ],
   "source": [
    "df3.hist(\"Total_income\", bins=75, figsize=(10,10));"
   ]
  },
  {
   "cell_type": "code",
   "execution_count": 8,
   "id": "8a60de1d",
   "metadata": {
    "cell_id": "00008-9726c453-d15a-49b2-9aa7-cbdbf2012fe2",
    "colab": {
     "base_uri": "https://localhost:8080/"
    },
    "deepnote_cell_height": 224.5625,
    "deepnote_cell_type": "code",
    "deepnote_to_be_reexecuted": false,
    "execution_millis": 2,
    "execution_start": 1649526466815,
    "id": "H01gIiuRR-PU",
    "outputId": "240e07c4-367a-4cba-b8fe-4bf7a3dc151e",
    "source_hash": "74c6d30b"
   },
   "outputs": [
    {
     "name": "stdout",
     "output_type": "stream",
     "text": [
      "New unique values for \"Total_income\" and respective counts:\n",
      "['high' 'low' 'medium']\n",
      "[2777 4078 2854]\n"
     ]
    }
   ],
   "source": [
    "df3[\"Total_income\"] =  pd.qcut(df2['Total_income'], 3, labels=[\"low\", \"medium\", \"high\"])\n",
    "print(\"New unique values for \\\"Total_income\\\" and respective counts:\")\n",
    "print(np.unique(df3[\"Total_income\"], return_counts=True)[0])\n",
    "print(np.unique(df3[\"Total_income\"], return_counts=True)[1])\n"
   ]
  },
  {
   "cell_type": "markdown",
   "id": "bed6833d",
   "metadata": {
    "cell_id": "798a5472cd4849a5bbdc58daea2a570c",
    "deepnote_cell_height": 74.78125,
    "deepnote_cell_type": "markdown",
    "tags": []
   },
   "source": [
    "Finally, the last column to be discretized is <code>Account_length</code>. As we have done for <code>Age</code> we used the histogram for hints, and we decided to discretize the variable in terms of interval of years: \"&#60;1y\", \"1y-2y\", \"2y-3y\" and \"3y+\""
   ]
  },
  {
   "cell_type": "code",
   "execution_count": 9,
   "id": "8cc503af",
   "metadata": {
    "cell_id": "00009-733b99ad-4386-4fa9-be23-fe47c6e062fa",
    "colab": {
     "base_uri": "https://localhost:8080/",
     "height": 1000
    },
    "deepnote_cell_height": 689,
    "deepnote_cell_type": "code",
    "deepnote_output_heights": [
     592
    ],
    "deepnote_to_be_reexecuted": false,
    "execution_millis": 538,
    "execution_start": 1649520836585,
    "id": "SnQmRN22Vg6b",
    "outputId": "e2aee1da-d83e-4f35-f5bb-66238844a3ec",
    "source_hash": "f51136c5"
   },
   "outputs": [
    {
     "data": {
      "image/png": "[encoded data removed]",
      "text/plain": [
       "<Figure size 720x720 with 1 Axes>"
      ]
     },
     "metadata": {
      "needs_background": "light"
     },
     "output_type": "display_data"
    }
   ],
   "source": [
    "df3.hist(\"Account_length\", bins=75, figsize=(10,10));"
   ]
  },
  {
   "cell_type": "code",
   "execution_count": 10,
   "id": "47bbc914",
   "metadata": {
    "cell_id": "00010-87a348c9-1974-4749-b159-ea7186f6627f",
    "colab": {
     "base_uri": "https://localhost:8080/"
    },
    "deepnote_cell_height": 404.5625,
    "deepnote_cell_type": "code",
    "deepnote_to_be_reexecuted": false,
    "execution_millis": 2,
    "execution_start": 1649527000339,
    "id": "cw7WuTAnV5-H",
    "outputId": "2424e022-6935-431f-8ba3-db9003c5a069",
    "owner_user_id": "d3c0040e-1334-4d1d-af60-5a227b82581a",
    "source_hash": "33a5524f"
   },
   "outputs": [
    {
     "name": "stdout",
     "output_type": "stream",
     "text": [
      "New unique values for \"Account_length\" and respective counts:\n",
      "['1y-2y' '2y-3y' '3y+' '<1y']\n",
      "[2321 1943 3306 2139]\n"
     ]
    }
   ],
   "source": [
    "# function for account length discretiziation \n",
    "def discretize_al(x):\n",
    "  if x < 12:\n",
    "    return \"<1y\"\n",
    "  elif x < 24:\n",
    "    return \"1y-2y\"\n",
    "  elif x<36:\n",
    "    return \"2y-3y\"\n",
    "  else:\n",
    "    return \"3y+\"\n",
    "\n",
    "df3[\"Account_length\"] = df2[\"Account_length\"].apply(discretize_al)\n",
    "print(\"New unique values for \\\"Account_length\\\" and respective counts:\")\n",
    "print(np.unique(df3[\"Account_length\"], return_counts=True)[0])\n",
    "print(np.unique(df3[\"Account_length\"], return_counts=True)[1])"
   ]
  },
  {
   "cell_type": "markdown",
   "id": "7bf8221f",
   "metadata": {
    "cell_id": "ee63a0d946474adb90364990eb43786a",
    "deepnote_cell_height": 122.78125,
    "deepnote_cell_type": "markdown",
    "tags": []
   },
   "source": [
    "### 2.3 Enhanching explainability\n",
    "Lastly, we decided to replace values of the boolean variables from \"0\" and \"1\" to more understandable values, so that eventual queries will be more auto-explicative"
   ]
  },
  {
   "cell_type": "code",
   "execution_count": 11,
   "id": "f36d6665",
   "metadata": {
    "cell_id": "9e3932d58b3f4c82b86ac512d2dfc2c8",
    "deepnote_cell_height": 153,
    "deepnote_cell_type": "code",
    "deepnote_to_be_reexecuted": false,
    "execution_millis": 0,
    "execution_start": 1649527389316,
    "source_hash": "50f5bb18",
    "tags": []
   },
   "outputs": [],
   "source": [
    "df3[\"Gender\"]       = df3[\"Gender\"].apply(lambda x: \"M\" if x else \"F\")\n",
    "df3[\"Own_car\"]      = df3[\"Own_car\"].apply(lambda x: \"yes\" if x else \"no\")\n",
    "df3[\"Own_property\"] = df3[\"Own_property\"].apply(lambda x: \"yes\" if x else \"no\")\n",
    "df3[\"Unemployed\"]   = df3[\"Unemployed\"].apply(lambda x: \"yes\" if x else \"no\")\n",
    "df3[\"Target\"]       = df3[\"Target\"].apply(lambda x: \"high risk\" if x else \"low risk\")"
   ]
  },
  {
   "cell_type": "code",
   "execution_count": 12,
   "id": "4b2723cb",
   "metadata": {
    "cell_id": "9f762c87bee34b6695b77dfe4fcc3c5e",
    "deepnote_cell_height": 412,
    "deepnote_cell_type": "code",
    "deepnote_table_loading": false,
    "deepnote_table_state": {
     "filters": [],
     "pageIndex": 0,
     "pageSize": 10,
     "sortBy": []
    },
    "deepnote_to_be_reexecuted": false,
    "execution_millis": 5,
    "execution_start": 1649527396399,
    "source_hash": "55945500",
    "tags": []
   },
   "outputs": [
    {
     "data": {
      "text/html": [
       "<div>\n",
       "<style scoped>\n",
       "    .dataframe tbody tr th:only-of-type {\n",
       "        vertical-align: middle;\n",
       "    }\n",
       "\n",
       "    .dataframe tbody tr th {\n",
       "        vertical-align: top;\n",
       "    }\n",
       "\n",
       "    .dataframe thead th {\n",
       "        text-align: right;\n",
       "    }\n",
       "</style>\n",
       "<table border=\"1\" class=\"dataframe\">\n",
       "  <thead>\n",
       "    <tr style=\"text-align: right;\">\n",
       "      <th></th>\n",
       "      <th>Gender</th>\n",
       "      <th>Own_car</th>\n",
       "      <th>Own_property</th>\n",
       "      <th>Unemployed</th>\n",
       "      <th>Num_family</th>\n",
       "      <th>Account_length</th>\n",
       "      <th>Total_income</th>\n",
       "      <th>Age</th>\n",
       "      <th>Income_type</th>\n",
       "      <th>Education_type</th>\n",
       "      <th>Family_status</th>\n",
       "      <th>Target</th>\n",
       "    </tr>\n",
       "  </thead>\n",
       "  <tbody>\n",
       "    <tr>\n",
       "      <th>0</th>\n",
       "      <td>M</td>\n",
       "      <td>yes</td>\n",
       "      <td>yes</td>\n",
       "      <td>no</td>\n",
       "      <td>2</td>\n",
       "      <td>1y-2y</td>\n",
       "      <td>high</td>\n",
       "      <td>30-39</td>\n",
       "      <td>Working</td>\n",
       "      <td>Higher education</td>\n",
       "      <td>Civil marriage</td>\n",
       "      <td>high risk</td>\n",
       "    </tr>\n",
       "    <tr>\n",
       "      <th>1</th>\n",
       "      <td>M</td>\n",
       "      <td>yes</td>\n",
       "      <td>yes</td>\n",
       "      <td>no</td>\n",
       "      <td>2</td>\n",
       "      <td>2y-3y</td>\n",
       "      <td>low</td>\n",
       "      <td>50-59</td>\n",
       "      <td>Working</td>\n",
       "      <td>Secondary / secondary special</td>\n",
       "      <td>Married</td>\n",
       "      <td>low risk</td>\n",
       "    </tr>\n",
       "    <tr>\n",
       "      <th>2</th>\n",
       "      <td>F</td>\n",
       "      <td>no</td>\n",
       "      <td>yes</td>\n",
       "      <td>no</td>\n",
       "      <td>1</td>\n",
       "      <td>&lt;1y</td>\n",
       "      <td>high</td>\n",
       "      <td>50-59</td>\n",
       "      <td>Commercial associate</td>\n",
       "      <td>Secondary / secondary special</td>\n",
       "      <td>Single / not married</td>\n",
       "      <td>low risk</td>\n",
       "    </tr>\n",
       "    <tr>\n",
       "      <th>3</th>\n",
       "      <td>F</td>\n",
       "      <td>no</td>\n",
       "      <td>yes</td>\n",
       "      <td>yes</td>\n",
       "      <td>1</td>\n",
       "      <td>1y-2y</td>\n",
       "      <td>high</td>\n",
       "      <td>60&gt;=</td>\n",
       "      <td>Pensioner</td>\n",
       "      <td>Higher education</td>\n",
       "      <td>Separated</td>\n",
       "      <td>low risk</td>\n",
       "    </tr>\n",
       "    <tr>\n",
       "      <th>4</th>\n",
       "      <td>M</td>\n",
       "      <td>yes</td>\n",
       "      <td>yes</td>\n",
       "      <td>no</td>\n",
       "      <td>2</td>\n",
       "      <td>&lt;1y</td>\n",
       "      <td>high</td>\n",
       "      <td>40-49</td>\n",
       "      <td>Working</td>\n",
       "      <td>Higher education</td>\n",
       "      <td>Married</td>\n",
       "      <td>low risk</td>\n",
       "    </tr>\n",
       "  </tbody>\n",
       "</table>\n",
       "</div>"
      ],
      "text/plain": [
       "  Gender Own_car Own_property Unemployed Num_family Account_length  \\\n",
       "0      M     yes          yes         no          2          1y-2y   \n",
       "1      M     yes          yes         no          2          2y-3y   \n",
       "2      F      no          yes         no          1            <1y   \n",
       "3      F      no          yes        yes          1          1y-2y   \n",
       "4      M     yes          yes         no          2            <1y   \n",
       "\n",
       "  Total_income    Age           Income_type                 Education_type  \\\n",
       "0         high  30-39               Working               Higher education   \n",
       "1          low  50-59               Working  Secondary / secondary special   \n",
       "2         high  50-59  Commercial associate  Secondary / secondary special   \n",
       "3         high   60>=             Pensioner               Higher education   \n",
       "4         high  40-49               Working               Higher education   \n",
       "\n",
       "          Family_status     Target  \n",
       "0        Civil marriage  high risk  \n",
       "1               Married   low risk  \n",
       "2  Single / not married   low risk  \n",
       "3             Separated   low risk  \n",
       "4               Married   low risk  "
      ]
     },
     "execution_count": 12,
     "metadata": {},
     "output_type": "execute_result"
    }
   ],
   "source": [
    "df3.head()"
   ]
  },
  {
   "cell_type": "code",
   "execution_count": 13,
   "id": "0aa7206a",
   "metadata": {
    "cell_id": "00011-9bca13b7-e06a-4125-9121-9f405bc02536",
    "colab": {
     "base_uri": "https://localhost:8080/",
     "height": 17
    },
    "deepnote_cell_height": 99,
    "deepnote_cell_type": "code",
    "deepnote_to_be_reexecuted": false,
    "execution_millis": 45,
    "execution_start": 1649520858317,
    "id": "Ngg8MFNMTVT9",
    "outputId": "d2e9d12a-b406-403a-fc0c-c52056284c6d",
    "source_hash": "f55b610a"
   },
   "outputs": [],
   "source": [
    "# saving the result\n",
    "df3.to_csv('data/processed.csv', encoding = 'utf-8-sig', index=False) "
   ]
  }
 ],
 "metadata": {
  "colab": {
   "name": "data_processing.ipynb",
   "provenance": []
  },
  "deepnote": {},
  "deepnote_execution_queue": [],
  "deepnote_notebook_id": "8ca11451-d7fa-4407-becf-306f84bdcbb5",
  "kernelspec": {
   "display_name": "Python 3 (ipykernel)",
   "language": "python",
   "name": "python3"
  },
  "language_info": {
   "codemirror_mode": {
    "name": "ipython",
    "version": 3
   },
   "file_extension": ".py",
   "mimetype": "text/x-python",
   "name": "python",
   "nbconvert_exporter": "python",
   "pygments_lexer": "ipython3",
   "version": "3.9.0"
  }
 },
 "nbformat": 4,
 "nbformat_minor": 5
}
