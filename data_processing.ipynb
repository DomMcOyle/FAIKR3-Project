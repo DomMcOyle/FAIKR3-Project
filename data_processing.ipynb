{
 "cells": [
  {
   "cell_type": "markdown",
   "source": "# Dataset: Credit Card Classification - clean data\n##### source: https://www.kaggle.com/datasets/samuelcortinhas/credit-card-classification-clean-data\n\n## 1. Description\nThe dataset we employed is composed of 9709 rows x 20 columns representing different clients of a credit card service.\nFrom the few information that are provided on the dataset, we know that it has been obtained by processing another original dataset and we can assume all the data come from chinese clients, since currency is expressed in yuan. No critical personal information is proposed, except for the client'IDs.\n<br>The attributes represented by each column are:\n- ID: the client ID in the database\n- **Gender**: A boolean variable indicating the gender of the client, where 0 = \"female\" and 1 = \"male\"\n- **Own_car**: A boolean variable indicating whether the client owns a car (1) or not (0)\n- **Own_property**: A boolean variable indicating whether the client owns property (1) or not (0)\n- Work_phone: A boolean variable indicating whether the client owns a work phone (1) or not (0)\n- Phone: A boolean variable indicating whether the client owns a phone (1) or not (0)\n- Email: A boolean variable indicating whether the client owns a email address (1) or not (0)\n- **Unemployed**: A boolean variable indicating whether the client is currently unemployed from his work (1) or not (0)\n- Num_children: Integer variable indicating the number of children the client has\n- **Num_family**: Integer variable indicating the number of members in the family of the client\n- **Account_length**: Integer variables representing the number of months of credit card ownership\n- **Total_income**: Integer variable indicating the total annual income of the client in terms of chinese yuan (CNY). (ed: to current date 1 CNY ~ 0.14€)\n- **Age**: Float variable indicating the age of the client. The unusual data type is due to the fact that it was obtained by means of a timestamp transformation from the original dataset.\n- Years_employed: Float variable indicating the number of years of employment of the client (if employed).\n- **Income_type**: Discrete string variable indicating the source of income for each client, independently from the value of \"Unemployed\". It has 5 different values: 'Working', 'Commercial associate', 'Pensioner', 'State servant' and 'Student'.\n- **Education_type**: Discrete string variable indicating the maximum level of education achieved by the client, with 5 different values: 'Lower secondary' (Attended up to middle school), 'Secondary / secondary special' (Attended up to High School), 'Incomplete higher' (left college), 'Higher education'(Attended up to college), 'Academic degree' (Obtained Ph.D.) \n- **Family_status**: Discrete string variable indicating the marital status of the client, with 5 different values: 'Civil marriage', 'Married', 'Single / not married', 'Separated', 'Widow'.\n- Housing_type: Discrete string variable indicating the housing situation of the client, with 6 different values: 'Rented apartment', 'House / apartment', 'Municipal apartment', 'With parents', 'Co-op apartment', 'Office apartment'.\n- Occupation_type: Discrete string variable indicating the kind of occupation of the client, with 19 different values. Each value is auto-explicative of the occupation it indicates, with the exception of \"Other\", that handles specific cases.\n- **Target**: Boolean variable indicating whether the client is high risk (1), that means more prone to insolvency and all its consequences, or low risk (0).",
   "metadata": {
    "cell_id": "0b99ed6bd81a40b3b18a9f70dc131681",
    "tags": [],
    "deepnote_cell_type": "markdown",
    "deepnote_cell_height": 1088.28125
   }
  },
  {
   "cell_type": "code",
   "metadata": {
    "id": "0GTH_trA8TTS",
    "cell_id": "ae1b82a4-c736-421a-a142-4fd89f59ed96",
    "deepnote_to_be_reexecuted": false,
    "source_hash": "c58aece5",
    "execution_start": 1649522752339,
    "execution_millis": 271,
    "deepnote_cell_type": "code",
    "deepnote_cell_height": 620.1875
   },
   "source": "import pandas as pd\nimport numpy as np\n\n# Loading the dataset\nurl = \"data/clean_data.csv\"\ndf = pd.read_csv(url)\n\n# Showing shape and first rows\nprint(\"Dataset shape: {}\".format(df.shape))\ndf.head()",
   "execution_count": null,
   "outputs": [
    {
     "name": "stdout",
     "text": "Dataset shape: (9709, 20)\n",
     "output_type": "stream"
    },
    {
     "output_type": "execute_result",
     "execution_count": 43,
     "data": {
      "application/vnd.deepnote.dataframe.v3+json": {
       "column_count": 20,
       "row_count": 5,
       "columns": [
        {
         "name": "ID",
         "dtype": "int64",
         "stats": {
          "unique_count": 5,
          "nan_count": 0,
          "min": "5008804",
          "max": "5008815",
          "histogram": [
           {
            "bin_start": 5008804,
            "bin_end": 5008805.1,
            "count": 1
           },
           {
            "bin_start": 5008805.1,
            "bin_end": 5008806.2,
            "count": 1
           },
           {
            "bin_start": 5008806.2,
            "bin_end": 5008807.3,
            "count": 0
           },
           {
            "bin_start": 5008807.3,
            "bin_end": 5008808.4,
            "count": 1
           },
           {
            "bin_start": 5008808.4,
            "bin_end": 5008809.5,
            "count": 0
           },
           {
            "bin_start": 5008809.5,
            "bin_end": 5008810.6,
            "count": 0
           },
           {
            "bin_start": 5008810.6,
            "bin_end": 5008811.7,
            "count": 0
           },
           {
            "bin_start": 5008811.7,
            "bin_end": 5008812.8,
            "count": 1
           },
           {
            "bin_start": 5008812.8,
            "bin_end": 5008813.9,
            "count": 0
           },
           {
            "bin_start": 5008813.9,
            "bin_end": 5008815,
            "count": 1
           }
          ]
         }
        },
        {
         "name": "Gender",
         "dtype": "int64",
         "stats": {
          "unique_count": 2,
          "nan_count": 0,
          "min": "0",
          "max": "1",
          "histogram": [
           {
            "bin_start": 0,
            "bin_end": 0.1,
            "count": 2
           },
           {
            "bin_start": 0.1,
            "bin_end": 0.2,
            "count": 0
           },
           {
            "bin_start": 0.2,
            "bin_end": 0.30000000000000004,
            "count": 0
           },
           {
            "bin_start": 0.30000000000000004,
            "bin_end": 0.4,
            "count": 0
           },
           {
            "bin_start": 0.4,
            "bin_end": 0.5,
            "count": 0
           },
           {
            "bin_start": 0.5,
            "bin_end": 0.6000000000000001,
            "count": 0
           },
           {
            "bin_start": 0.6000000000000001,
            "bin_end": 0.7000000000000001,
            "count": 0
           },
           {
            "bin_start": 0.7000000000000001,
            "bin_end": 0.8,
            "count": 0
           },
           {
            "bin_start": 0.8,
            "bin_end": 0.9,
            "count": 0
           },
           {
            "bin_start": 0.9,
            "bin_end": 1,
            "count": 3
           }
          ]
         }
        },
        {
         "name": "Own_car",
         "dtype": "int64",
         "stats": {
          "unique_count": 2,
          "nan_count": 0,
          "min": "0",
          "max": "1",
          "histogram": [
           {
            "bin_start": 0,
            "bin_end": 0.1,
            "count": 2
           },
           {
            "bin_start": 0.1,
            "bin_end": 0.2,
            "count": 0
           },
           {
            "bin_start": 0.2,
            "bin_end": 0.30000000000000004,
            "count": 0
           },
           {
            "bin_start": 0.30000000000000004,
            "bin_end": 0.4,
            "count": 0
           },
           {
            "bin_start": 0.4,
            "bin_end": 0.5,
            "count": 0
           },
           {
            "bin_start": 0.5,
            "bin_end": 0.6000000000000001,
            "count": 0
           },
           {
            "bin_start": 0.6000000000000001,
            "bin_end": 0.7000000000000001,
            "count": 0
           },
           {
            "bin_start": 0.7000000000000001,
            "bin_end": 0.8,
            "count": 0
           },
           {
            "bin_start": 0.8,
            "bin_end": 0.9,
            "count": 0
           },
           {
            "bin_start": 0.9,
            "bin_end": 1,
            "count": 3
           }
          ]
         }
        },
        {
         "name": "Own_property",
         "dtype": "int64",
         "stats": {
          "unique_count": 1,
          "nan_count": 0,
          "min": "1",
          "max": "1",
          "histogram": [
           {
            "bin_start": 0.5,
            "bin_end": 0.6,
            "count": 0
           },
           {
            "bin_start": 0.6,
            "bin_end": 0.7,
            "count": 0
           },
           {
            "bin_start": 0.7,
            "bin_end": 0.8,
            "count": 0
           },
           {
            "bin_start": 0.8,
            "bin_end": 0.9,
            "count": 0
           },
           {
            "bin_start": 0.9,
            "bin_end": 1,
            "count": 0
           },
           {
            "bin_start": 1,
            "bin_end": 1.1,
            "count": 5
           },
           {
            "bin_start": 1.1,
            "bin_end": 1.2000000000000002,
            "count": 0
           },
           {
            "bin_start": 1.2000000000000002,
            "bin_end": 1.3,
            "count": 0
           },
           {
            "bin_start": 1.3,
            "bin_end": 1.4,
            "count": 0
           },
           {
            "bin_start": 1.4,
            "bin_end": 1.5,
            "count": 0
           }
          ]
         }
        },
        {
         "name": "Work_phone",
         "dtype": "int64",
         "stats": {
          "unique_count": 2,
          "nan_count": 0,
          "min": "0",
          "max": "1",
          "histogram": [
           {
            "bin_start": 0,
            "bin_end": 0.1,
            "count": 3
           },
           {
            "bin_start": 0.1,
            "bin_end": 0.2,
            "count": 0
           },
           {
            "bin_start": 0.2,
            "bin_end": 0.30000000000000004,
            "count": 0
           },
           {
            "bin_start": 0.30000000000000004,
            "bin_end": 0.4,
            "count": 0
           },
           {
            "bin_start": 0.4,
            "bin_end": 0.5,
            "count": 0
           },
           {
            "bin_start": 0.5,
            "bin_end": 0.6000000000000001,
            "count": 0
           },
           {
            "bin_start": 0.6000000000000001,
            "bin_end": 0.7000000000000001,
            "count": 0
           },
           {
            "bin_start": 0.7000000000000001,
            "bin_end": 0.8,
            "count": 0
           },
           {
            "bin_start": 0.8,
            "bin_end": 0.9,
            "count": 0
           },
           {
            "bin_start": 0.9,
            "bin_end": 1,
            "count": 2
           }
          ]
         }
        },
        {
         "name": "Phone",
         "dtype": "int64",
         "stats": {
          "unique_count": 2,
          "nan_count": 0,
          "min": "0",
          "max": "1",
          "histogram": [
           {
            "bin_start": 0,
            "bin_end": 0.1,
            "count": 3
           },
           {
            "bin_start": 0.1,
            "bin_end": 0.2,
            "count": 0
           },
           {
            "bin_start": 0.2,
            "bin_end": 0.30000000000000004,
            "count": 0
           },
           {
            "bin_start": 0.30000000000000004,
            "bin_end": 0.4,
            "count": 0
           },
           {
            "bin_start": 0.4,
            "bin_end": 0.5,
            "count": 0
           },
           {
            "bin_start": 0.5,
            "bin_end": 0.6000000000000001,
            "count": 0
           },
           {
            "bin_start": 0.6000000000000001,
            "bin_end": 0.7000000000000001,
            "count": 0
           },
           {
            "bin_start": 0.7000000000000001,
            "bin_end": 0.8,
            "count": 0
           },
           {
            "bin_start": 0.8,
            "bin_end": 0.9,
            "count": 0
           },
           {
            "bin_start": 0.9,
            "bin_end": 1,
            "count": 2
           }
          ]
         }
        },
        {
         "name": "Email",
         "dtype": "int64",
         "stats": {
          "unique_count": 2,
          "nan_count": 0,
          "min": "0",
          "max": "1",
          "histogram": [
           {
            "bin_start": 0,
            "bin_end": 0.1,
            "count": 3
           },
           {
            "bin_start": 0.1,
            "bin_end": 0.2,
            "count": 0
           },
           {
            "bin_start": 0.2,
            "bin_end": 0.30000000000000004,
            "count": 0
           },
           {
            "bin_start": 0.30000000000000004,
            "bin_end": 0.4,
            "count": 0
           },
           {
            "bin_start": 0.4,
            "bin_end": 0.5,
            "count": 0
           },
           {
            "bin_start": 0.5,
            "bin_end": 0.6000000000000001,
            "count": 0
           },
           {
            "bin_start": 0.6000000000000001,
            "bin_end": 0.7000000000000001,
            "count": 0
           },
           {
            "bin_start": 0.7000000000000001,
            "bin_end": 0.8,
            "count": 0
           },
           {
            "bin_start": 0.8,
            "bin_end": 0.9,
            "count": 0
           },
           {
            "bin_start": 0.9,
            "bin_end": 1,
            "count": 2
           }
          ]
         }
        },
        {
         "name": "Unemployed",
         "dtype": "int64",
         "stats": {
          "unique_count": 2,
          "nan_count": 0,
          "min": "0",
          "max": "1",
          "histogram": [
           {
            "bin_start": 0,
            "bin_end": 0.1,
            "count": 4
           },
           {
            "bin_start": 0.1,
            "bin_end": 0.2,
            "count": 0
           },
           {
            "bin_start": 0.2,
            "bin_end": 0.30000000000000004,
            "count": 0
           },
           {
            "bin_start": 0.30000000000000004,
            "bin_end": 0.4,
            "count": 0
           },
           {
            "bin_start": 0.4,
            "bin_end": 0.5,
            "count": 0
           },
           {
            "bin_start": 0.5,
            "bin_end": 0.6000000000000001,
            "count": 0
           },
           {
            "bin_start": 0.6000000000000001,
            "bin_end": 0.7000000000000001,
            "count": 0
           },
           {
            "bin_start": 0.7000000000000001,
            "bin_end": 0.8,
            "count": 0
           },
           {
            "bin_start": 0.8,
            "bin_end": 0.9,
            "count": 0
           },
           {
            "bin_start": 0.9,
            "bin_end": 1,
            "count": 1
           }
          ]
         }
        },
        {
         "name": "Num_children",
         "dtype": "int64",
         "stats": {
          "unique_count": 1,
          "nan_count": 0,
          "min": "0",
          "max": "0",
          "histogram": [
           {
            "bin_start": -0.5,
            "bin_end": -0.4,
            "count": 0
           },
           {
            "bin_start": -0.4,
            "bin_end": -0.3,
            "count": 0
           },
           {
            "bin_start": -0.3,
            "bin_end": -0.19999999999999996,
            "count": 0
           },
           {
            "bin_start": -0.19999999999999996,
            "bin_end": -0.09999999999999998,
            "count": 0
           },
           {
            "bin_start": -0.09999999999999998,
            "bin_end": 0,
            "count": 0
           },
           {
            "bin_start": 0,
            "bin_end": 0.10000000000000009,
            "count": 5
           },
           {
            "bin_start": 0.10000000000000009,
            "bin_end": 0.20000000000000007,
            "count": 0
           },
           {
            "bin_start": 0.20000000000000007,
            "bin_end": 0.30000000000000004,
            "count": 0
           },
           {
            "bin_start": 0.30000000000000004,
            "bin_end": 0.4,
            "count": 0
           },
           {
            "bin_start": 0.4,
            "bin_end": 0.5,
            "count": 0
           }
          ]
         }
        },
        {
         "name": "Num_family",
         "dtype": "int64",
         "stats": {
          "unique_count": 2,
          "nan_count": 0,
          "min": "1",
          "max": "2",
          "histogram": [
           {
            "bin_start": 1,
            "bin_end": 1.1,
            "count": 2
           },
           {
            "bin_start": 1.1,
            "bin_end": 1.2,
            "count": 0
           },
           {
            "bin_start": 1.2,
            "bin_end": 1.3,
            "count": 0
           },
           {
            "bin_start": 1.3,
            "bin_end": 1.4,
            "count": 0
           },
           {
            "bin_start": 1.4,
            "bin_end": 1.5,
            "count": 0
           },
           {
            "bin_start": 1.5,
            "bin_end": 1.6,
            "count": 0
           },
           {
            "bin_start": 1.6,
            "bin_end": 1.7000000000000002,
            "count": 0
           },
           {
            "bin_start": 1.7000000000000002,
            "bin_end": 1.8,
            "count": 0
           },
           {
            "bin_start": 1.8,
            "bin_end": 1.9,
            "count": 0
           },
           {
            "bin_start": 1.9,
            "bin_end": 2,
            "count": 3
           }
          ]
         }
        },
        {
         "name": "Account_length",
         "dtype": "int64",
         "stats": {
          "unique_count": 5,
          "nan_count": 0,
          "min": "4",
          "max": "29",
          "histogram": [
           {
            "bin_start": 4,
            "bin_end": 6.5,
            "count": 2
           },
           {
            "bin_start": 6.5,
            "bin_end": 9,
            "count": 0
           },
           {
            "bin_start": 9,
            "bin_end": 11.5,
            "count": 0
           },
           {
            "bin_start": 11.5,
            "bin_end": 14,
            "count": 0
           },
           {
            "bin_start": 14,
            "bin_end": 16.5,
            "count": 1
           },
           {
            "bin_start": 16.5,
            "bin_end": 19,
            "count": 0
           },
           {
            "bin_start": 19,
            "bin_end": 21.5,
            "count": 1
           },
           {
            "bin_start": 21.5,
            "bin_end": 24,
            "count": 0
           },
           {
            "bin_start": 24,
            "bin_end": 26.5,
            "count": 0
           },
           {
            "bin_start": 26.5,
            "bin_end": 29,
            "count": 1
           }
          ]
         }
        },
        {
         "name": "Total_income",
         "dtype": "float64",
         "stats": {
          "unique_count": 4,
          "nan_count": 0,
          "min": "112500.0",
          "max": "427500.0",
          "histogram": [
           {
            "bin_start": 112500,
            "bin_end": 144000,
            "count": 1
           },
           {
            "bin_start": 144000,
            "bin_end": 175500,
            "count": 0
           },
           {
            "bin_start": 175500,
            "bin_end": 207000,
            "count": 0
           },
           {
            "bin_start": 207000,
            "bin_end": 238500,
            "count": 0
           },
           {
            "bin_start": 238500,
            "bin_end": 270000,
            "count": 0
           },
           {
            "bin_start": 270000,
            "bin_end": 301500,
            "count": 3
           },
           {
            "bin_start": 301500,
            "bin_end": 333000,
            "count": 0
           },
           {
            "bin_start": 333000,
            "bin_end": 364500,
            "count": 0
           },
           {
            "bin_start": 364500,
            "bin_end": 396000,
            "count": 0
           },
           {
            "bin_start": 396000,
            "bin_end": 427500,
            "count": 1
           }
          ]
         }
        },
        {
         "name": "Age",
         "dtype": "float64",
         "stats": {
          "unique_count": 5,
          "nan_count": 0,
          "min": "32.86857361889703",
          "max": "61.50434300498984",
          "histogram": [
           {
            "bin_start": 32.86857361889703,
            "bin_end": 35.732150557506316,
            "count": 1
           },
           {
            "bin_start": 35.732150557506316,
            "bin_end": 38.59572749611559,
            "count": 0
           },
           {
            "bin_start": 38.59572749611559,
            "bin_end": 41.45930443472487,
            "count": 0
           },
           {
            "bin_start": 41.45930443472487,
            "bin_end": 44.322881373334155,
            "count": 0
           },
           {
            "bin_start": 44.322881373334155,
            "bin_end": 47.18645831194344,
            "count": 1
           },
           {
            "bin_start": 47.18645831194344,
            "bin_end": 50.05003525055272,
            "count": 0
           },
           {
            "bin_start": 50.05003525055272,
            "bin_end": 52.913612189161995,
            "count": 1
           },
           {
            "bin_start": 52.913612189161995,
            "bin_end": 55.77718912777128,
            "count": 0
           },
           {
            "bin_start": 55.77718912777128,
            "bin_end": 58.640766066380564,
            "count": 0
           },
           {
            "bin_start": 58.640766066380564,
            "bin_end": 61.50434300498984,
            "count": 2
           }
          ]
         }
        },
        {
         "name": "Years_employed",
         "dtype": "float64",
         "stats": {
          "unique_count": 5,
          "nan_count": 0,
          "min": "0.0",
          "max": "12.4355736257418",
          "histogram": [
           {
            "bin_start": 0,
            "bin_end": 1.24355736257418,
            "count": 1
           },
           {
            "bin_start": 1.24355736257418,
            "bin_end": 2.48711472514836,
            "count": 1
           },
           {
            "bin_start": 2.48711472514836,
            "bin_end": 3.73067208772254,
            "count": 1
           },
           {
            "bin_start": 3.73067208772254,
            "bin_end": 4.97422945029672,
            "count": 0
           },
           {
            "bin_start": 4.97422945029672,
            "bin_end": 6.2177868128709,
            "count": 0
           },
           {
            "bin_start": 6.2177868128709,
            "bin_end": 7.46134417544508,
            "count": 0
           },
           {
            "bin_start": 7.46134417544508,
            "bin_end": 8.70490153801926,
            "count": 1
           },
           {
            "bin_start": 8.70490153801926,
            "bin_end": 9.94845890059344,
            "count": 0
           },
           {
            "bin_start": 9.94845890059344,
            "bin_end": 11.19201626316762,
            "count": 0
           },
           {
            "bin_start": 11.19201626316762,
            "bin_end": 12.4355736257418,
            "count": 1
           }
          ]
         }
        },
        {
         "name": "Income_type",
         "dtype": "object",
         "stats": {
          "unique_count": 3,
          "nan_count": 0,
          "categories": [
           {
            "name": "Working",
            "count": 3
           },
           {
            "name": "Commercial associate",
            "count": 1
           },
           {
            "name": "Pensioner",
            "count": 1
           }
          ]
         }
        },
        {
         "name": "Education_type",
         "dtype": "object",
         "stats": {
          "unique_count": 2,
          "nan_count": 0,
          "categories": [
           {
            "name": "Higher education",
            "count": 3
           },
           {
            "name": "Secondary / secondary special",
            "count": 2
           }
          ]
         }
        },
        {
         "name": "Family_status",
         "dtype": "object",
         "stats": {
          "unique_count": 4,
          "nan_count": 0,
          "categories": [
           {
            "name": "Married",
            "count": 2
           },
           {
            "name": "Civil marriage",
            "count": 1
           },
           {
            "name": "2 others",
            "count": 2
           }
          ]
         }
        },
        {
         "name": "Housing_type",
         "dtype": "object",
         "stats": {
          "unique_count": 2,
          "nan_count": 0,
          "categories": [
           {
            "name": "House / apartment",
            "count": 4
           },
           {
            "name": "Rented apartment",
            "count": 1
           }
          ]
         }
        },
        {
         "name": "Occupation_type",
         "dtype": "object",
         "stats": {
          "unique_count": 4,
          "nan_count": 0,
          "categories": [
           {
            "name": "Other",
            "count": 2
           },
           {
            "name": "Security staff",
            "count": 1
           },
           {
            "name": "2 others",
            "count": 2
           }
          ]
         }
        },
        {
         "name": "Target",
         "dtype": "int64",
         "stats": {
          "unique_count": 2,
          "nan_count": 0,
          "min": "0",
          "max": "1",
          "histogram": [
           {
            "bin_start": 0,
            "bin_end": 0.1,
            "count": 4
           },
           {
            "bin_start": 0.1,
            "bin_end": 0.2,
            "count": 0
           },
           {
            "bin_start": 0.2,
            "bin_end": 0.30000000000000004,
            "count": 0
           },
           {
            "bin_start": 0.30000000000000004,
            "bin_end": 0.4,
            "count": 0
           },
           {
            "bin_start": 0.4,
            "bin_end": 0.5,
            "count": 0
           },
           {
            "bin_start": 0.5,
            "bin_end": 0.6000000000000001,
            "count": 0
           },
           {
            "bin_start": 0.6000000000000001,
            "bin_end": 0.7000000000000001,
            "count": 0
           },
           {
            "bin_start": 0.7000000000000001,
            "bin_end": 0.8,
            "count": 0
           },
           {
            "bin_start": 0.8,
            "bin_end": 0.9,
            "count": 0
           },
           {
            "bin_start": 0.9,
            "bin_end": 1,
            "count": 1
           }
          ]
         }
        },
        {
         "name": "_deepnote_index_column",
         "dtype": "int64"
        }
       ],
       "rows": [
        {
         "ID": 5008804,
         "Gender": 1,
         "Own_car": 1,
         "Own_property": 1,
         "Work_phone": 1,
         "Phone": 0,
         "Email": 0,
         "Unemployed": 0,
         "Num_children": 0,
         "Num_family": 2,
         "Account_length": 15,
         "Total_income": 427500,
         "Age": 32.86857361889703,
         "Years_employed": 12.4355736257418,
         "Income_type": "Working",
         "Education_type": "Higher education",
         "Family_status": "Civil marriage",
         "Housing_type": "Rented apartment",
         "Occupation_type": "Other",
         "Target": 1,
         "_deepnote_index_column": 0
        },
        {
         "ID": 5008806,
         "Gender": 1,
         "Own_car": 1,
         "Own_property": 1,
         "Work_phone": 0,
         "Phone": 0,
         "Email": 0,
         "Unemployed": 0,
         "Num_children": 0,
         "Num_family": 2,
         "Account_length": 29,
         "Total_income": 112500,
         "Age": 58.79381506807121,
         "Years_employed": 3.104786545924968,
         "Income_type": "Working",
         "Education_type": "Secondary / secondary special",
         "Family_status": "Married",
         "Housing_type": "House / apartment",
         "Occupation_type": "Security staff",
         "Target": 0,
         "_deepnote_index_column": 1
        },
        {
         "ID": 5008808,
         "Gender": 0,
         "Own_car": 0,
         "Own_property": 1,
         "Work_phone": 0,
         "Phone": 1,
         "Email": 1,
         "Unemployed": 0,
         "Num_children": 0,
         "Num_family": 1,
         "Account_length": 4,
         "Total_income": 270000,
         "Age": 52.32140290355038,
         "Years_employed": 8.353354278321937,
         "Income_type": "Commercial associate",
         "Education_type": "Secondary / secondary special",
         "Family_status": "Single / not married",
         "Housing_type": "House / apartment",
         "Occupation_type": "Sales staff",
         "Target": 0,
         "_deepnote_index_column": 2
        },
        {
         "ID": 5008812,
         "Gender": 0,
         "Own_car": 0,
         "Own_property": 1,
         "Work_phone": 0,
         "Phone": 0,
         "Email": 0,
         "Unemployed": 1,
         "Num_children": 0,
         "Num_family": 1,
         "Account_length": 20,
         "Total_income": 283500,
         "Age": 61.50434300498984,
         "Years_employed": 0,
         "Income_type": "Pensioner",
         "Education_type": "Higher education",
         "Family_status": "Separated",
         "Housing_type": "House / apartment",
         "Occupation_type": "Other",
         "Target": 0,
         "_deepnote_index_column": 3
        },
        {
         "ID": 5008815,
         "Gender": 1,
         "Own_car": 1,
         "Own_property": 1,
         "Work_phone": 1,
         "Phone": 1,
         "Email": 1,
         "Unemployed": 0,
         "Num_children": 0,
         "Num_family": 2,
         "Account_length": 5,
         "Total_income": 270000,
         "Age": 46.1939670219101,
         "Years_employed": 2.1054504883741623,
         "Income_type": "Working",
         "Education_type": "Higher education",
         "Family_status": "Married",
         "Housing_type": "House / apartment",
         "Occupation_type": "Accountants",
         "Target": 0,
         "_deepnote_index_column": 4
        }
       ]
      },
      "text/plain": "        ID  Gender  Own_car  Own_property  Work_phone  Phone  Email  \\\n0  5008804       1        1             1           1      0      0   \n1  5008806       1        1             1           0      0      0   \n2  5008808       0        0             1           0      1      1   \n3  5008812       0        0             1           0      0      0   \n4  5008815       1        1             1           1      1      1   \n\n   Unemployed  Num_children  Num_family  Account_length  Total_income  \\\n0           0             0           2              15      427500.0   \n1           0             0           2              29      112500.0   \n2           0             0           1               4      270000.0   \n3           1             0           1              20      283500.0   \n4           0             0           2               5      270000.0   \n\n         Age  Years_employed           Income_type  \\\n0  32.868574       12.435574               Working   \n1  58.793815        3.104787               Working   \n2  52.321403        8.353354  Commercial associate   \n3  61.504343        0.000000             Pensioner   \n4  46.193967        2.105450               Working   \n\n                  Education_type         Family_status       Housing_type  \\\n0               Higher education        Civil marriage   Rented apartment   \n1  Secondary / secondary special               Married  House / apartment   \n2  Secondary / secondary special  Single / not married  House / apartment   \n3               Higher education             Separated  House / apartment   \n4               Higher education               Married  House / apartment   \n\n  Occupation_type  Target  \n0           Other       1  \n1  Security staff       0  \n2     Sales staff       0  \n3           Other       0  \n4     Accountants       0  ",
      "text/html": "<div>\n<style scoped>\n    .dataframe tbody tr th:only-of-type {\n        vertical-align: middle;\n    }\n\n    .dataframe tbody tr th {\n        vertical-align: top;\n    }\n\n    .dataframe thead th {\n        text-align: right;\n    }\n</style>\n<table border=\"1\" class=\"dataframe\">\n  <thead>\n    <tr style=\"text-align: right;\">\n      <th></th>\n      <th>ID</th>\n      <th>Gender</th>\n      <th>Own_car</th>\n      <th>Own_property</th>\n      <th>Work_phone</th>\n      <th>Phone</th>\n      <th>Email</th>\n      <th>Unemployed</th>\n      <th>Num_children</th>\n      <th>Num_family</th>\n      <th>Account_length</th>\n      <th>Total_income</th>\n      <th>Age</th>\n      <th>Years_employed</th>\n      <th>Income_type</th>\n      <th>Education_type</th>\n      <th>Family_status</th>\n      <th>Housing_type</th>\n      <th>Occupation_type</th>\n      <th>Target</th>\n    </tr>\n  </thead>\n  <tbody>\n    <tr>\n      <th>0</th>\n      <td>5008804</td>\n      <td>1</td>\n      <td>1</td>\n      <td>1</td>\n      <td>1</td>\n      <td>0</td>\n      <td>0</td>\n      <td>0</td>\n      <td>0</td>\n      <td>2</td>\n      <td>15</td>\n      <td>427500.0</td>\n      <td>32.868574</td>\n      <td>12.435574</td>\n      <td>Working</td>\n      <td>Higher education</td>\n      <td>Civil marriage</td>\n      <td>Rented apartment</td>\n      <td>Other</td>\n      <td>1</td>\n    </tr>\n    <tr>\n      <th>1</th>\n      <td>5008806</td>\n      <td>1</td>\n      <td>1</td>\n      <td>1</td>\n      <td>0</td>\n      <td>0</td>\n      <td>0</td>\n      <td>0</td>\n      <td>0</td>\n      <td>2</td>\n      <td>29</td>\n      <td>112500.0</td>\n      <td>58.793815</td>\n      <td>3.104787</td>\n      <td>Working</td>\n      <td>Secondary / secondary special</td>\n      <td>Married</td>\n      <td>House / apartment</td>\n      <td>Security staff</td>\n      <td>0</td>\n    </tr>\n    <tr>\n      <th>2</th>\n      <td>5008808</td>\n      <td>0</td>\n      <td>0</td>\n      <td>1</td>\n      <td>0</td>\n      <td>1</td>\n      <td>1</td>\n      <td>0</td>\n      <td>0</td>\n      <td>1</td>\n      <td>4</td>\n      <td>270000.0</td>\n      <td>52.321403</td>\n      <td>8.353354</td>\n      <td>Commercial associate</td>\n      <td>Secondary / secondary special</td>\n      <td>Single / not married</td>\n      <td>House / apartment</td>\n      <td>Sales staff</td>\n      <td>0</td>\n    </tr>\n    <tr>\n      <th>3</th>\n      <td>5008812</td>\n      <td>0</td>\n      <td>0</td>\n      <td>1</td>\n      <td>0</td>\n      <td>0</td>\n      <td>0</td>\n      <td>1</td>\n      <td>0</td>\n      <td>1</td>\n      <td>20</td>\n      <td>283500.0</td>\n      <td>61.504343</td>\n      <td>0.000000</td>\n      <td>Pensioner</td>\n      <td>Higher education</td>\n      <td>Separated</td>\n      <td>House / apartment</td>\n      <td>Other</td>\n      <td>0</td>\n    </tr>\n    <tr>\n      <th>4</th>\n      <td>5008815</td>\n      <td>1</td>\n      <td>1</td>\n      <td>1</td>\n      <td>1</td>\n      <td>1</td>\n      <td>1</td>\n      <td>0</td>\n      <td>0</td>\n      <td>2</td>\n      <td>5</td>\n      <td>270000.0</td>\n      <td>46.193967</td>\n      <td>2.105450</td>\n      <td>Working</td>\n      <td>Higher education</td>\n      <td>Married</td>\n      <td>House / apartment</td>\n      <td>Accountants</td>\n      <td>0</td>\n    </tr>\n  </tbody>\n</table>\n</div>"
     },
     "metadata": {}
    }
   ]
  },
  {
   "cell_type": "markdown",
   "source": "## 2. Pre-processing\n### 2.1 Dropping attributes\nAs first pre-processing step, we decided to prune the dataset to remove columns that are either redundant (e.g. <code>Num_children</code> is somewhat contained in <code>Num_family</code>) or less informative, like <code>ID</code> or <code>phone</code>. In the end, we decided to keep only the attributes marked previously in **bold**, reducing the number of columns to 12.",
   "metadata": {
    "cell_id": "5b612c40170f4f7cb2ea969c71d547c0",
    "tags": [],
    "deepnote_cell_type": "markdown",
    "deepnote_cell_height": 201.171875
   }
  },
  {
   "cell_type": "code",
   "metadata": {
    "colab": {
     "base_uri": "https://localhost:8080/",
     "height": 285
    },
    "id": "QmehouJl8ht2",
    "outputId": "29228e44-cc1c-4471-d227-1fe4048ca3b7",
    "cell_id": "00001-d3e56bbb-0896-4f34-a69a-54f32f43897c",
    "deepnote_to_be_reexecuted": false,
    "source_hash": "17c04a42",
    "execution_start": 1649523078532,
    "execution_millis": 43,
    "deepnote_cell_type": "code",
    "deepnote_cell_height": 530.1875
   },
   "source": "# df2 will act as working copy of the data we are interested in\ndf2 = df.drop([\"ID\", \"Work_phone\", \"Phone\", \"Email\", \"Years_employed\", \"Occupation_type\", \"Housing_type\", \"Num_children\"], axis=1)\n\nprint(\"New dataset size:{}\".format(df2.shape))\ndf2.head()",
   "execution_count": null,
   "outputs": [
    {
     "name": "stdout",
     "text": "New dataset size:(9709, 12)\n",
     "output_type": "stream"
    },
    {
     "output_type": "execute_result",
     "execution_count": 44,
     "data": {
      "application/vnd.deepnote.dataframe.v3+json": {
       "column_count": 12,
       "row_count": 5,
       "columns": [
        {
         "name": "Gender",
         "dtype": "int64",
         "stats": {
          "unique_count": 2,
          "nan_count": 0,
          "min": "0",
          "max": "1",
          "histogram": [
           {
            "bin_start": 0,
            "bin_end": 0.1,
            "count": 2
           },
           {
            "bin_start": 0.1,
            "bin_end": 0.2,
            "count": 0
           },
           {
            "bin_start": 0.2,
            "bin_end": 0.30000000000000004,
            "count": 0
           },
           {
            "bin_start": 0.30000000000000004,
            "bin_end": 0.4,
            "count": 0
           },
           {
            "bin_start": 0.4,
            "bin_end": 0.5,
            "count": 0
           },
           {
            "bin_start": 0.5,
            "bin_end": 0.6000000000000001,
            "count": 0
           },
           {
            "bin_start": 0.6000000000000001,
            "bin_end": 0.7000000000000001,
            "count": 0
           },
           {
            "bin_start": 0.7000000000000001,
            "bin_end": 0.8,
            "count": 0
           },
           {
            "bin_start": 0.8,
            "bin_end": 0.9,
            "count": 0
           },
           {
            "bin_start": 0.9,
            "bin_end": 1,
            "count": 3
           }
          ]
         }
        },
        {
         "name": "Own_car",
         "dtype": "int64",
         "stats": {
          "unique_count": 2,
          "nan_count": 0,
          "min": "0",
          "max": "1",
          "histogram": [
           {
            "bin_start": 0,
            "bin_end": 0.1,
            "count": 2
           },
           {
            "bin_start": 0.1,
            "bin_end": 0.2,
            "count": 0
           },
           {
            "bin_start": 0.2,
            "bin_end": 0.30000000000000004,
            "count": 0
           },
           {
            "bin_start": 0.30000000000000004,
            "bin_end": 0.4,
            "count": 0
           },
           {
            "bin_start": 0.4,
            "bin_end": 0.5,
            "count": 0
           },
           {
            "bin_start": 0.5,
            "bin_end": 0.6000000000000001,
            "count": 0
           },
           {
            "bin_start": 0.6000000000000001,
            "bin_end": 0.7000000000000001,
            "count": 0
           },
           {
            "bin_start": 0.7000000000000001,
            "bin_end": 0.8,
            "count": 0
           },
           {
            "bin_start": 0.8,
            "bin_end": 0.9,
            "count": 0
           },
           {
            "bin_start": 0.9,
            "bin_end": 1,
            "count": 3
           }
          ]
         }
        },
        {
         "name": "Own_property",
         "dtype": "int64",
         "stats": {
          "unique_count": 1,
          "nan_count": 0,
          "min": "1",
          "max": "1",
          "histogram": [
           {
            "bin_start": 0.5,
            "bin_end": 0.6,
            "count": 0
           },
           {
            "bin_start": 0.6,
            "bin_end": 0.7,
            "count": 0
           },
           {
            "bin_start": 0.7,
            "bin_end": 0.8,
            "count": 0
           },
           {
            "bin_start": 0.8,
            "bin_end": 0.9,
            "count": 0
           },
           {
            "bin_start": 0.9,
            "bin_end": 1,
            "count": 0
           },
           {
            "bin_start": 1,
            "bin_end": 1.1,
            "count": 5
           },
           {
            "bin_start": 1.1,
            "bin_end": 1.2000000000000002,
            "count": 0
           },
           {
            "bin_start": 1.2000000000000002,
            "bin_end": 1.3,
            "count": 0
           },
           {
            "bin_start": 1.3,
            "bin_end": 1.4,
            "count": 0
           },
           {
            "bin_start": 1.4,
            "bin_end": 1.5,
            "count": 0
           }
          ]
         }
        },
        {
         "name": "Unemployed",
         "dtype": "int64",
         "stats": {
          "unique_count": 2,
          "nan_count": 0,
          "min": "0",
          "max": "1",
          "histogram": [
           {
            "bin_start": 0,
            "bin_end": 0.1,
            "count": 4
           },
           {
            "bin_start": 0.1,
            "bin_end": 0.2,
            "count": 0
           },
           {
            "bin_start": 0.2,
            "bin_end": 0.30000000000000004,
            "count": 0
           },
           {
            "bin_start": 0.30000000000000004,
            "bin_end": 0.4,
            "count": 0
           },
           {
            "bin_start": 0.4,
            "bin_end": 0.5,
            "count": 0
           },
           {
            "bin_start": 0.5,
            "bin_end": 0.6000000000000001,
            "count": 0
           },
           {
            "bin_start": 0.6000000000000001,
            "bin_end": 0.7000000000000001,
            "count": 0
           },
           {
            "bin_start": 0.7000000000000001,
            "bin_end": 0.8,
            "count": 0
           },
           {
            "bin_start": 0.8,
            "bin_end": 0.9,
            "count": 0
           },
           {
            "bin_start": 0.9,
            "bin_end": 1,
            "count": 1
           }
          ]
         }
        },
        {
         "name": "Num_family",
         "dtype": "int64",
         "stats": {
          "unique_count": 2,
          "nan_count": 0,
          "min": "1",
          "max": "2",
          "histogram": [
           {
            "bin_start": 1,
            "bin_end": 1.1,
            "count": 2
           },
           {
            "bin_start": 1.1,
            "bin_end": 1.2,
            "count": 0
           },
           {
            "bin_start": 1.2,
            "bin_end": 1.3,
            "count": 0
           },
           {
            "bin_start": 1.3,
            "bin_end": 1.4,
            "count": 0
           },
           {
            "bin_start": 1.4,
            "bin_end": 1.5,
            "count": 0
           },
           {
            "bin_start": 1.5,
            "bin_end": 1.6,
            "count": 0
           },
           {
            "bin_start": 1.6,
            "bin_end": 1.7000000000000002,
            "count": 0
           },
           {
            "bin_start": 1.7000000000000002,
            "bin_end": 1.8,
            "count": 0
           },
           {
            "bin_start": 1.8,
            "bin_end": 1.9,
            "count": 0
           },
           {
            "bin_start": 1.9,
            "bin_end": 2,
            "count": 3
           }
          ]
         }
        },
        {
         "name": "Account_length",
         "dtype": "int64",
         "stats": {
          "unique_count": 5,
          "nan_count": 0,
          "min": "4",
          "max": "29",
          "histogram": [
           {
            "bin_start": 4,
            "bin_end": 6.5,
            "count": 2
           },
           {
            "bin_start": 6.5,
            "bin_end": 9,
            "count": 0
           },
           {
            "bin_start": 9,
            "bin_end": 11.5,
            "count": 0
           },
           {
            "bin_start": 11.5,
            "bin_end": 14,
            "count": 0
           },
           {
            "bin_start": 14,
            "bin_end": 16.5,
            "count": 1
           },
           {
            "bin_start": 16.5,
            "bin_end": 19,
            "count": 0
           },
           {
            "bin_start": 19,
            "bin_end": 21.5,
            "count": 1
           },
           {
            "bin_start": 21.5,
            "bin_end": 24,
            "count": 0
           },
           {
            "bin_start": 24,
            "bin_end": 26.5,
            "count": 0
           },
           {
            "bin_start": 26.5,
            "bin_end": 29,
            "count": 1
           }
          ]
         }
        },
        {
         "name": "Total_income",
         "dtype": "float64",
         "stats": {
          "unique_count": 4,
          "nan_count": 0,
          "min": "112500.0",
          "max": "427500.0",
          "histogram": [
           {
            "bin_start": 112500,
            "bin_end": 144000,
            "count": 1
           },
           {
            "bin_start": 144000,
            "bin_end": 175500,
            "count": 0
           },
           {
            "bin_start": 175500,
            "bin_end": 207000,
            "count": 0
           },
           {
            "bin_start": 207000,
            "bin_end": 238500,
            "count": 0
           },
           {
            "bin_start": 238500,
            "bin_end": 270000,
            "count": 0
           },
           {
            "bin_start": 270000,
            "bin_end": 301500,
            "count": 3
           },
           {
            "bin_start": 301500,
            "bin_end": 333000,
            "count": 0
           },
           {
            "bin_start": 333000,
            "bin_end": 364500,
            "count": 0
           },
           {
            "bin_start": 364500,
            "bin_end": 396000,
            "count": 0
           },
           {
            "bin_start": 396000,
            "bin_end": 427500,
            "count": 1
           }
          ]
         }
        },
        {
         "name": "Age",
         "dtype": "int8",
         "stats": {
          "unique_count": 5,
          "nan_count": 0,
          "min": "32",
          "max": "61",
          "histogram": [
           {
            "bin_start": 32,
            "bin_end": 34.9,
            "count": 1
           },
           {
            "bin_start": 34.9,
            "bin_end": 37.8,
            "count": 0
           },
           {
            "bin_start": 37.8,
            "bin_end": 40.7,
            "count": 0
           },
           {
            "bin_start": 40.7,
            "bin_end": 43.6,
            "count": 0
           },
           {
            "bin_start": 43.6,
            "bin_end": 46.5,
            "count": 1
           },
           {
            "bin_start": 46.5,
            "bin_end": 49.4,
            "count": 0
           },
           {
            "bin_start": 49.4,
            "bin_end": 52.3,
            "count": 1
           },
           {
            "bin_start": 52.3,
            "bin_end": 55.2,
            "count": 0
           },
           {
            "bin_start": 55.2,
            "bin_end": 58.099999999999994,
            "count": 1
           },
           {
            "bin_start": 58.099999999999994,
            "bin_end": 61,
            "count": 1
           }
          ]
         }
        },
        {
         "name": "Income_type",
         "dtype": "object",
         "stats": {
          "unique_count": 3,
          "nan_count": 0,
          "categories": [
           {
            "name": "Working",
            "count": 3
           },
           {
            "name": "Commercial associate",
            "count": 1
           },
           {
            "name": "Pensioner",
            "count": 1
           }
          ]
         }
        },
        {
         "name": "Education_type",
         "dtype": "object",
         "stats": {
          "unique_count": 2,
          "nan_count": 0,
          "categories": [
           {
            "name": "Higher education",
            "count": 3
           },
           {
            "name": "Secondary / secondary special",
            "count": 2
           }
          ]
         }
        },
        {
         "name": "Family_status",
         "dtype": "object",
         "stats": {
          "unique_count": 4,
          "nan_count": 0,
          "categories": [
           {
            "name": "Married",
            "count": 2
           },
           {
            "name": "Civil marriage",
            "count": 1
           },
           {
            "name": "2 others",
            "count": 2
           }
          ]
         }
        },
        {
         "name": "Target",
         "dtype": "int64",
         "stats": {
          "unique_count": 2,
          "nan_count": 0,
          "min": "0",
          "max": "1",
          "histogram": [
           {
            "bin_start": 0,
            "bin_end": 0.1,
            "count": 4
           },
           {
            "bin_start": 0.1,
            "bin_end": 0.2,
            "count": 0
           },
           {
            "bin_start": 0.2,
            "bin_end": 0.30000000000000004,
            "count": 0
           },
           {
            "bin_start": 0.30000000000000004,
            "bin_end": 0.4,
            "count": 0
           },
           {
            "bin_start": 0.4,
            "bin_end": 0.5,
            "count": 0
           },
           {
            "bin_start": 0.5,
            "bin_end": 0.6000000000000001,
            "count": 0
           },
           {
            "bin_start": 0.6000000000000001,
            "bin_end": 0.7000000000000001,
            "count": 0
           },
           {
            "bin_start": 0.7000000000000001,
            "bin_end": 0.8,
            "count": 0
           },
           {
            "bin_start": 0.8,
            "bin_end": 0.9,
            "count": 0
           },
           {
            "bin_start": 0.9,
            "bin_end": 1,
            "count": 1
           }
          ]
         }
        },
        {
         "name": "_deepnote_index_column",
         "dtype": "int64"
        }
       ],
       "rows": [
        {
         "Gender": 1,
         "Own_car": 1,
         "Own_property": 1,
         "Unemployed": 0,
         "Num_family": 2,
         "Account_length": 15,
         "Total_income": 427500,
         "Age": 32,
         "Income_type": "Working",
         "Education_type": "Higher education",
         "Family_status": "Civil marriage",
         "Target": 1,
         "_deepnote_index_column": 0
        },
        {
         "Gender": 1,
         "Own_car": 1,
         "Own_property": 1,
         "Unemployed": 0,
         "Num_family": 2,
         "Account_length": 29,
         "Total_income": 112500,
         "Age": 58,
         "Income_type": "Working",
         "Education_type": "Secondary / secondary special",
         "Family_status": "Married",
         "Target": 0,
         "_deepnote_index_column": 1
        },
        {
         "Gender": 0,
         "Own_car": 0,
         "Own_property": 1,
         "Unemployed": 0,
         "Num_family": 1,
         "Account_length": 4,
         "Total_income": 270000,
         "Age": 52,
         "Income_type": "Commercial associate",
         "Education_type": "Secondary / secondary special",
         "Family_status": "Single / not married",
         "Target": 0,
         "_deepnote_index_column": 2
        },
        {
         "Gender": 0,
         "Own_car": 0,
         "Own_property": 1,
         "Unemployed": 1,
         "Num_family": 1,
         "Account_length": 20,
         "Total_income": 283500,
         "Age": 61,
         "Income_type": "Pensioner",
         "Education_type": "Higher education",
         "Family_status": "Separated",
         "Target": 0,
         "_deepnote_index_column": 3
        },
        {
         "Gender": 1,
         "Own_car": 1,
         "Own_property": 1,
         "Unemployed": 0,
         "Num_family": 2,
         "Account_length": 5,
         "Total_income": 270000,
         "Age": 46,
         "Income_type": "Working",
         "Education_type": "Higher education",
         "Family_status": "Married",
         "Target": 0,
         "_deepnote_index_column": 4
        }
       ]
      },
      "text/plain": "   Gender  Own_car  Own_property  Unemployed  Num_family  Account_length  \\\n0       1        1             1           0           2              15   \n1       1        1             1           0           2              29   \n2       0        0             1           0           1               4   \n3       0        0             1           1           1              20   \n4       1        1             1           0           2               5   \n\n   Total_income  Age           Income_type                 Education_type  \\\n0      427500.0   32               Working               Higher education   \n1      112500.0   58               Working  Secondary / secondary special   \n2      270000.0   52  Commercial associate  Secondary / secondary special   \n3      283500.0   61             Pensioner               Higher education   \n4      270000.0   46               Working               Higher education   \n\n          Family_status  Target  \n0        Civil marriage       1  \n1               Married       0  \n2  Single / not married       0  \n3             Separated       0  \n4               Married       0  ",
      "text/html": "<div>\n<style scoped>\n    .dataframe tbody tr th:only-of-type {\n        vertical-align: middle;\n    }\n\n    .dataframe tbody tr th {\n        vertical-align: top;\n    }\n\n    .dataframe thead th {\n        text-align: right;\n    }\n</style>\n<table border=\"1\" class=\"dataframe\">\n  <thead>\n    <tr style=\"text-align: right;\">\n      <th></th>\n      <th>Gender</th>\n      <th>Own_car</th>\n      <th>Own_property</th>\n      <th>Unemployed</th>\n      <th>Num_family</th>\n      <th>Account_length</th>\n      <th>Total_income</th>\n      <th>Age</th>\n      <th>Income_type</th>\n      <th>Education_type</th>\n      <th>Family_status</th>\n      <th>Target</th>\n    </tr>\n  </thead>\n  <tbody>\n    <tr>\n      <th>0</th>\n      <td>1</td>\n      <td>1</td>\n      <td>1</td>\n      <td>0</td>\n      <td>2</td>\n      <td>15</td>\n      <td>427500.0</td>\n      <td>32</td>\n      <td>Working</td>\n      <td>Higher education</td>\n      <td>Civil marriage</td>\n      <td>1</td>\n    </tr>\n    <tr>\n      <th>1</th>\n      <td>1</td>\n      <td>1</td>\n      <td>1</td>\n      <td>0</td>\n      <td>2</td>\n      <td>29</td>\n      <td>112500.0</td>\n      <td>58</td>\n      <td>Working</td>\n      <td>Secondary / secondary special</td>\n      <td>Married</td>\n      <td>0</td>\n    </tr>\n    <tr>\n      <th>2</th>\n      <td>0</td>\n      <td>0</td>\n      <td>1</td>\n      <td>0</td>\n      <td>1</td>\n      <td>4</td>\n      <td>270000.0</td>\n      <td>52</td>\n      <td>Commercial associate</td>\n      <td>Secondary / secondary special</td>\n      <td>Single / not married</td>\n      <td>0</td>\n    </tr>\n    <tr>\n      <th>3</th>\n      <td>0</td>\n      <td>0</td>\n      <td>1</td>\n      <td>1</td>\n      <td>1</td>\n      <td>20</td>\n      <td>283500.0</td>\n      <td>61</td>\n      <td>Pensioner</td>\n      <td>Higher education</td>\n      <td>Separated</td>\n      <td>0</td>\n    </tr>\n    <tr>\n      <th>4</th>\n      <td>1</td>\n      <td>1</td>\n      <td>1</td>\n      <td>0</td>\n      <td>2</td>\n      <td>5</td>\n      <td>270000.0</td>\n      <td>46</td>\n      <td>Working</td>\n      <td>Higher education</td>\n      <td>Married</td>\n      <td>0</td>\n    </tr>\n  </tbody>\n</table>\n</div>"
     },
     "metadata": {}
    }
   ]
  },
  {
   "cell_type": "markdown",
   "source": "### 2.2 Discretization and dimensionality reduction\nThe dataset now does not present strictly continuous quantities, but at most descrete variables with high (or infinite) cardinality domains, like <code>Age</code> or <code>Total_income</code>, which would lead to very big and less informative CPDs. So, we decided to tackle this problem by discretizing the domains according to different criteria.\n\nFirst of all, we decided to discretize <code>Num_family</code> so to have four different values: '1', '2', '3' and '4+'.",
   "metadata": {
    "cell_id": "72a8bf2217a444febe214e37e1d25e1d",
    "tags": [],
    "deepnote_cell_type": "markdown",
    "deepnote_cell_height": 181.5625
   }
  },
  {
   "cell_type": "code",
   "metadata": {
    "id": "fThoogClFCFs",
    "cell_id": "00003-328ca7bd-9d85-4961-baf7-f6d4a223aa00",
    "deepnote_to_be_reexecuted": false,
    "source_hash": "d2f79928",
    "execution_start": 1649523735073,
    "execution_millis": 0,
    "deepnote_cell_type": "code",
    "deepnote_cell_height": 189
   },
   "source": "# function setting a defult \"thresh+\" value if x exceedes the value thresh, \n# or the string representation of x otherwise. This keeps consistency in the data-type\ndef discretize_num(x):\n    if x >=thresh:\n      return str(thresh) + \"+\"\n    else:\n      return str(x)",
   "execution_count": null,
   "outputs": []
  },
  {
   "cell_type": "code",
   "metadata": {
    "id": "lDQi1J4pHZQ_",
    "cell_id": "00004-d684faed-21ea-4ed2-aca6-78002872cdfe",
    "deepnote_to_be_reexecuted": false,
    "source_hash": "3ce34000",
    "execution_start": 1649524161861,
    "execution_millis": 20,
    "deepnote_cell_type": "code",
    "deepnote_cell_height": 447.125
   },
   "source": "# setting the desired threshold\nthresh = 4\n\n# df3 will contain the final version of the dataset\ndf3 = df2.copy()\nprint(\"Unique values for \\\"Num_family\\\" and respective counts:\")\nprint(np.unique(df2[\"Num_family\"], return_counts=True)[0])\nprint(np.unique(df2[\"Num_family\"], return_counts=True)[1])\n\ndf3[\"Num_family\"] = df2[\"Num_family\"].apply(discretize_num)\n\nprint(\"New unique values for \\\"Num_family\\\" and respective counts:\")\nprint(np.unique(df3[\"Num_family\"], return_counts=True)[0])\nprint(np.unique(df3[\"Num_family\"], return_counts=True)[1])",
   "execution_count": null,
   "outputs": [
    {
     "name": "stdout",
     "text": "Unique values for \"Num_family\" and respective counts:\n[ 1  2  3  4  5  6  7  9 15 20]\n[1947 5183 1635  802  117   18    4    1    1    1]\nNew unique values for \"Num_family\" and respective counts:\n['1' '2' '3' '4+']\n[1947 5183 1635  944]\n",
     "output_type": "stream"
    }
   ]
  },
  {
   "cell_type": "markdown",
   "source": "Then, we decided to discretize <code>Age</code> in intervals defined by steps of 10 years, starting from \"less than 30\" to \"more than 60\". The decision was also taken by watching at the histograms for the distribution and its bounds. Moreover, this operation was performed after casting the variable to integer by means of the floor function.",
   "metadata": {
    "cell_id": "3fb95eea462946da979af6c5cf0878f3",
    "tags": [],
    "deepnote_cell_type": "markdown",
    "deepnote_cell_height": 97.171875
   }
  },
  {
   "cell_type": "code",
   "metadata": {
    "colab": {
     "base_uri": "https://localhost:8080/",
     "height": 317
    },
    "id": "7qty88cuIKyl",
    "outputId": "5c1f6608-a806-4992-a63a-d1e145fdd61e",
    "cell_id": "00005-71861b7e-bc8d-4e56-9462-af8b91958661",
    "deepnote_to_be_reexecuted": false,
    "source_hash": "95c3b657",
    "execution_start": 1649524198811,
    "execution_millis": 354,
    "deepnote_cell_type": "code",
    "deepnote_cell_height": 743,
    "deepnote_output_heights": [
     592
    ]
   },
   "source": "df2[\"Age\"] = df2[\"Age\"].apply(np.floor)\ndf2[\"Age\"] = df2[\"Age\"].astype(np.int8)\n\ndf2.hist(\"Age\", bins=100, figsize=(10,10));",
   "execution_count": null,
   "outputs": [
    {
     "data": {
      "text/plain": "<Figure size 720x720 with 1 Axes>",
      "image/png": "[encoded data removed]"
     },
     "metadata": {
      "needs_background": "light",
      "image/png": {
       "width": 600,
       "height": 590
      }
     },
     "output_type": "display_data"
    }
   ]
  },
  {
   "cell_type": "code",
   "metadata": {
    "colab": {
     "base_uri": "https://localhost:8080/"
    },
    "id": "LyyTVODKI3rZ",
    "outputId": "f0e05aa5-dfb9-4c9a-c370-38ff7c4487d3",
    "cell_id": "00006-c6f21d7e-86b4-400c-b213-272e596ad426",
    "deepnote_to_be_reexecuted": false,
    "source_hash": "daf82904",
    "execution_start": 1649524292039,
    "execution_millis": 2,
    "deepnote_cell_type": "code",
    "deepnote_cell_height": 440.5625
   },
   "source": "# function to discretize the age column\ndef discretize_age(x):\n  if x<30:\n    return \"<30\"\n  elif x<40:\n    return \"30-39\"\n  elif x<50:\n    return \"40-49\"\n  elif x<60:\n    return \"50-59\"\n  else:\n    return \"60>=\"  \n\ndf3[\"Age\"] = df2[\"Age\"].apply(discretize_age)\nprint(\"New unique values for \\\"Age\\\" and respective counts:\")\nprint(np.unique(df3[\"Age\"], return_counts=True)[0])\nprint(np.unique(df3[\"Age\"], return_counts=True)[1])",
   "execution_count": null,
   "outputs": [
    {
     "name": "stdout",
     "text": "New unique values for \"Age\" and respective counts:\n['30-39' '40-49' '50-59' '60>=' '<30']\n[2724 2445 2169 1021 1350]\n",
     "output_type": "stream"
    }
   ]
  },
  {
   "cell_type": "markdown",
   "source": "The next variable to discretize is <code>Total_income</code>. We chose to divide the range into three values \"low\", \"medium\" and \"high\". Since there isn't a trivial way to set the bounds for each bucket, we chose to apply the equi-frequency discretization function based on quantiles, provided by pandas. ",
   "metadata": {
    "cell_id": "c20d058a40944ed79c3de61ba1617636",
    "tags": [],
    "owner_user_id": "22d6d299-87b5-43e8-8680-ed4e80a45a0b",
    "deepnote_cell_type": "markdown",
    "deepnote_cell_height": 97.171875
   }
  },
  {
   "cell_type": "code",
   "metadata": {
    "colab": {
     "base_uri": "https://localhost:8080/",
     "height": 1000
    },
    "id": "jntGNcxlKAVl",
    "outputId": "c8f92cd4-4d68-4b0a-9f3e-7203708671da",
    "cell_id": "00007-669ea30e-3e77-4da4-8419-e6c7aa935bfe",
    "deepnote_to_be_reexecuted": false,
    "source_hash": "39cc0c81",
    "execution_start": 1649518680232,
    "execution_millis": 389,
    "deepnote_cell_type": "code",
    "deepnote_cell_height": 703,
    "deepnote_output_heights": [
     606
    ]
   },
   "source": "df3.hist(\"Total_income\", bins=75, figsize=(10,10));",
   "execution_count": null,
   "outputs": [
    {
     "data": {
      "text/plain": "<Figure size 720x720 with 1 Axes>",
      "image/png": "[encoded data removed]"
     },
     "metadata": {
      "needs_background": "light",
      "image/png": {
       "width": 604,
       "height": 604
      }
     },
     "output_type": "display_data"
    }
   ]
  },
  {
   "cell_type": "code",
   "metadata": {
    "colab": {
     "base_uri": "https://localhost:8080/"
    },
    "id": "H01gIiuRR-PU",
    "outputId": "240e07c4-367a-4cba-b8fe-4bf7a3dc151e",
    "cell_id": "00008-9726c453-d15a-49b2-9aa7-cbdbf2012fe2",
    "deepnote_to_be_reexecuted": false,
    "source_hash": "74c6d30b",
    "execution_start": 1649526466815,
    "execution_millis": 2,
    "deepnote_cell_type": "code",
    "deepnote_cell_height": 224.5625
   },
   "source": "df3[\"Total_income\"] =  pd.qcut(df2['Total_income'], 3, labels=[\"low\", \"medium\", \"high\"])\nprint(\"New unique values for \\\"Total_income\\\" and respective counts:\")\nprint(np.unique(df3[\"Total_income\"], return_counts=True)[0])\nprint(np.unique(df3[\"Total_income\"], return_counts=True)[1])\n",
   "execution_count": null,
   "outputs": [
    {
     "name": "stdout",
     "text": "New unique values for \"Total_income\" and respective counts:\n['high' 'low' 'medium']\n[2777 4078 2854]\n",
     "output_type": "stream"
    }
   ]
  },
  {
   "cell_type": "markdown",
   "source": "Finally, the last column to be discretized is <code>Account_length</code>. As we have done for <code>Age</code> we used the histogram for hints, and we decided to discretize the variable in terms of interval of years: \"&#60;1y\", \"1y-2y\", \"2y-3y\" and \"3y+\"",
   "metadata": {
    "cell_id": "798a5472cd4849a5bbdc58daea2a570c",
    "tags": [],
    "deepnote_cell_type": "markdown",
    "deepnote_cell_height": 74.78125
   }
  },
  {
   "cell_type": "code",
   "metadata": {
    "colab": {
     "base_uri": "https://localhost:8080/",
     "height": 1000
    },
    "id": "SnQmRN22Vg6b",
    "outputId": "e2aee1da-d83e-4f35-f5bb-66238844a3ec",
    "cell_id": "00009-733b99ad-4386-4fa9-be23-fe47c6e062fa",
    "deepnote_to_be_reexecuted": false,
    "source_hash": "f51136c5",
    "execution_start": 1649520836585,
    "execution_millis": 538,
    "deepnote_cell_type": "code",
    "deepnote_cell_height": 689,
    "deepnote_output_heights": [
     592
    ]
   },
   "source": "df3.hist(\"Account_length\", bins=75, figsize=(10,10));",
   "execution_count": null,
   "outputs": [
    {
     "data": {
      "text/plain": "<Figure size 720x720 with 1 Axes>",
      "image/png": "[encoded data removed]"
     },
     "metadata": {
      "needs_background": "light",
      "image/png": {
       "width": 598,
       "height": 590
      }
     },
     "output_type": "display_data"
    }
   ]
  },
  {
   "cell_type": "code",
   "metadata": {
    "colab": {
     "base_uri": "https://localhost:8080/"
    },
    "id": "cw7WuTAnV5-H",
    "outputId": "2424e022-6935-431f-8ba3-db9003c5a069",
    "cell_id": "00010-87a348c9-1974-4749-b159-ea7186f6627f",
    "deepnote_to_be_reexecuted": false,
    "source_hash": "33a5524f",
    "execution_start": 1649527000339,
    "execution_millis": 2,
    "owner_user_id": "d3c0040e-1334-4d1d-af60-5a227b82581a",
    "deepnote_cell_type": "code",
    "deepnote_cell_height": 404.5625
   },
   "source": "# function for account length discretiziation \ndef discretize_al(x):\n  if x < 12:\n    return \"<1y\"\n  elif x < 24:\n    return \"1y-2y\"\n  elif x<36:\n    return \"2y-3y\"\n  else:\n    return \"3y+\"\n\ndf3[\"Account_length\"] = df2[\"Account_length\"].apply(discretize_al)\nprint(\"New unique values for \\\"Account_length\\\" and respective counts:\")\nprint(np.unique(df3[\"Account_length\"], return_counts=True)[0])\nprint(np.unique(df3[\"Account_length\"], return_counts=True)[1])",
   "execution_count": null,
   "outputs": [
    {
     "name": "stdout",
     "text": "New unique values for \"Account_length\" and respective counts:\n['1y-2y' '2y-3y' '3y+' '<1y']\n[2321 1943 3306 2139]\n",
     "output_type": "stream"
    }
   ]
  },
  {
   "cell_type": "markdown",
   "source": "### 2.3 Enhanching explainability\nLastly, we decided to replace values of the boolean variables from \"0\" and \"1\" to more understandable values, so that eventual queries will be more auto-explicative",
   "metadata": {
    "cell_id": "ee63a0d946474adb90364990eb43786a",
    "tags": [],
    "deepnote_cell_type": "markdown",
    "deepnote_cell_height": 122.78125
   }
  },
  {
   "cell_type": "code",
   "metadata": {
    "cell_id": "9e3932d58b3f4c82b86ac512d2dfc2c8",
    "tags": [],
    "deepnote_to_be_reexecuted": false,
    "source_hash": "50f5bb18",
    "execution_start": 1649527389316,
    "execution_millis": 0,
    "deepnote_cell_type": "code",
    "deepnote_cell_height": 153
   },
   "source": "df3[\"Gender\"]       = df3[\"Gender\"].apply(lambda x: \"M\" if x else \"F\")\ndf3[\"Own_car\"]      = df3[\"Own_car\"].apply(lambda x: \"yes\" if x else \"no\")\ndf3[\"Own_property\"] = df3[\"Own_property\"].apply(lambda x: \"yes\" if x else \"no\")\ndf3[\"Unemployed\"]   = df3[\"Unemployed\"].apply(lambda x: \"yes\" if x else \"no\")\ndf3[\"Target\"]       = df3[\"Target\"].apply(lambda x: \"high risk\" if x else \"low risk\")",
   "execution_count": null,
   "outputs": []
  },
  {
   "cell_type": "code",
   "metadata": {
    "cell_id": "9f762c87bee34b6695b77dfe4fcc3c5e",
    "tags": [],
    "deepnote_to_be_reexecuted": false,
    "source_hash": "55945500",
    "execution_start": 1649527396399,
    "execution_millis": 5,
    "deepnote_table_state": {
     "pageSize": 10,
     "pageIndex": 0,
     "filters": [],
     "sortBy": []
    },
    "deepnote_table_loading": false,
    "deepnote_cell_type": "code",
    "deepnote_cell_height": 412
   },
   "source": "df3.head()",
   "execution_count": null,
   "outputs": [
    {
     "output_type": "execute_result",
     "execution_count": 56,
     "data": {
      "application/vnd.deepnote.dataframe.v3+json": {
       "column_count": 12,
       "row_count": 5,
       "columns": [
        {
         "name": "Gender",
         "dtype": "object",
         "stats": {
          "unique_count": 2,
          "nan_count": 0,
          "categories": [
           {
            "name": "M",
            "count": 3
           },
           {
            "name": "F",
            "count": 2
           }
          ]
         }
        },
        {
         "name": "Own_car",
         "dtype": "object",
         "stats": {
          "unique_count": 2,
          "nan_count": 0,
          "categories": [
           {
            "name": "yes",
            "count": 3
           },
           {
            "name": "no",
            "count": 2
           }
          ]
         }
        },
        {
         "name": "Own_property",
         "dtype": "object",
         "stats": {
          "unique_count": 1,
          "nan_count": 0,
          "categories": [
           {
            "name": "yes",
            "count": 5
           }
          ]
         }
        },
        {
         "name": "Unemployed",
         "dtype": "object",
         "stats": {
          "unique_count": 2,
          "nan_count": 0,
          "categories": [
           {
            "name": "no",
            "count": 4
           },
           {
            "name": "yes",
            "count": 1
           }
          ]
         }
        },
        {
         "name": "Num_family",
         "dtype": "object",
         "stats": {
          "unique_count": 2,
          "nan_count": 0,
          "categories": [
           {
            "name": "2",
            "count": 3
           },
           {
            "name": "1",
            "count": 2
           }
          ]
         }
        },
        {
         "name": "Account_length",
         "dtype": "object",
         "stats": {
          "unique_count": 3,
          "nan_count": 0,
          "categories": [
           {
            "name": "1y-2y",
            "count": 2
           },
           {
            "name": "<1y",
            "count": 2
           },
           {
            "name": "2y-3y",
            "count": 1
           }
          ]
         }
        },
        {
         "name": "Total_income",
         "dtype": "category",
         "stats": {
          "unique_count": 2,
          "nan_count": 0,
          "categories": [
           {
            "name": "high",
            "count": 4
           },
           {
            "name": "low",
            "count": 1
           }
          ]
         }
        },
        {
         "name": "Age",
         "dtype": "object",
         "stats": {
          "unique_count": 4,
          "nan_count": 0,
          "categories": [
           {
            "name": "50-59",
            "count": 2
           },
           {
            "name": "30-39",
            "count": 1
           },
           {
            "name": "2 others",
            "count": 2
           }
          ]
         }
        },
        {
         "name": "Income_type",
         "dtype": "object",
         "stats": {
          "unique_count": 3,
          "nan_count": 0,
          "categories": [
           {
            "name": "Working",
            "count": 3
           },
           {
            "name": "Commercial associate",
            "count": 1
           },
           {
            "name": "Pensioner",
            "count": 1
           }
          ]
         }
        },
        {
         "name": "Education_type",
         "dtype": "object",
         "stats": {
          "unique_count": 2,
          "nan_count": 0,
          "categories": [
           {
            "name": "Higher education",
            "count": 3
           },
           {
            "name": "Secondary / secondary special",
            "count": 2
           }
          ]
         }
        },
        {
         "name": "Family_status",
         "dtype": "object",
         "stats": {
          "unique_count": 4,
          "nan_count": 0,
          "categories": [
           {
            "name": "Married",
            "count": 2
           },
           {
            "name": "Civil marriage",
            "count": 1
           },
           {
            "name": "2 others",
            "count": 2
           }
          ]
         }
        },
        {
         "name": "Target",
         "dtype": "object",
         "stats": {
          "unique_count": 2,
          "nan_count": 0,
          "categories": [
           {
            "name": "low risk",
            "count": 4
           },
           {
            "name": "high risk",
            "count": 1
           }
          ]
         }
        },
        {
         "name": "_deepnote_index_column",
         "dtype": "int64"
        }
       ],
       "rows": [
        {
         "Gender": "M",
         "Own_car": "yes",
         "Own_property": "yes",
         "Unemployed": "no",
         "Num_family": "2",
         "Account_length": "1y-2y",
         "Total_income": "high",
         "Age": "30-39",
         "Income_type": "Working",
         "Education_type": "Higher education",
         "Family_status": "Civil marriage",
         "Target": "high risk",
         "_deepnote_index_column": 0
        },
        {
         "Gender": "M",
         "Own_car": "yes",
         "Own_property": "yes",
         "Unemployed": "no",
         "Num_family": "2",
         "Account_length": "2y-3y",
         "Total_income": "low",
         "Age": "50-59",
         "Income_type": "Working",
         "Education_type": "Secondary / secondary special",
         "Family_status": "Married",
         "Target": "low risk",
         "_deepnote_index_column": 1
        },
        {
         "Gender": "F",
         "Own_car": "no",
         "Own_property": "yes",
         "Unemployed": "no",
         "Num_family": "1",
         "Account_length": "<1y",
         "Total_income": "high",
         "Age": "50-59",
         "Income_type": "Commercial associate",
         "Education_type": "Secondary / secondary special",
         "Family_status": "Single / not married",
         "Target": "low risk",
         "_deepnote_index_column": 2
        },
        {
         "Gender": "F",
         "Own_car": "no",
         "Own_property": "yes",
         "Unemployed": "yes",
         "Num_family": "1",
         "Account_length": "1y-2y",
         "Total_income": "high",
         "Age": "60>=",
         "Income_type": "Pensioner",
         "Education_type": "Higher education",
         "Family_status": "Separated",
         "Target": "low risk",
         "_deepnote_index_column": 3
        },
        {
         "Gender": "M",
         "Own_car": "yes",
         "Own_property": "yes",
         "Unemployed": "no",
         "Num_family": "2",
         "Account_length": "<1y",
         "Total_income": "high",
         "Age": "40-49",
         "Income_type": "Working",
         "Education_type": "Higher education",
         "Family_status": "Married",
         "Target": "low risk",
         "_deepnote_index_column": 4
        }
       ]
      },
      "text/plain": "  Gender Own_car Own_property Unemployed Num_family Account_length  \\\n0      M     yes          yes         no          2          1y-2y   \n1      M     yes          yes         no          2          2y-3y   \n2      F      no          yes         no          1            <1y   \n3      F      no          yes        yes          1          1y-2y   \n4      M     yes          yes         no          2            <1y   \n\n  Total_income    Age           Income_type                 Education_type  \\\n0         high  30-39               Working               Higher education   \n1          low  50-59               Working  Secondary / secondary special   \n2         high  50-59  Commercial associate  Secondary / secondary special   \n3         high   60>=             Pensioner               Higher education   \n4         high  40-49               Working               Higher education   \n\n          Family_status     Target  \n0        Civil marriage  high risk  \n1               Married   low risk  \n2  Single / not married   low risk  \n3             Separated   low risk  \n4               Married   low risk  ",
      "text/html": "<div>\n<style scoped>\n    .dataframe tbody tr th:only-of-type {\n        vertical-align: middle;\n    }\n\n    .dataframe tbody tr th {\n        vertical-align: top;\n    }\n\n    .dataframe thead th {\n        text-align: right;\n    }\n</style>\n<table border=\"1\" class=\"dataframe\">\n  <thead>\n    <tr style=\"text-align: right;\">\n      <th></th>\n      <th>Gender</th>\n      <th>Own_car</th>\n      <th>Own_property</th>\n      <th>Unemployed</th>\n      <th>Num_family</th>\n      <th>Account_length</th>\n      <th>Total_income</th>\n      <th>Age</th>\n      <th>Income_type</th>\n      <th>Education_type</th>\n      <th>Family_status</th>\n      <th>Target</th>\n    </tr>\n  </thead>\n  <tbody>\n    <tr>\n      <th>0</th>\n      <td>M</td>\n      <td>yes</td>\n      <td>yes</td>\n      <td>no</td>\n      <td>2</td>\n      <td>1y-2y</td>\n      <td>high</td>\n      <td>30-39</td>\n      <td>Working</td>\n      <td>Higher education</td>\n      <td>Civil marriage</td>\n      <td>high risk</td>\n    </tr>\n    <tr>\n      <th>1</th>\n      <td>M</td>\n      <td>yes</td>\n      <td>yes</td>\n      <td>no</td>\n      <td>2</td>\n      <td>2y-3y</td>\n      <td>low</td>\n      <td>50-59</td>\n      <td>Working</td>\n      <td>Secondary / secondary special</td>\n      <td>Married</td>\n      <td>low risk</td>\n    </tr>\n    <tr>\n      <th>2</th>\n      <td>F</td>\n      <td>no</td>\n      <td>yes</td>\n      <td>no</td>\n      <td>1</td>\n      <td>&lt;1y</td>\n      <td>high</td>\n      <td>50-59</td>\n      <td>Commercial associate</td>\n      <td>Secondary / secondary special</td>\n      <td>Single / not married</td>\n      <td>low risk</td>\n    </tr>\n    <tr>\n      <th>3</th>\n      <td>F</td>\n      <td>no</td>\n      <td>yes</td>\n      <td>yes</td>\n      <td>1</td>\n      <td>1y-2y</td>\n      <td>high</td>\n      <td>60&gt;=</td>\n      <td>Pensioner</td>\n      <td>Higher education</td>\n      <td>Separated</td>\n      <td>low risk</td>\n    </tr>\n    <tr>\n      <th>4</th>\n      <td>M</td>\n      <td>yes</td>\n      <td>yes</td>\n      <td>no</td>\n      <td>2</td>\n      <td>&lt;1y</td>\n      <td>high</td>\n      <td>40-49</td>\n      <td>Working</td>\n      <td>Higher education</td>\n      <td>Married</td>\n      <td>low risk</td>\n    </tr>\n  </tbody>\n</table>\n</div>"
     },
     "metadata": {}
    }
   ]
  },
  {
   "cell_type": "code",
   "metadata": {
    "colab": {
     "base_uri": "https://localhost:8080/",
     "height": 17
    },
    "id": "Ngg8MFNMTVT9",
    "outputId": "d2e9d12a-b406-403a-fc0c-c52056284c6d",
    "cell_id": "00011-9bca13b7-e06a-4125-9121-9f405bc02536",
    "deepnote_to_be_reexecuted": false,
    "source_hash": "f55b610a",
    "execution_start": 1649520858317,
    "execution_millis": 45,
    "deepnote_cell_type": "code",
    "deepnote_cell_height": 99
   },
   "source": "# saving the result\ndf3.to_csv('data/processed.csv', encoding = 'utf-8-sig', index=False) ",
   "execution_count": null,
   "outputs": []
  },
  {
   "cell_type": "markdown",
   "source": "",
   "metadata": {
    "id": "_14HC4pPTU43",
    "cell_id": "00012-841cf2ae-f5a9-42e9-acb3-36139ace76d8",
    "deepnote_cell_type": "markdown",
    "deepnote_cell_height": 46
   }
  },
  {
   "cell_type": "markdown",
   "source": "",
   "metadata": {
    "id": "0cXjBiReI0Il",
    "cell_id": "00013-6873e656-2d13-43ec-9bec-c1a152f84b15",
    "deepnote_cell_type": "markdown",
    "deepnote_cell_height": 46
   }
  },
  {
   "cell_type": "markdown",
   "source": "<a style='text-decoration:none;line-height:16px;display:flex;color:#5B5B62;padding:10px;justify-content:end;' href='https://deepnote.com?utm_source=created-in-deepnote-cell&projectId=03282642-4d6b-431b-a45f-9f21a6236fff' target=\"_blank\">\n<img alt='Created in deepnote.com' style='display:inline;max-height:16px;margin:0px;margin-right:7.5px;' src='data:image/svg+xml;base64,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' > </img>\nCreated in <span style='font-weight:600;margin-left:4px;'>Deepnote</span></a>",
   "metadata": {
    "tags": [],
    "created_in_deepnote_cell": true,
    "deepnote_cell_type": "markdown"
   }
  }
 ],
 "nbformat": 4,
 "nbformat_minor": 5,
 "metadata": {
  "colab": {
   "name": "data_processing.ipynb",
   "provenance": []
  },
  "language_info": {
   "name": "python"
  },
  "kernelspec": {
   "name": "python3",
   "display_name": "Python 3"
  },
  "deepnote_notebook_id": "8ca11451-d7fa-4407-becf-306f84bdcbb5",
  "deepnote": {},
  "deepnote_execution_queue": []
 }
}