{
 "cells": [
  {
   "cell_type": "code",
   "metadata": {
    "tags": [],
    "cell_id": "ca40c2c1-aa99-41c6-aeae-417a0f11e28d",
    "deepnote_to_be_reexecuted": false,
    "source_hash": "25fcb8da",
    "execution_start": 1648916999145,
    "execution_millis": 19108,
    "deepnote_cell_type": "code",
    "deepnote_cell_height": 742.625
   },
   "source": "!pip install pgmpy",
   "execution_count": null,
   "outputs": [
    {
     "name": "stdout",
     "text": "Collecting pgmpy\n  Downloading pgmpy-0.1.18-py3-none-any.whl (1.9 MB)\n\u001b[K     |████████████████████████████████| 1.9 MB 18.5 MB/s \n\u001b[?25hCollecting networkx\n  Downloading networkx-2.6.3-py3-none-any.whl (1.9 MB)\n\u001b[K     |████████████████████████████████| 1.9 MB 37.6 MB/s \n\u001b[?25hRequirement already satisfied: scipy in /shared-libs/python3.7/py/lib/python3.7/site-packages (from pgmpy) (1.7.3)\nRequirement already satisfied: pyparsing in /shared-libs/python3.7/py-core/lib/python3.7/site-packages (from pgmpy) (3.0.7)\nCollecting statsmodels\n  Downloading statsmodels-0.13.2-cp37-cp37m-manylinux_2_17_x86_64.manylinux2014_x86_64.whl (9.8 MB)\n\u001b[K     |████████████████████████████████| 9.8 MB 29.2 MB/s \n\u001b[?25hRequirement already satisfied: pandas in /shared-libs/python3.7/py/lib/python3.7/site-packages (from pgmpy) (1.2.5)\nRequirement already satisfied: tqdm in /shared-libs/python3.7/py/lib/python3.7/site-packages (from pgmpy) (4.63.0)\nRequirement already satisfied: torch in /shared-libs/python3.7/py/lib/python3.7/site-packages (from pgmpy) (1.11.0)\nRequirement already satisfied: scikit-learn in /shared-libs/python3.7/py/lib/python3.7/site-packages (from pgmpy) (1.0.2)\nRequirement already satisfied: joblib in /shared-libs/python3.7/py/lib/python3.7/site-packages (from pgmpy) (1.1.0)\nRequirement already satisfied: numpy in /shared-libs/python3.7/py/lib/python3.7/site-packages (from pgmpy) (1.21.5)\nRequirement already satisfied: packaging>=21.3 in /shared-libs/python3.7/py-core/lib/python3.7/site-packages (from statsmodels->pgmpy) (21.3)\nCollecting patsy>=0.5.2\n  Downloading patsy-0.5.2-py2.py3-none-any.whl (233 kB)\n\u001b[K     |████████████████████████████████| 233 kB 33.0 MB/s \n\u001b[?25hRequirement already satisfied: python-dateutil>=2.7.3 in /shared-libs/python3.7/py-core/lib/python3.7/site-packages (from pandas->pgmpy) (2.8.2)\nRequirement already satisfied: pytz>=2017.3 in /shared-libs/python3.7/py/lib/python3.7/site-packages (from pandas->pgmpy) (2022.1)\nRequirement already satisfied: typing-extensions in /shared-libs/python3.7/py-core/lib/python3.7/site-packages (from torch->pgmpy) (4.1.1)\nRequirement already satisfied: threadpoolctl>=2.0.0 in /shared-libs/python3.7/py/lib/python3.7/site-packages (from scikit-learn->pgmpy) (3.1.0)\nRequirement already satisfied: six in /shared-libs/python3.7/py-core/lib/python3.7/site-packages (from patsy>=0.5.2->statsmodels->pgmpy) (1.16.0)\nInstalling collected packages: networkx, patsy, statsmodels, pgmpy\nSuccessfully installed networkx-2.6.3 patsy-0.5.2 pgmpy-0.1.18 statsmodels-0.13.2\n\u001b[33mWARNING: You are using pip version 20.1.1; however, version 22.0.4 is available.\nYou should consider upgrading via the '/root/venv/bin/python -m pip install --upgrade pip' command.\u001b[0m\n",
     "output_type": "stream"
    }
   ]
  },
  {
   "cell_type": "code",
   "metadata": {
    "cell_id": "f4713c87ae434ea69f45f4037d6a9129",
    "tags": [],
    "deepnote_to_be_reexecuted": false,
    "source_hash": "22b2dc9e",
    "execution_start": 1648917024082,
    "execution_millis": 5681,
    "deepnote_cell_type": "code",
    "deepnote_cell_height": 280.375
   },
   "source": "import pandas as pd\nfrom pgmpy.estimators import PC, HillClimbSearch\nimport networkx as nx\nfrom pgmpy.estimators import BicScore , MaximumLikelihoodEstimator, BayesianEstimator\nfrom pgmpy.models import BayesianNetwork\nimport numpy as np\nfrom pgmpy.inference import VariableElimination\nfrom pgmpy.base import DAG\n",
   "execution_count": null,
   "outputs": [
    {
     "name": "stderr",
     "text": "/shared-libs/python3.7/py/lib/python3.7/site-packages/tqdm/auto.py:22: TqdmWarning: IProgress not found. Please update jupyter and ipywidgets. See https://ipywidgets.readthedocs.io/en/stable/user_install.html\n  from .autonotebook import tqdm as notebook_tqdm\n",
     "output_type": "stream"
    }
   ]
  },
  {
   "cell_type": "code",
   "metadata": {
    "cell_id": "d321d7e291a04b24b9369c40b175a48e",
    "tags": [],
    "deepnote_to_be_reexecuted": false,
    "source_hash": "dda01bcc",
    "execution_start": 1648917038184,
    "execution_millis": 168,
    "deepnote_cell_type": "code",
    "deepnote_cell_height": 494.1875
   },
   "source": "df = pd.read_csv(\"data/processed.csv\")\nprint(df.shape)\ndf.head()",
   "execution_count": null,
   "outputs": [
    {
     "name": "stdout",
     "text": "(9709, 12)\n",
     "output_type": "stream"
    },
    {
     "output_type": "execute_result",
     "execution_count": 3,
     "data": {
      "application/vnd.deepnote.dataframe.v3+json": {
       "column_count": 12,
       "row_count": 5,
       "columns": [
        {
         "name": "Gender",
         "dtype": "int64",
         "stats": {
          "unique_count": 2,
          "nan_count": 0,
          "min": "0",
          "max": "1",
          "histogram": [
           {
            "bin_start": 0,
            "bin_end": 0.1,
            "count": 2
           },
           {
            "bin_start": 0.1,
            "bin_end": 0.2,
            "count": 0
           },
           {
            "bin_start": 0.2,
            "bin_end": 0.30000000000000004,
            "count": 0
           },
           {
            "bin_start": 0.30000000000000004,
            "bin_end": 0.4,
            "count": 0
           },
           {
            "bin_start": 0.4,
            "bin_end": 0.5,
            "count": 0
           },
           {
            "bin_start": 0.5,
            "bin_end": 0.6000000000000001,
            "count": 0
           },
           {
            "bin_start": 0.6000000000000001,
            "bin_end": 0.7000000000000001,
            "count": 0
           },
           {
            "bin_start": 0.7000000000000001,
            "bin_end": 0.8,
            "count": 0
           },
           {
            "bin_start": 0.8,
            "bin_end": 0.9,
            "count": 0
           },
           {
            "bin_start": 0.9,
            "bin_end": 1,
            "count": 3
           }
          ]
         }
        },
        {
         "name": "Own_car",
         "dtype": "int64",
         "stats": {
          "unique_count": 2,
          "nan_count": 0,
          "min": "0",
          "max": "1",
          "histogram": [
           {
            "bin_start": 0,
            "bin_end": 0.1,
            "count": 2
           },
           {
            "bin_start": 0.1,
            "bin_end": 0.2,
            "count": 0
           },
           {
            "bin_start": 0.2,
            "bin_end": 0.30000000000000004,
            "count": 0
           },
           {
            "bin_start": 0.30000000000000004,
            "bin_end": 0.4,
            "count": 0
           },
           {
            "bin_start": 0.4,
            "bin_end": 0.5,
            "count": 0
           },
           {
            "bin_start": 0.5,
            "bin_end": 0.6000000000000001,
            "count": 0
           },
           {
            "bin_start": 0.6000000000000001,
            "bin_end": 0.7000000000000001,
            "count": 0
           },
           {
            "bin_start": 0.7000000000000001,
            "bin_end": 0.8,
            "count": 0
           },
           {
            "bin_start": 0.8,
            "bin_end": 0.9,
            "count": 0
           },
           {
            "bin_start": 0.9,
            "bin_end": 1,
            "count": 3
           }
          ]
         }
        },
        {
         "name": "Own_property",
         "dtype": "int64",
         "stats": {
          "unique_count": 1,
          "nan_count": 0,
          "min": "1",
          "max": "1",
          "histogram": [
           {
            "bin_start": 0.5,
            "bin_end": 0.6,
            "count": 0
           },
           {
            "bin_start": 0.6,
            "bin_end": 0.7,
            "count": 0
           },
           {
            "bin_start": 0.7,
            "bin_end": 0.8,
            "count": 0
           },
           {
            "bin_start": 0.8,
            "bin_end": 0.9,
            "count": 0
           },
           {
            "bin_start": 0.9,
            "bin_end": 1,
            "count": 0
           },
           {
            "bin_start": 1,
            "bin_end": 1.1,
            "count": 5
           },
           {
            "bin_start": 1.1,
            "bin_end": 1.2000000000000002,
            "count": 0
           },
           {
            "bin_start": 1.2000000000000002,
            "bin_end": 1.3,
            "count": 0
           },
           {
            "bin_start": 1.3,
            "bin_end": 1.4,
            "count": 0
           },
           {
            "bin_start": 1.4,
            "bin_end": 1.5,
            "count": 0
           }
          ]
         }
        },
        {
         "name": "Unemployed",
         "dtype": "int64",
         "stats": {
          "unique_count": 2,
          "nan_count": 0,
          "min": "0",
          "max": "1",
          "histogram": [
           {
            "bin_start": 0,
            "bin_end": 0.1,
            "count": 4
           },
           {
            "bin_start": 0.1,
            "bin_end": 0.2,
            "count": 0
           },
           {
            "bin_start": 0.2,
            "bin_end": 0.30000000000000004,
            "count": 0
           },
           {
            "bin_start": 0.30000000000000004,
            "bin_end": 0.4,
            "count": 0
           },
           {
            "bin_start": 0.4,
            "bin_end": 0.5,
            "count": 0
           },
           {
            "bin_start": 0.5,
            "bin_end": 0.6000000000000001,
            "count": 0
           },
           {
            "bin_start": 0.6000000000000001,
            "bin_end": 0.7000000000000001,
            "count": 0
           },
           {
            "bin_start": 0.7000000000000001,
            "bin_end": 0.8,
            "count": 0
           },
           {
            "bin_start": 0.8,
            "bin_end": 0.9,
            "count": 0
           },
           {
            "bin_start": 0.9,
            "bin_end": 1,
            "count": 1
           }
          ]
         }
        },
        {
         "name": "Num_family",
         "dtype": "object",
         "stats": {
          "unique_count": 2,
          "nan_count": 0,
          "categories": [
           {
            "name": "2",
            "count": 3
           },
           {
            "name": "1",
            "count": 2
           }
          ]
         }
        },
        {
         "name": "Account_length",
         "dtype": "object",
         "stats": {
          "unique_count": 3,
          "nan_count": 0,
          "categories": [
           {
            "name": "1y-2y",
            "count": 2
           },
           {
            "name": "<1y",
            "count": 2
           },
           {
            "name": "2y-3y",
            "count": 1
           }
          ]
         }
        },
        {
         "name": "Total_income",
         "dtype": "object",
         "stats": {
          "unique_count": 2,
          "nan_count": 0,
          "categories": [
           {
            "name": "high",
            "count": 4
           },
           {
            "name": "low",
            "count": 1
           }
          ]
         }
        },
        {
         "name": "Age",
         "dtype": "object",
         "stats": {
          "unique_count": 4,
          "nan_count": 0,
          "categories": [
           {
            "name": "50-59",
            "count": 2
           },
           {
            "name": "30-39",
            "count": 1
           },
           {
            "name": "2 others",
            "count": 2
           }
          ]
         }
        },
        {
         "name": "Income_type",
         "dtype": "object",
         "stats": {
          "unique_count": 3,
          "nan_count": 0,
          "categories": [
           {
            "name": "Working",
            "count": 3
           },
           {
            "name": "Commercial associate",
            "count": 1
           },
           {
            "name": "Pensioner",
            "count": 1
           }
          ]
         }
        },
        {
         "name": "Education_type",
         "dtype": "object",
         "stats": {
          "unique_count": 2,
          "nan_count": 0,
          "categories": [
           {
            "name": "Higher education",
            "count": 3
           },
           {
            "name": "Secondary / secondary special",
            "count": 2
           }
          ]
         }
        },
        {
         "name": "Family_status",
         "dtype": "object",
         "stats": {
          "unique_count": 4,
          "nan_count": 0,
          "categories": [
           {
            "name": "Married",
            "count": 2
           },
           {
            "name": "Civil marriage",
            "count": 1
           },
           {
            "name": "2 others",
            "count": 2
           }
          ]
         }
        },
        {
         "name": "Target",
         "dtype": "int64",
         "stats": {
          "unique_count": 2,
          "nan_count": 0,
          "min": "0",
          "max": "1",
          "histogram": [
           {
            "bin_start": 0,
            "bin_end": 0.1,
            "count": 4
           },
           {
            "bin_start": 0.1,
            "bin_end": 0.2,
            "count": 0
           },
           {
            "bin_start": 0.2,
            "bin_end": 0.30000000000000004,
            "count": 0
           },
           {
            "bin_start": 0.30000000000000004,
            "bin_end": 0.4,
            "count": 0
           },
           {
            "bin_start": 0.4,
            "bin_end": 0.5,
            "count": 0
           },
           {
            "bin_start": 0.5,
            "bin_end": 0.6000000000000001,
            "count": 0
           },
           {
            "bin_start": 0.6000000000000001,
            "bin_end": 0.7000000000000001,
            "count": 0
           },
           {
            "bin_start": 0.7000000000000001,
            "bin_end": 0.8,
            "count": 0
           },
           {
            "bin_start": 0.8,
            "bin_end": 0.9,
            "count": 0
           },
           {
            "bin_start": 0.9,
            "bin_end": 1,
            "count": 1
           }
          ]
         }
        },
        {
         "name": "_deepnote_index_column",
         "dtype": "int64"
        }
       ],
       "rows": [
        {
         "Gender": 1,
         "Own_car": 1,
         "Own_property": 1,
         "Unemployed": 0,
         "Num_family": "2",
         "Account_length": "1y-2y",
         "Total_income": "high",
         "Age": "30-39",
         "Income_type": "Working",
         "Education_type": "Higher education",
         "Family_status": "Civil marriage",
         "Target": 1,
         "_deepnote_index_column": 0
        },
        {
         "Gender": 1,
         "Own_car": 1,
         "Own_property": 1,
         "Unemployed": 0,
         "Num_family": "2",
         "Account_length": "2y-3y",
         "Total_income": "low",
         "Age": "50-59",
         "Income_type": "Working",
         "Education_type": "Secondary / secondary special",
         "Family_status": "Married",
         "Target": 0,
         "_deepnote_index_column": 1
        },
        {
         "Gender": 0,
         "Own_car": 0,
         "Own_property": 1,
         "Unemployed": 0,
         "Num_family": "1",
         "Account_length": "<1y",
         "Total_income": "high",
         "Age": "50-59",
         "Income_type": "Commercial associate",
         "Education_type": "Secondary / secondary special",
         "Family_status": "Single / not married",
         "Target": 0,
         "_deepnote_index_column": 2
        },
        {
         "Gender": 0,
         "Own_car": 0,
         "Own_property": 1,
         "Unemployed": 1,
         "Num_family": "1",
         "Account_length": "1y-2y",
         "Total_income": "high",
         "Age": "60>=",
         "Income_type": "Pensioner",
         "Education_type": "Higher education",
         "Family_status": "Separated",
         "Target": 0,
         "_deepnote_index_column": 3
        },
        {
         "Gender": 1,
         "Own_car": 1,
         "Own_property": 1,
         "Unemployed": 0,
         "Num_family": "2",
         "Account_length": "<1y",
         "Total_income": "high",
         "Age": "40-49",
         "Income_type": "Working",
         "Education_type": "Higher education",
         "Family_status": "Married",
         "Target": 0,
         "_deepnote_index_column": 4
        }
       ]
      },
      "text/plain": "   Gender  Own_car  Own_property  Unemployed Num_family Account_length  \\\n0       1        1             1           0          2          1y-2y   \n1       1        1             1           0          2          2y-3y   \n2       0        0             1           0          1            <1y   \n3       0        0             1           1          1          1y-2y   \n4       1        1             1           0          2            <1y   \n\n  Total_income    Age           Income_type                 Education_type  \\\n0         high  30-39               Working               Higher education   \n1          low  50-59               Working  Secondary / secondary special   \n2         high  50-59  Commercial associate  Secondary / secondary special   \n3         high   60>=             Pensioner               Higher education   \n4         high  40-49               Working               Higher education   \n\n          Family_status  Target  \n0        Civil marriage       1  \n1               Married       0  \n2  Single / not married       0  \n3             Separated       0  \n4               Married       0  ",
      "text/html": "<div>\n<style scoped>\n    .dataframe tbody tr th:only-of-type {\n        vertical-align: middle;\n    }\n\n    .dataframe tbody tr th {\n        vertical-align: top;\n    }\n\n    .dataframe thead th {\n        text-align: right;\n    }\n</style>\n<table border=\"1\" class=\"dataframe\">\n  <thead>\n    <tr style=\"text-align: right;\">\n      <th></th>\n      <th>Gender</th>\n      <th>Own_car</th>\n      <th>Own_property</th>\n      <th>Unemployed</th>\n      <th>Num_family</th>\n      <th>Account_length</th>\n      <th>Total_income</th>\n      <th>Age</th>\n      <th>Income_type</th>\n      <th>Education_type</th>\n      <th>Family_status</th>\n      <th>Target</th>\n    </tr>\n  </thead>\n  <tbody>\n    <tr>\n      <th>0</th>\n      <td>1</td>\n      <td>1</td>\n      <td>1</td>\n      <td>0</td>\n      <td>2</td>\n      <td>1y-2y</td>\n      <td>high</td>\n      <td>30-39</td>\n      <td>Working</td>\n      <td>Higher education</td>\n      <td>Civil marriage</td>\n      <td>1</td>\n    </tr>\n    <tr>\n      <th>1</th>\n      <td>1</td>\n      <td>1</td>\n      <td>1</td>\n      <td>0</td>\n      <td>2</td>\n      <td>2y-3y</td>\n      <td>low</td>\n      <td>50-59</td>\n      <td>Working</td>\n      <td>Secondary / secondary special</td>\n      <td>Married</td>\n      <td>0</td>\n    </tr>\n    <tr>\n      <th>2</th>\n      <td>0</td>\n      <td>0</td>\n      <td>1</td>\n      <td>0</td>\n      <td>1</td>\n      <td>&lt;1y</td>\n      <td>high</td>\n      <td>50-59</td>\n      <td>Commercial associate</td>\n      <td>Secondary / secondary special</td>\n      <td>Single / not married</td>\n      <td>0</td>\n    </tr>\n    <tr>\n      <th>3</th>\n      <td>0</td>\n      <td>0</td>\n      <td>1</td>\n      <td>1</td>\n      <td>1</td>\n      <td>1y-2y</td>\n      <td>high</td>\n      <td>60&gt;=</td>\n      <td>Pensioner</td>\n      <td>Higher education</td>\n      <td>Separated</td>\n      <td>0</td>\n    </tr>\n    <tr>\n      <th>4</th>\n      <td>1</td>\n      <td>1</td>\n      <td>1</td>\n      <td>0</td>\n      <td>2</td>\n      <td>&lt;1y</td>\n      <td>high</td>\n      <td>40-49</td>\n      <td>Working</td>\n      <td>Higher education</td>\n      <td>Married</td>\n      <td>0</td>\n    </tr>\n  </tbody>\n</table>\n</div>"
     },
     "metadata": {}
    }
   ]
  },
  {
   "cell_type": "code",
   "source": "",
   "metadata": {
    "cell_id": "22b00a8daf29481db13cf5ca5bbe4beb",
    "deepnote_cell_type": "visualization"
   },
   "execution_count": null,
   "outputs": []
  },
  {
   "cell_type": "code",
   "metadata": {
    "cell_id": "4277e2d11b1f4533bebb372cfa94a7c0",
    "tags": [],
    "deepnote_to_be_reexecuted": false,
    "source_hash": "deaa2379",
    "execution_start": 1648820236753,
    "execution_millis": 141222,
    "deepnote_cell_type": "code",
    "deepnote_cell_height": 501.1875,
    "deepnote_output_heights": [
     null,
     304
    ]
   },
   "source": "# PC trial\npcest = PC(df)\npcmodel = pcest.estimate(max_cond_vars=6, significance_level=0.02)\nnx.draw(pcmodel, with_labels=True)",
   "execution_count": null,
   "outputs": [
    {
     "name": "stderr",
     "text": "Working for n conditional variables: 6: 100%|██████████| 6/6 [02:18<00:00, 23.11s/it]\n",
     "output_type": "stream"
    },
    {
     "data": {
      "text/plain": "<Figure size 432x288 with 1 Axes>",
      "image/png": "[encoded data removed]"
     },
     "metadata": {
      "image/png": {
       "width": 446,
       "height": 302
      }
     },
     "output_type": "display_data"
    }
   ]
  },
  {
   "cell_type": "code",
   "metadata": {
    "cell_id": "ac6bcad636ab495d80aac3b749acbb39",
    "tags": [],
    "deepnote_to_be_reexecuted": false,
    "source_hash": "105ab22a",
    "execution_start": 1648492935733,
    "execution_millis": 5072,
    "deepnote_cell_type": "code",
    "deepnote_cell_height": 557.375,
    "deepnote_output_heights": [
     null,
     304
    ]
   },
   "source": "# first naive trial\nhillclimbest = HillClimbSearch(df)\nbic_score = BicScore(df)\nhillclimbmodel = hillclimbest.estimate(scoring_method=bic_score, fixed_edges=[(\"Total_income\", \"Target\"), (\"Income_type\", \"Total_income\")], black_list=[(\"Own_car\",\"Gender\"), (\"Gender\", \"Own_car\")])\nnx.draw(hillclimbmodel, with_labels=True) \nprint(bic_score.score(hillclimbmodel))",
   "execution_count": null,
   "outputs": [
    {
     "name": "stderr",
     "text": "  0%|          | 15/1000000 [00:04<84:20:57,  3.29it/s]\n-94112.14568490697\n",
     "output_type": "stream"
    },
    {
     "data": {
      "text/plain": "<Figure size 432x288 with 1 Axes>",
      "image/png": "[encoded data removed]"
     },
     "metadata": {
      "image/png": {
       "width": 446,
       "height": 302
      }
     },
     "output_type": "display_data"
    }
   ]
  },
  {
   "cell_type": "code",
   "metadata": {
    "cell_id": "c54c0a8c56c6488b9727e75554532834",
    "tags": [],
    "deepnote_to_be_reexecuted": false,
    "source_hash": "a1200156",
    "execution_start": 1648492940816,
    "execution_millis": 9,
    "deepnote_cell_type": "code",
    "deepnote_cell_height": 172.75
   },
   "source": "print(df.columns)",
   "execution_count": null,
   "outputs": [
    {
     "name": "stdout",
     "text": "Index(['Gender', 'Own_car', 'Own_property', 'Unemployed', 'Num_family',\n       'Account_length', 'Total_income', 'Age', 'Income_type',\n       'Education_type', 'Family_status', 'Target'],\n      dtype='object')\n",
     "output_type": "stream"
    }
   ]
  },
  {
   "cell_type": "code",
   "metadata": {
    "cell_id": "4bac847974744edeb5bde0f32f7a65e5",
    "tags": [],
    "deepnote_to_be_reexecuted": false,
    "source_hash": "eae5d56c",
    "execution_start": 1648744601636,
    "execution_millis": 55,
    "deepnote_cell_type": "code",
    "deepnote_cell_height": 226.75
   },
   "source": "\nprint(np.unique(df[\"Family_status\"]))\nprint(np.unique(df[\"Income_type\"]))\nprint(np.unique(df['Education_type']))",
   "execution_count": null,
   "outputs": [
    {
     "name": "stdout",
     "text": "['Civil marriage' 'Married' 'Separated' 'Single / not married' 'Widow']\n['Commercial associate' 'Pensioner' 'State servant' 'Student' 'Working']\n['Academic degree' 'Higher education' 'Incomplete higher'\n 'Lower secondary' 'Secondary / secondary special']\n",
     "output_type": "stream"
    }
   ]
  },
  {
   "cell_type": "markdown",
   "source": "Synthax: attr_string: child_string \n\n'Gender':\n\n'Own_car': \n \n'Own_property':\n  \n'Unemployed': \n   \n'Num_children':\n\n'Num_family': 'Num_children'\n       \n'Account_length':\n\n'Total_income': Own_property, Own_car, 'Target'\n \n'Age': 'Total_income', 'Income_type', 'Account_length'\n \n'Income_type': 'Total_income', 'Unemployed'\n\n'Education_type': 'Unemployed', 'Income_type'\n\n'Family_status': 'Num_family'\n\n'Target':",
   "metadata": {
    "cell_id": "e40cd5923f784b8c987c55c31995eb33",
    "tags": [],
    "deepnote_cell_type": "markdown",
    "deepnote_cell_height": 525.46875
   }
  },
  {
   "cell_type": "code",
   "metadata": {
    "cell_id": "69fa4e3e16e4400d9aad059b441e82d4",
    "tags": [],
    "deepnote_to_be_reexecuted": false,
    "source_hash": "5abe1621",
    "execution_start": 1648492940905,
    "execution_millis": 2303,
    "deepnote_cell_type": "code",
    "deepnote_cell_height": 755.375,
    "deepnote_output_heights": [
     null,
     304
    ]
   },
   "source": "hillclimbmodel_improved = hillclimbest.estimate(scoring_method=bic_score, fixed_edges=[\n    (\"Total_income\", \"Target\"), \n    (\"Income_type\", \"Total_income\"),\n    (\"Total_income\", \"Own_property\"),\n    (\"Total_income\", \"Own_car\"),\n    (\"Income_type\", \"Unemployed\"),\n    (\"Age\", \"Total_income\"),\n    (\"Age\", \"Income_type\"),\n    (\"Age\", \"Account_length\"),\n    (\"Income_type\", \"Total_income\"),\n    (\"Income_type\", \"Unemployed\"),\n    (\"Education_type\", \"Unemployed\"),\n    (\"Education_type\", \"Income_type\"),\n    (\"Family_status\", \"Num_family\")])#, black_list=[(\"Own_car\",\"Gender\"), (\"Gender\", \"Own_car\")])\nnx.draw(hillclimbmodel_improved, with_labels=True)\n\nprint(bic_score.score(hillclimbmodel_improved))",
   "execution_count": null,
   "outputs": [
    {
     "name": "stderr",
     "text": "  0%|          | 8/1000000 [00:01<62:11:29,  4.47it/s]\n-94398.62792483842\n",
     "output_type": "stream"
    },
    {
     "data": {
      "text/plain": "<Figure size 432x288 with 1 Axes>",
      "image/png": "[encoded data removed]"
     },
     "metadata": {
      "image/png": {
       "width": 446,
       "height": 302
      }
     },
     "output_type": "display_data"
    }
   ]
  },
  {
   "cell_type": "code",
   "metadata": {
    "cell_id": "adc639a1bfa84583a0cc189011a8782d",
    "tags": [],
    "deepnote_to_be_reexecuted": false,
    "source_hash": "54d075e0",
    "execution_start": 1648492943983,
    "execution_millis": 852,
    "deepnote_cell_type": "code",
    "deepnote_cell_height": 401,
    "deepnote_output_heights": [
     304
    ]
   },
   "source": "nx.draw_planar(hillclimbmodel_improved, with_labels=True)",
   "execution_count": null,
   "outputs": [
    {
     "data": {
      "text/plain": "<Figure size 432x288 with 1 Axes>",
      "image/png": "[encoded data removed]"
     },
     "metadata": {
      "image/png": {
       "width": 446,
       "height": 302
      }
     },
     "output_type": "display_data"
    }
   ]
  },
  {
   "cell_type": "code",
   "metadata": {
    "cell_id": "2c902dcc4c324435b0db22f1a75a9d24",
    "tags": [],
    "deepnote_cell_type": "code",
    "deepnote_cell_height": 66
   },
   "source": "",
   "execution_count": null,
   "outputs": []
  },
  {
   "cell_type": "code",
   "metadata": {
    "cell_id": "65794f40667647e19a5a29e7c904fb83",
    "tags": [],
    "deepnote_to_be_reexecuted": false,
    "source_hash": "40fb61ac",
    "execution_start": 1648492944505,
    "execution_millis": 375,
    "deepnote_cell_type": "code",
    "deepnote_cell_height": 791
   },
   "source": "bnet = BayesianNetwork(hillclimbmodel_improved.edges())\nbnet.fit(df, estimator=MaximumLikelihoodEstimator)\ncpds = bnet.get_cpds()\n\nfor elem in cpds:\n    print(elem)",
   "execution_count": null,
   "outputs": [
    {
     "name": "stdout",
     "text": "+---------------+-----+----------------------+\n| Family_status | ... | Family_status(Widow) |\n+---------------+-----+----------------------+\n| Total_income  | ... | Total_income(medium) |\n+---------------+-----+----------------------+\n| Own_car(0)    | ... | 0.8396946564885496   |\n+---------------+-----+----------------------+\n| Own_car(1)    | ... | 0.16030534351145037  |\n+---------------+-----+----------------------+\n+--------------+-----+----------------------+\n| Own_car      | ... | Own_car(1)           |\n+--------------+-----+----------------------+\n| Total_income | ... | Total_income(medium) |\n+--------------+-----+----------------------+\n| Unemployed   | ... | Unemployed(1)        |\n+--------------+-----+----------------------+\n| Gender(0)    | ... | 0.5619834710743802   |\n+--------------+-----+----------------------+\n| Gender(1)    | ... | 0.4380165289256198   |\n+--------------+-----+----------------------+\n+----------------+-----+\n| Education_type | ... |\n+----------------+-----+\n| Income_type    | ... |\n+----------------+-----+\n| Unemployed(0)  | ... |\n+----------------+-----+\n| Unemployed(1)  | ... |\n+----------------+-----+\n+----------------+-----+----------------------+\n| Family_status  | ... | Family_status(Widow) |\n+----------------+-----+----------------------+\n| Num_family(1)  | ... | 0.9365853658536586   |\n+----------------+-----+----------------------+\n| Num_family(2)  | ... | 0.05121951219512195  |\n+----------------+-----+----------------------+\n| Num_family(3)  | ... | 0.004878048780487805 |\n+----------------+-----+----------------------+\n| Num_family(4+) | ... | 0.007317073170731708 |\n+----------------+-----+----------------------+\n+---------------+-----+----------------------+\n| Family_status | ... | Family_status(Widow) |\n+---------------+-----+----------------------+\n| Num_family    | ... | Num_family(4+)       |\n+---------------+-----+----------------------+\n| Age(30-39)    | ... | 0.3333333333333333   |\n+---------------+-----+----------------------+\n| Age(40-49)    | ... | 0.6666666666666666   |\n+---------------+-----+----------------------+\n| Age(50-59)    | ... | 0.0                  |\n+---------------+-----+----------------------+\n| Age(60>=)     | ... | 0.0                  |\n+---------------+-----+----------------------+\n| Age(<30)      | ... | 0.0                  |\n+---------------+-----+----------------------+\n+----------------------+-----+----------------------+\n| Age                  | ... | Age(<30)             |\n+----------------------+-----+----------------------+\n| Income_type          | ... | Income_type(Working) |\n+----------------------+-----+----------------------+\n| Total_income(high)   | ... | 0.27557160048134777  |\n+----------------------+-----+----------------------+\n| Total_income(low)    | ... | 0.32731648616125153  |\n+----------------------+-----+----------------------+\n| Total_income(medium) | ... | 0.3971119133574007   |\n+----------------------+-----+----------------------+\n+-----------------+-----+----------------------+\n| Age             | ... | Age(<30)             |\n+-----------------+-----+----------------------+\n| Total_income    | ... | Total_income(medium) |\n+-----------------+-----+----------------------+\n| Own_property(0) | ... | 0.4448669201520912   |\n+-----------------+-----+----------------------+\n| Own_property(1) | ... | 0.5551330798479087   |\n+-----------------+-----+----------------------+\n+--------------+-----+----------------------+\n| Total_income | ... | Total_income(medium) |\n+--------------+-----+----------------------+\n| Target(0)    | ... | 0.8688184779389991   |\n+--------------+-----+----------------------+\n| Target(1)    | ... | 0.1311815220610009   |\n+--------------+-----+----------------------+\n+-----------------------------------+-----+\n| Age                               | ... |\n+-----------------------------------+-----+\n| Education_type                    | ... |\n+-----------------------------------+-----+\n| Income_type(Commercial associate) | ... |\n+-----------------------------------+-----+\n| Income_type(Pensioner)            | ... |\n+-----------------------------------+-----+\n| Income_type(State servant)        | ... |\n+-----------------------------------+-----+\n| Income_type(Student)              | ... |\n+-----------------------------------+-----+\n| Income_type(Working)              | ... |\n+-----------------------------------+-----+\n+-----------------------+-----+---------------------+\n| Age                   | ... | Age(<30)            |\n+-----------------------+-----+---------------------+\n| Account_length(1y-2y) | ... | 0.2659259259259259  |\n+-----------------------+-----+---------------------+\n| Account_length(2y-3y) | ... | 0.21185185185185185 |\n+-----------------------+-----+---------------------+\n| Account_length(3y+)   | ... | 0.23185185185185186 |\n+-----------------------+-----+---------------------+\n| Account_length(<1y)   | ... | 0.2903703703703704  |\n+-----------------------+-----+---------------------+\n+-----+----------------------+\n| ... | Age(<30)             |\n+-----+----------------------+\n| ... | 0.0                  |\n+-----+----------------------+\n| ... | 0.3125925925925926   |\n+-----+----------------------+\n| ... | 0.10518518518518519  |\n+-----+----------------------+\n| ... | 0.008148148148148147 |\n+-----+----------------------+\n| ... | 0.5740740740740741   |\n+-----+----------------------+\n+-------------------------------------+-----------+\n| Family_status(Civil marriage)       | 0.0861057 |\n+-------------------------------------+-----------+\n| Family_status(Married)              | 0.672572  |\n+-------------------------------------+-----------+\n| Family_status(Separated)            | 0.0591204 |\n+-------------------------------------+-----------+\n| Family_status(Single / not married) | 0.139973  |\n+-------------------------------------+-----------+\n| Family_status(Widow)                | 0.0422289 |\n+-------------------------------------+-----------+\n",
     "output_type": "stream"
    }
   ]
  },
  {
   "cell_type": "code",
   "metadata": {
    "cell_id": "cc2232716b06400cbec8a8dda913b0dd",
    "tags": [],
    "deepnote_to_be_reexecuted": false,
    "source_hash": "668d18fe",
    "execution_start": 1648492944891,
    "execution_millis": 353,
    "deepnote_cell_type": "code",
    "deepnote_cell_height": 791
   },
   "source": "bnet = BayesianNetwork(hillclimbmodel_improved.edges())\nbnet.fit(df, estimator=BayesianEstimator)\ncpds = bnet.get_cpds()\n\nfor elem in cpds:\n    print(elem)",
   "execution_count": null,
   "outputs": [
    {
     "name": "stdout",
     "text": "+---------------+-----+----------------------+\n| Family_status | ... | Family_status(Widow) |\n+---------------+-----+----------------------+\n| Total_income  | ... | Total_income(medium) |\n+---------------+-----+----------------------+\n| Own_car(0)    | ... | 0.8388324873096447   |\n+---------------+-----+----------------------+\n| Own_car(1)    | ... | 0.1611675126903553   |\n+---------------+-----+----------------------+\n+--------------+--------------------+-----+----------------------+\n| Own_car      | Own_car(0)         | ... | Own_car(1)           |\n+--------------+--------------------+-----+----------------------+\n| Total_income | Total_income(high) | ... | Total_income(medium) |\n+--------------+--------------------+-----+----------------------+\n| Unemployed   | Unemployed(0)      | ... | Unemployed(1)        |\n+--------------+--------------------+-----+----------------------+\n| Gender(0)    | 0.6652535139133898 | ... | 0.561770761839396    |\n+--------------+--------------------+-----+----------------------+\n| Gender(1)    | 0.3347464860866101 | ... | 0.43822923816060405  |\n+--------------+--------------------+-----+----------------------+\n+----------------+-----+\n| Education_type | ... |\n+----------------+-----+\n| Income_type    | ... |\n+----------------+-----+\n| Unemployed(0)  | ... |\n+----------------+-----+\n| Unemployed(1)  | ... |\n+----------------+-----+\n+----------------+-----+----------------------+\n| Family_status  | ... | Family_status(Widow) |\n+----------------+-----+----------------------+\n| Num_family(1)  | ... | 0.9349148418491484   |\n+----------------+-----+----------------------+\n| Num_family(2)  | ... | 0.05170316301703163  |\n+----------------+-----+----------------------+\n| Num_family(3)  | ... | 0.005474452554744526 |\n+----------------+-----+----------------------+\n| Num_family(4+) | ... | 0.007907542579075427 |\n+----------------+-----+----------------------+\n+---------------+-----+----------------------+\n| Family_status | ... | Family_status(Widow) |\n+---------------+-----+----------------------+\n| Num_family    | ... | Num_family(4+)       |\n+---------------+-----+----------------------+\n| Age(30-39)    | ... | 0.3230769230769232   |\n+---------------+-----+----------------------+\n| Age(40-49)    | ... | 0.6307692307692309   |\n+---------------+-----+----------------------+\n| Age(50-59)    | ... | 0.015384615384615389 |\n+---------------+-----+----------------------+\n| Age(60>=)     | ... | 0.015384615384615389 |\n+---------------+-----+----------------------+\n| Age(<30)      | ... | 0.015384615384615389 |\n+---------------+-----+----------------------+\n+----------------------+-----+----------------------+\n| Age                  | ... | Age(<30)             |\n+----------------------+-----+----------------------+\n| Income_type          | ... | Income_type(Working) |\n+----------------------+-----+----------------------+\n| Total_income(high)   | ... | 0.2755854988771254   |\n+----------------------+-----+----------------------+\n| Total_income(low)    | ... | 0.32731793391081165  |\n+----------------------+-----+----------------------+\n| Total_income(medium) | ... | 0.3970965672120629   |\n+----------------------+-----+----------------------+\n+-----------------+-----+----------------------+\n| Age             | ... | Age(<30)             |\n+-----------------+-----+----------------------+\n| Total_income    | ... | Total_income(medium) |\n+-----------------+-----+----------------------+\n| Own_property(0) | ... | 0.4449018366054464   |\n+-----------------+-----+----------------------+\n| Own_property(1) | ... | 0.5550981633945535   |\n+-----------------+-----+----------------------+\n+--------------+-----+----------------------+\n| Total_income | ... | Total_income(medium) |\n+--------------+-----+----------------------+\n| Target(0)    | ... | 0.868636543014996    |\n+--------------+-----+----------------------+\n| Target(1)    | ... | 0.13136345698500393  |\n+--------------+-----+----------------------+\n+-----------------------------------+-----+\n| Age                               | ... |\n+-----------------------------------+-----+\n| Education_type                    | ... |\n+-----------------------------------+-----+\n| Income_type(Commercial associate) | ... |\n+-----------------------------------+-----+\n| Income_type(Pensioner)            | ... |\n+-----------------------------------+-----+\n| Income_type(State servant)        | ... |\n+-----------------------------------+-----+\n| Income_type(Student)              | ... |\n+-----------------------------------+-----+\n| Income_type(Working)              | ... |\n+-----------------------------------+-----+\n+-----------------------+-----+---------------------+\n| Age                   | ... | Age(<30)            |\n+-----------------------+-----+---------------------+\n| Account_length(1y-2y) | ... | 0.2659141376757957  |\n+-----------------------+-----+---------------------+\n| Account_length(2y-3y) | ... | 0.211880088823094   |\n+-----------------------+-----+---------------------+\n| Account_length(3y+)   | ... | 0.23186528497409326 |\n+-----------------------+-----+---------------------+\n| Account_length(<1y)   | ... | 0.29034048852701705 |\n+-----------------------+-----+---------------------+\n+-----+------------------------+\n| ... | Age(<30)               |\n+-----+------------------------+\n| ... | 0.00014803849000740194 |\n+-----+------------------------+\n| ... | 0.31250925240562544    |\n+-----+------------------------+\n| ... | 0.10525536639526276    |\n+-----+------------------------+\n| ... | 0.008290155440414507   |\n+-----+------------------------+\n| ... | 0.5737971872686899     |\n+-----+------------------------+\n+-------------------------------------+-----------+\n| Family_status(Civil marriage)       | 0.0861643 |\n+-------------------------------------+-----------+\n| Family_status(Married)              | 0.672329  |\n+-------------------------------------+-----------+\n| Family_status(Separated)            | 0.0591929 |\n+-------------------------------------+-----------+\n| Family_status(Single / not married) | 0.140004  |\n+-------------------------------------+-----------+\n| Family_status(Widow)                | 0.0423101 |\n+-------------------------------------+-----------+\n",
     "output_type": "stream"
    }
   ]
  },
  {
   "cell_type": "code",
   "metadata": {
    "cell_id": "1771cdfeba1c47609e161b5e3b998574",
    "tags": [],
    "deepnote_to_be_reexecuted": false,
    "source_hash": "5c058439",
    "execution_start": 1648493014155,
    "execution_millis": 0,
    "deepnote_cell_type": "code",
    "deepnote_cell_height": 352.25
   },
   "source": "print(cpds[0].variables)\nprint(cpds[0].values)",
   "execution_count": null,
   "outputs": [
    {
     "name": "stdout",
     "text": "['Own_car', 'Family_status', 'Total_income']\n[[[0.54411765 0.82381616 0.67815483]\n  [0.44542665 0.72103402 0.60174717]\n  [0.62708018 0.87224265 0.75673077]\n  [0.61887173 0.82858415 0.748297  ]\n  [0.83088235 0.91482966 0.83883249]]\n\n [[0.45588235 0.17618384 0.32184517]\n  [0.55457335 0.27896598 0.39825283]\n  [0.37291982 0.12775735 0.24326923]\n  [0.38112827 0.17141585 0.251703  ]\n  [0.16911765 0.08517034 0.16116751]]]\n",
     "output_type": "stream"
    }
   ]
  },
  {
   "cell_type": "code",
   "metadata": {
    "cell_id": "eeefb1ab922a41e1a976b507d75dbeca",
    "tags": [],
    "deepnote_to_be_reexecuted": false,
    "source_hash": "45df7e5",
    "execution_start": 1648493025787,
    "execution_millis": 94,
    "deepnote_cell_type": "code",
    "deepnote_cell_height": 408.4375
   },
   "source": "\n\ninfer = VariableElimination(bnet)\nprint(infer.query(['Num_family'], evidence={'Target':0}))",
   "execution_count": null,
   "outputs": [
    {
     "name": "stderr",
     "text": "Finding Elimination Order: : 100%|██████████| 5/5 [00:00<00:00, 1373.47it/s]\nEliminating: Total_income: 100%|██████████| 5/5 [00:00<00:00, 179.80it/s]+----------------+-------------------+\n| Num_family     |   phi(Num_family) |\n+================+===================+\n| Num_family(1)  |            0.2006 |\n+----------------+-------------------+\n| Num_family(2)  |            0.5337 |\n+----------------+-------------------+\n| Num_family(3)  |            0.1684 |\n+----------------+-------------------+\n| Num_family(4+) |            0.0973 |\n+----------------+-------------------+\n\n",
     "output_type": "stream"
    }
   ]
  },
  {
   "cell_type": "code",
   "metadata": {
    "cell_id": "7facea5f2dce43a8a752084d9d42eab0",
    "tags": [],
    "deepnote_to_be_reexecuted": false,
    "source_hash": "25e5e006",
    "execution_start": 1648848652804,
    "execution_millis": 591,
    "deepnote_table_state": {
     "pageSize": 100,
     "pageIndex": 0,
     "filters": [],
     "sortBy": []
    },
    "deepnote_table_loading": false,
    "deepnote_table_invalid": false,
    "deepnote_cell_type": "code",
    "deepnote_cell_height": 1508,
    "deepnote_output_heights": [
     380
    ]
   },
   "source": "from pgmpy.estimators.CITests import chi_square\n\nordered_list_of_attr = [\"Gender\", \"Age\", \"Family_status\", \"Num_family\", \n                        \"Education_type\", \"Income_type\", \"Unemployed\", \n                        \"Total_income\", \"Own_property\", \"Own_car\", \"Account_length\", \"Target\"]\ncol_names = df.columns \n\np_values = np.zeros((len(col_names), len(col_names)))\nfor first_index, first_col_val in enumerate(col_names): \n    for second_index, second_col_val in enumerate(col_names):\n        if first_index != second_index:\n            (chi, p_value, dof) = chi_square(first_col_val, second_col_val, [], df, False)\n            p_values[first_index, second_index] = p_value \n\ndisplay(pd.DataFrame(p_values, columns=col_names, index=col_names)>0.01)\ncorr = pd.DataFrame(p_values, columns=col_names, index=col_names)\n# maggiore = accettiamo = True = Indipendenti\nfor i in range(len(ordered_list_of_attr)):\n    c = ordered_list_of_attr[i]\n    for j in range(i+1, len(ordered_list_of_attr)):\n        r = ordered_list_of_attr[j]    \n        if corr[c][r]<0.01:\n            print([c , \"->\",r])",
   "execution_count": null,
   "outputs": [
    {
     "data": {
      "text/plain": "                Gender  Own_car  Own_property  Unemployed  Num_family  \\\nGender           False    False         False       False       False   \nOwn_car          False    False          True       False       False   \nOwn_property     False     True         False       False        True   \nUnemployed       False    False         False       False       False   \nNum_family       False    False          True       False       False   \nAccount_length    True    False          True        True       False   \nTotal_income     False    False          True       False        True   \nAge              False    False         False       False       False   \nIncome_type      False    False         False       False       False   \nEducation_type    True    False          True       False       False   \nFamily_status    False    False         False       False       False   \nTarget            True     True         False        True        True   \n\n                Account_length  Total_income    Age  Income_type  \\\nGender                    True         False  False        False   \nOwn_car                  False         False  False        False   \nOwn_property              True          True  False        False   \nUnemployed                True         False  False        False   \nNum_family               False          True  False        False   \nAccount_length           False          True  False        False   \nTotal_income              True         False  False        False   \nAge                      False         False  False        False   \nIncome_type              False         False  False        False   \nEducation_type            True         False  False        False   \nFamily_status            False         False  False        False   \nTarget                   False          True  False         True   \n\n                Education_type  Family_status  Target  \nGender                    True          False    True  \nOwn_car                  False          False    True  \nOwn_property              True          False   False  \nUnemployed               False          False    True  \nNum_family               False          False    True  \nAccount_length            True          False   False  \nTotal_income             False          False    True  \nAge                      False          False   False  \nIncome_type              False          False    True  \nEducation_type           False          False    True  \nFamily_status            False          False    True  \nTarget                    True           True   False  ",
      "text/html": "<div>\n<style scoped>\n    .dataframe tbody tr th:only-of-type {\n        vertical-align: middle;\n    }\n\n    .dataframe tbody tr th {\n        vertical-align: top;\n    }\n\n    .dataframe thead th {\n        text-align: right;\n    }\n</style>\n<table border=\"1\" class=\"dataframe\">\n  <thead>\n    <tr style=\"text-align: right;\">\n      <th></th>\n      <th>Gender</th>\n      <th>Own_car</th>\n      <th>Own_property</th>\n      <th>Unemployed</th>\n      <th>Num_family</th>\n      <th>Account_length</th>\n      <th>Total_income</th>\n      <th>Age</th>\n      <th>Income_type</th>\n      <th>Education_type</th>\n      <th>Family_status</th>\n      <th>Target</th>\n    </tr>\n  </thead>\n  <tbody>\n    <tr>\n      <th>Gender</th>\n      <td>False</td>\n      <td>False</td>\n      <td>False</td>\n      <td>False</td>\n      <td>False</td>\n      <td>True</td>\n      <td>False</td>\n      <td>False</td>\n      <td>False</td>\n      <td>True</td>\n      <td>False</td>\n      <td>True</td>\n    </tr>\n    <tr>\n      <th>Own_car</th>\n      <td>False</td>\n      <td>False</td>\n      <td>True</td>\n      <td>False</td>\n      <td>False</td>\n      <td>False</td>\n      <td>False</td>\n      <td>False</td>\n      <td>False</td>\n      <td>False</td>\n      <td>False</td>\n      <td>True</td>\n    </tr>\n    <tr>\n      <th>Own_property</th>\n      <td>False</td>\n      <td>True</td>\n      <td>False</td>\n      <td>False</td>\n      <td>True</td>\n      <td>True</td>\n      <td>True</td>\n      <td>False</td>\n      <td>False</td>\n      <td>True</td>\n      <td>False</td>\n      <td>False</td>\n    </tr>\n    <tr>\n      <th>Unemployed</th>\n      <td>False</td>\n      <td>False</td>\n      <td>False</td>\n      <td>False</td>\n      <td>False</td>\n      <td>True</td>\n      <td>False</td>\n      <td>False</td>\n      <td>False</td>\n      <td>False</td>\n      <td>False</td>\n      <td>True</td>\n    </tr>\n    <tr>\n      <th>Num_family</th>\n      <td>False</td>\n      <td>False</td>\n      <td>True</td>\n      <td>False</td>\n      <td>False</td>\n      <td>False</td>\n      <td>True</td>\n      <td>False</td>\n      <td>False</td>\n      <td>False</td>\n      <td>False</td>\n      <td>True</td>\n    </tr>\n    <tr>\n      <th>Account_length</th>\n      <td>True</td>\n      <td>False</td>\n      <td>True</td>\n      <td>True</td>\n      <td>False</td>\n      <td>False</td>\n      <td>True</td>\n      <td>False</td>\n      <td>False</td>\n      <td>True</td>\n      <td>False</td>\n      <td>False</td>\n    </tr>\n    <tr>\n      <th>Total_income</th>\n      <td>False</td>\n      <td>False</td>\n      <td>True</td>\n      <td>False</td>\n      <td>True</td>\n      <td>True</td>\n      <td>False</td>\n      <td>False</td>\n      <td>False</td>\n      <td>False</td>\n      <td>False</td>\n      <td>True</td>\n    </tr>\n    <tr>\n      <th>Age</th>\n      <td>False</td>\n      <td>False</td>\n      <td>False</td>\n      <td>False</td>\n      <td>False</td>\n      <td>False</td>\n      <td>False</td>\n      <td>False</td>\n      <td>False</td>\n      <td>False</td>\n      <td>False</td>\n      <td>False</td>\n    </tr>\n    <tr>\n      <th>Income_type</th>\n      <td>False</td>\n      <td>False</td>\n      <td>False</td>\n      <td>False</td>\n      <td>False</td>\n      <td>False</td>\n      <td>False</td>\n      <td>False</td>\n      <td>False</td>\n      <td>False</td>\n      <td>False</td>\n      <td>True</td>\n    </tr>\n    <tr>\n      <th>Education_type</th>\n      <td>True</td>\n      <td>False</td>\n      <td>True</td>\n      <td>False</td>\n      <td>False</td>\n      <td>True</td>\n      <td>False</td>\n      <td>False</td>\n      <td>False</td>\n      <td>False</td>\n      <td>False</td>\n      <td>True</td>\n    </tr>\n    <tr>\n      <th>Family_status</th>\n      <td>False</td>\n      <td>False</td>\n      <td>False</td>\n      <td>False</td>\n      <td>False</td>\n      <td>False</td>\n      <td>False</td>\n      <td>False</td>\n      <td>False</td>\n      <td>False</td>\n      <td>False</td>\n      <td>True</td>\n    </tr>\n    <tr>\n      <th>Target</th>\n      <td>True</td>\n      <td>True</td>\n      <td>False</td>\n      <td>True</td>\n      <td>True</td>\n      <td>False</td>\n      <td>True</td>\n      <td>False</td>\n      <td>True</td>\n      <td>True</td>\n      <td>True</td>\n      <td>False</td>\n    </tr>\n  </tbody>\n</table>\n</div>"
     },
     "metadata": {},
     "output_type": "display_data"
    },
    {
     "name": "stdout",
     "text": "['Gender', '->', 'Age']\n['Gender', '->', 'Family_status']\n['Gender', '->', 'Num_family']\n['Gender', '->', 'Income_type']\n['Gender', '->', 'Unemployed']\n['Gender', '->', 'Total_income']\n['Gender', '->', 'Own_property']\n['Gender', '->', 'Own_car']\n['Age', '->', 'Family_status']\n['Age', '->', 'Num_family']\n['Age', '->', 'Education_type']\n['Age', '->', 'Income_type']\n['Age', '->', 'Unemployed']\n['Age', '->', 'Total_income']\n['Age', '->', 'Own_property']\n['Age', '->', 'Own_car']\n['Age', '->', 'Account_length']\n['Age', '->', 'Target']\n['Family_status', '->', 'Num_family']\n['Family_status', '->', 'Education_type']\n['Family_status', '->', 'Income_type']\n['Family_status', '->', 'Unemployed']\n['Family_status', '->', 'Total_income']\n['Family_status', '->', 'Own_property']\n['Family_status', '->', 'Own_car']\n['Family_status', '->', 'Account_length']\n['Num_family', '->', 'Education_type']\n['Num_family', '->', 'Income_type']\n['Num_family', '->', 'Unemployed']\n['Num_family', '->', 'Own_car']\n['Num_family', '->', 'Account_length']\n['Education_type', '->', 'Income_type']\n['Education_type', '->', 'Unemployed']\n['Education_type', '->', 'Total_income']\n['Education_type', '->', 'Own_car']\n['Income_type', '->', 'Unemployed']\n['Income_type', '->', 'Total_income']\n['Income_type', '->', 'Own_property']\n['Income_type', '->', 'Own_car']\n['Income_type', '->', 'Account_length']\n['Unemployed', '->', 'Total_income']\n['Unemployed', '->', 'Own_property']\n['Unemployed', '->', 'Own_car']\n['Total_income', '->', 'Own_car']\n['Own_property', '->', 'Target']\n['Own_car', '->', 'Account_length']\n['Account_length', '->', 'Target']\n",
     "output_type": "stream"
    }
   ]
  },
  {
   "cell_type": "code",
   "metadata": {
    "cell_id": "f90832a64ac24153ad2bfc1a0026249c",
    "tags": [],
    "deepnote_to_be_reexecuted": false,
    "source_hash": "8309a97a",
    "execution_start": 1648834826959,
    "execution_millis": 136,
    "deepnote_table_state": {
     "pageSize": 25,
     "pageIndex": 0,
     "filters": [],
     "sortBy": []
    },
    "deepnote_table_loading": false,
    "deepnote_table_invalid": false,
    "deepnote_cell_type": "code",
    "deepnote_cell_height": 699
   },
   "source": "display(pd.DataFrame(p_values, columns=col_names, index=col_names).apply(np.log))",
   "execution_count": null,
   "outputs": [
    {
     "data": {
      "application/vnd.deepnote.dataframe.v3+json": {
       "column_count": 12,
       "row_count": 12,
       "columns": [
        {
         "name": "Gender",
         "dtype": "float64",
         "stats": {
          "unique_count": 12,
          "nan_count": 0,
          "min": "-inf",
          "max": "-1.9165475987135667",
          "histogram": [
           {
            "bin_start": -616.2458372876291,
            "bin_end": -554.8129083187375,
            "count": 1
           },
           {
            "bin_start": -554.8129083187375,
            "bin_end": -493.379979349846,
            "count": 0
           },
           {
            "bin_start": -493.379979349846,
            "bin_end": -431.94705038095447,
            "count": 0
           },
           {
            "bin_start": -431.94705038095447,
            "bin_end": -370.5141214120629,
            "count": 0
           },
           {
            "bin_start": -370.5141214120629,
            "bin_end": -309.08119244317135,
            "count": 0
           },
           {
            "bin_start": -309.08119244317135,
            "bin_end": -247.64826347427982,
            "count": 1
           },
           {
            "bin_start": -247.64826347427982,
            "bin_end": -186.21533450538823,
            "count": 0
           },
           {
            "bin_start": -186.21533450538823,
            "bin_end": -124.7824055364967,
            "count": 3
           },
           {
            "bin_start": -124.7824055364967,
            "bin_end": -63.349476567605166,
            "count": 1
           },
           {
            "bin_start": -63.349476567605166,
            "bin_end": -1.9165475987135667,
            "count": 5
           }
          ]
         }
        },
        {
         "name": "Own_car",
         "dtype": "float64",
         "stats": {
          "unique_count": 12,
          "nan_count": 0,
          "min": "-inf",
          "max": "-0.6468070262786438",
          "histogram": [
           {
            "bin_start": -616.2458372876291,
            "bin_end": -554.685934261494,
            "count": 1
           },
           {
            "bin_start": -554.685934261494,
            "bin_end": -493.12603123535905,
            "count": 0
           },
           {
            "bin_start": -493.12603123535905,
            "bin_end": -431.56612820922396,
            "count": 0
           },
           {
            "bin_start": -431.56612820922396,
            "bin_end": -370.00622518308893,
            "count": 0
           },
           {
            "bin_start": -370.00622518308893,
            "bin_end": -308.4463221569539,
            "count": 0
           },
           {
            "bin_start": -308.4463221569539,
            "bin_end": -246.8864191308188,
            "count": 0
           },
           {
            "bin_start": -246.8864191308188,
            "bin_end": -185.32651610468378,
            "count": 1
           },
           {
            "bin_start": -185.32651610468378,
            "bin_end": -123.76661307854874,
            "count": 0
           },
           {
            "bin_start": -123.76661307854874,
            "bin_end": -62.206710052413655,
            "count": 5
           },
           {
            "bin_start": -62.206710052413655,
            "bin_end": -0.6468070262786438,
            "count": 4
           }
          ]
         }
        },
        {
         "name": "Own_property",
         "dtype": "float64",
         "stats": {
          "unique_count": 12,
          "nan_count": 0,
          "min": "-inf",
          "max": "-0.9425586940753933",
          "histogram": [
           {
            "bin_start": -75.40121762961974,
            "bin_end": -67.9553517360653,
            "count": 1
           },
           {
            "bin_start": -67.9553517360653,
            "bin_end": -60.50948584251087,
            "count": 0
           },
           {
            "bin_start": -60.50948584251087,
            "bin_end": -53.06361994895643,
            "count": 0
           },
           {
            "bin_start": -53.06361994895643,
            "bin_end": -45.617754055401996,
            "count": 0
           },
           {
            "bin_start": -45.617754055401996,
            "bin_end": -38.17188816184756,
            "count": 1
           },
           {
            "bin_start": -38.17188816184756,
            "bin_end": -30.72602226829312,
            "count": 1
           },
           {
            "bin_start": -30.72602226829312,
            "bin_end": -23.280156374738688,
            "count": 0
           },
           {
            "bin_start": -23.280156374738688,
            "bin_end": -15.834290481184254,
            "count": 1
           },
           {
            "bin_start": -15.834290481184254,
            "bin_end": -8.388424587629814,
            "count": 0
           },
           {
            "bin_start": -8.388424587629814,
            "bin_end": -0.9425586940753933,
            "count": 7
           }
          ]
         }
        },
        {
         "name": "Unemployed",
         "dtype": "float64",
         "stats": {
          "unique_count": 10,
          "nan_count": 0,
          "min": "-inf",
          "max": "-1.880717320018758",
          "histogram": [
           {
            "bin_start": -284.3495714622589,
            "bin_end": -256.10268604803485,
            "count": 1
           },
           {
            "bin_start": -256.10268604803485,
            "bin_end": -227.85580063381087,
            "count": 0
           },
           {
            "bin_start": -227.85580063381087,
            "bin_end": -199.60891521958683,
            "count": 1
           },
           {
            "bin_start": -199.60891521958683,
            "bin_end": -171.36202980536282,
            "count": 1
           },
           {
            "bin_start": -171.36202980536282,
            "bin_end": -143.1151443911388,
            "count": 0
           },
           {
            "bin_start": -143.1151443911388,
            "bin_end": -114.86825897691477,
            "count": 1
           },
           {
            "bin_start": -114.86825897691477,
            "bin_end": -86.62137356269076,
            "count": 2
           },
           {
            "bin_start": -86.62137356269076,
            "bin_end": -58.37448814846675,
            "count": 0
           },
           {
            "bin_start": -58.37448814846675,
            "bin_end": -30.127602734242743,
            "count": 1
           },
           {
            "bin_start": -30.127602734242743,
            "bin_end": -1.880717320018758,
            "count": 2
           }
          ]
         }
        },
        {
         "name": "Num_family",
         "dtype": "float64",
         "stats": {
          "unique_count": 10,
          "nan_count": 0,
          "min": "-inf",
          "max": "-0.48897049163988293",
          "histogram": [
           {
            "bin_start": -284.34957146225884,
            "bin_end": -255.96351136519695,
            "count": 2
           },
           {
            "bin_start": -255.96351136519695,
            "bin_end": -227.57745126813504,
            "count": 0
           },
           {
            "bin_start": -227.57745126813504,
            "bin_end": -199.19139117107315,
            "count": 0
           },
           {
            "bin_start": -199.19139117107315,
            "bin_end": -170.80533107401124,
            "count": 0
           },
           {
            "bin_start": -170.80533107401124,
            "bin_end": -142.41927097694935,
            "count": 0
           },
           {
            "bin_start": -142.41927097694935,
            "bin_end": -114.03321087988746,
            "count": 1
           },
           {
            "bin_start": -114.03321087988746,
            "bin_end": -85.64715078282555,
            "count": 0
           },
           {
            "bin_start": -85.64715078282555,
            "bin_end": -57.26109068576366,
            "count": 0
           },
           {
            "bin_start": -57.26109068576366,
            "bin_end": -28.875030588701776,
            "count": 1
           },
           {
            "bin_start": -28.875030588701776,
            "bin_end": -0.48897049163988293,
            "count": 5
           }
          ]
         }
        },
        {
         "name": "Account_length",
         "dtype": "float64",
         "stats": {
          "unique_count": 12,
          "nan_count": 0,
          "min": "-inf",
          "max": "-0.2439465195111807",
          "histogram": [
           {
            "bin_start": -44.7055649018946,
            "bin_end": -40.25940306365626,
            "count": 1
           },
           {
            "bin_start": -40.25940306365626,
            "bin_end": -35.81324122541791,
            "count": 0
           },
           {
            "bin_start": -35.81324122541791,
            "bin_end": -31.367079387179572,
            "count": 0
           },
           {
            "bin_start": -31.367079387179572,
            "bin_end": -26.920917548941233,
            "count": 1
           },
           {
            "bin_start": -26.920917548941233,
            "bin_end": -22.474755710702894,
            "count": 0
           },
           {
            "bin_start": -22.474755710702894,
            "bin_end": -18.02859387246455,
            "count": 0
           },
           {
            "bin_start": -18.02859387246455,
            "bin_end": -13.582432034226208,
            "count": 1
           },
           {
            "bin_start": -13.582432034226208,
            "bin_end": -9.13627019598787,
            "count": 0
           },
           {
            "bin_start": -9.13627019598787,
            "bin_end": -4.69010835774953,
            "count": 3
           },
           {
            "bin_start": -4.69010835774953,
            "bin_end": -0.2439465195111807,
            "count": 5
           }
          ]
         }
        },
        {
         "name": "Total_income",
         "dtype": "float64",
         "stats": {
          "unique_count": 12,
          "nan_count": 0,
          "min": "-inf",
          "max": "-0.6344567372243263",
          "histogram": [
           {
            "bin_start": -251.91708134073187,
            "bin_end": -226.78881888038111,
            "count": 3
           },
           {
            "bin_start": -226.78881888038111,
            "bin_end": -201.66055642003036,
            "count": 1
           },
           {
            "bin_start": -201.66055642003036,
            "bin_end": -176.5322939596796,
            "count": 1
           },
           {
            "bin_start": -176.5322939596796,
            "bin_end": -151.40403149932885,
            "count": 0
           },
           {
            "bin_start": -151.40403149932885,
            "bin_end": -126.2757690389781,
            "count": 1
           },
           {
            "bin_start": -126.2757690389781,
            "bin_end": -101.14750657862734,
            "count": 0
           },
           {
            "bin_start": -101.14750657862734,
            "bin_end": -76.01924411827659,
            "count": 0
           },
           {
            "bin_start": -76.01924411827659,
            "bin_end": -50.890981657925835,
            "count": 0
           },
           {
            "bin_start": -50.890981657925835,
            "bin_end": -25.76271919757508,
            "count": 0
           },
           {
            "bin_start": -25.76271919757508,
            "bin_end": -0.6344567372243263,
            "count": 5
           }
          ]
         }
        },
        {
         "name": "Age",
         "dtype": "float64",
         "stats": {
          "unique_count": 9,
          "nan_count": 0,
          "min": "-inf",
          "max": "-5.91117357329945",
          "histogram": [
           {
            "bin_start": -494.0492344228321,
            "bin_end": -445.23542833787883,
            "count": 1
           },
           {
            "bin_start": -445.23542833787883,
            "bin_end": -396.42162225292554,
            "count": 0
           },
           {
            "bin_start": -396.42162225292554,
            "bin_end": -347.6078161679723,
            "count": 0
           },
           {
            "bin_start": -347.6078161679723,
            "bin_end": -298.79401008301903,
            "count": 0
           },
           {
            "bin_start": -298.79401008301903,
            "bin_end": -249.98020399806575,
            "count": 0
           },
           {
            "bin_start": -249.98020399806575,
            "bin_end": -201.16639791311252,
            "count": 0
           },
           {
            "bin_start": -201.16639791311252,
            "bin_end": -152.35259182815923,
            "count": 1
           },
           {
            "bin_start": -152.35259182815923,
            "bin_end": -103.53878574320595,
            "count": 2
           },
           {
            "bin_start": -103.53878574320595,
            "bin_end": -54.724979658252664,
            "count": 2
           },
           {
            "bin_start": -54.724979658252664,
            "bin_end": -5.91117357329945,
            "count": 2
           }
          ]
         }
        },
        {
         "name": "Income_type",
         "dtype": "float64",
         "stats": {
          "unique_count": 10,
          "nan_count": 0,
          "min": "-inf",
          "max": "-0.7444925177888334",
          "histogram": [
           {
            "bin_start": -263.2186269980615,
            "bin_end": -236.97121355003424,
            "count": 2
           },
           {
            "bin_start": -236.97121355003424,
            "bin_end": -210.72380010200698,
            "count": 0
           },
           {
            "bin_start": -210.72380010200698,
            "bin_end": -184.4763866539797,
            "count": 1
           },
           {
            "bin_start": -184.4763866539797,
            "bin_end": -158.22897320595243,
            "count": 1
           },
           {
            "bin_start": -158.22897320595243,
            "bin_end": -131.98155975792517,
            "count": 1
           },
           {
            "bin_start": -131.98155975792517,
            "bin_end": -105.73414630989788,
            "count": 0
           },
           {
            "bin_start": -105.73414630989788,
            "bin_end": -79.48673286187062,
            "count": 1
           },
           {
            "bin_start": -79.48673286187062,
            "bin_end": -53.23931941384336,
            "count": 0
           },
           {
            "bin_start": -53.23931941384336,
            "bin_end": -26.991905965816102,
            "count": 1
           },
           {
            "bin_start": -26.991905965816102,
            "bin_end": -0.7444925177888334,
            "count": 2
           }
          ]
         }
        },
        {
         "name": "Education_type",
         "dtype": "float64",
         "stats": {
          "unique_count": 12,
          "nan_count": 0,
          "min": "-inf",
          "max": "-0.24394651951118085",
          "histogram": [
           {
            "bin_start": -225.9780933150204,
            "bin_end": -203.40467863546948,
            "count": 1
           },
           {
            "bin_start": -203.40467863546948,
            "bin_end": -180.83126395591856,
            "count": 1
           },
           {
            "bin_start": -180.83126395591856,
            "bin_end": -158.25784927636764,
            "count": 1
           },
           {
            "bin_start": -158.25784927636764,
            "bin_end": -135.68443459681671,
            "count": 0
           },
           {
            "bin_start": -135.68443459681671,
            "bin_end": -113.11101991726579,
            "count": 0
           },
           {
            "bin_start": -113.11101991726579,
            "bin_end": -90.53760523771487,
            "count": 1
           },
           {
            "bin_start": -90.53760523771487,
            "bin_end": -67.96419055816395,
            "count": 0
           },
           {
            "bin_start": -67.96419055816395,
            "bin_end": -45.39077587861303,
            "count": 0
           },
           {
            "bin_start": -45.39077587861303,
            "bin_end": -22.817361199062105,
            "count": 2
           },
           {
            "bin_start": -22.817361199062105,
            "bin_end": -0.24394651951118085,
            "count": 5
           }
          ]
         }
        },
        {
         "name": "Family_status",
         "dtype": "float64",
         "stats": {
          "unique_count": 11,
          "nan_count": 0,
          "min": "-inf",
          "max": "-2.4963275763090524",
          "histogram": [
           {
            "bin_start": -494.0492344228321,
            "bin_end": -444.8939437381798,
            "count": 1
           },
           {
            "bin_start": -444.8939437381798,
            "bin_end": -395.7386530535275,
            "count": 0
           },
           {
            "bin_start": -395.7386530535275,
            "bin_end": -346.5833623688752,
            "count": 0
           },
           {
            "bin_start": -346.5833623688752,
            "bin_end": -297.4280716842229,
            "count": 0
           },
           {
            "bin_start": -297.4280716842229,
            "bin_end": -248.27278099957059,
            "count": 0
           },
           {
            "bin_start": -248.27278099957059,
            "bin_end": -199.11749031491826,
            "count": 2
           },
           {
            "bin_start": -199.11749031491826,
            "bin_end": -149.96219963026596,
            "count": 0
           },
           {
            "bin_start": -149.96219963026596,
            "bin_end": -100.80690894561366,
            "count": 2
           },
           {
            "bin_start": -100.80690894561366,
            "bin_end": -51.65161826096136,
            "count": 0
           },
           {
            "bin_start": -51.65161826096136,
            "bin_end": -2.4963275763090524,
            "count": 5
           }
          ]
         }
        },
        {
         "name": "Target",
         "dtype": "float64",
         "stats": {
          "unique_count": 12,
          "nan_count": 0,
          "min": "-inf",
          "max": "-0.48897049163988293",
          "histogram": [
           {
            "bin_start": -27.70115999798823,
            "bin_end": -24.979941047353396,
            "count": 1
           },
           {
            "bin_start": -24.979941047353396,
            "bin_end": -22.25872209671856,
            "count": 0
           },
           {
            "bin_start": -22.25872209671856,
            "bin_end": -19.53750314608373,
            "count": 0
           },
           {
            "bin_start": -19.53750314608373,
            "bin_end": -16.816284195448894,
            "count": 0
           },
           {
            "bin_start": -16.816284195448894,
            "bin_end": -14.095065244814057,
            "count": 0
           },
           {
            "bin_start": -14.095065244814057,
            "bin_end": -11.373846294179224,
            "count": 0
           },
           {
            "bin_start": -11.373846294179224,
            "bin_end": -8.652627343544388,
            "count": 0
           },
           {
            "bin_start": -8.652627343544388,
            "bin_end": -5.931408392909553,
            "count": 0
           },
           {
            "bin_start": -5.931408392909553,
            "bin_end": -3.210189442274718,
            "count": 3
           },
           {
            "bin_start": -3.210189442274718,
            "bin_end": -0.48897049163988293,
            "count": 7
           }
          ]
         }
        },
        {
         "name": "_deepnote_index_column",
         "dtype": "object"
        }
       ],
       "rows": [
        {
         "Gender": "-inf",
         "Own_car": -616.2458372876291,
         "Own_property": -17.09698267756415,
         "Unemployed": -140.81684337633664,
         "Num_family": -34.30683847615556,
         "Account_length": -2.642767095906742,
         "Total_income": -251.91708134073187,
         "Age": -135.95392556938577,
         "Income_type": -156.40843871569552,
         "Education_type": -2.1828594991198966,
         "Family_status": -119.95599212890943,
         "Target": -1.9165475987135667,
         "_deepnote_index_column": "Gender"
        },
        {
         "Gender": -616.2458372876291,
         "Own_car": "-inf",
         "Own_property": -1.1200360951176975,
         "Unemployed": -105.25556571671093,
         "Num_family": -115.07416814423392,
         "Account_length": -4.957652943852382,
         "Total_income": -231.1831780443,
         "Age": -94.97536739280218,
         "Income_type": -102.10470170746797,
         "Education_type": -45.296526392543186,
         "Family_status": -120.78583060067739,
         "Target": -0.6468070262786438,
         "_deepnote_index_column": "Own_car"
        },
        {
         "Gender": -17.09698267756415,
         "Own_car": -1.1200360951176977,
         "Own_property": "-inf",
         "Unemployed": -38.607447565350085,
         "Num_family": -0.942558694075395,
         "Account_length": -1.8555612813485096,
         "Total_income": -1.7205038626732982,
         "Age": -75.40121762961974,
         "Income_type": -34.51509264847163,
         "Education_type": -2.6474119914068144,
         "Family_status": -6.636110148418838,
         "Target": -5.12107310445311,
         "_deepnote_index_column": "Own_property"
        },
        {
         "Gender": -140.81684337633664,
         "Own_car": -105.25556571671093,
         "Own_property": -38.607447565350085,
         "Unemployed": "-inf",
         "Num_family": -284.34957146225884,
         "Account_length": -1.880717320018758,
         "Total_income": -185.51454631492356,
         "Age": "-inf",
         "Income_type": "-inf",
         "Education_type": -95.57886568133154,
         "Family_status": -222.62761152916693,
         "Target": -4.156378369774281,
         "_deepnote_index_column": "Unemployed"
        },
        {
         "Gender": -34.306838476155555,
         "Own_car": -115.07416814423392,
         "Own_property": -0.9425586940753933,
         "Unemployed": -284.3495714622589,
         "Num_family": "-inf",
         "Account_length": -6.483826221655836,
         "Total_income": -4.0835360943460115,
         "Age": "-inf",
         "Income_type": -263.2186269980615,
         "Education_type": -8.48810004006316,
         "Family_status": "-inf",
         "Target": -0.48897049163988293,
         "_deepnote_index_column": "Num_family"
        },
        {
         "Gender": -2.642767095906742,
         "Own_car": -4.957652943852379,
         "Own_property": -1.8555612813485096,
         "Unemployed": -1.880717320018758,
         "Num_family": -6.483826221655836,
         "Account_length": "-inf",
         "Total_income": -3.4035636356077053,
         "Age": -44.705564901894604,
         "Income_type": -5.788769906482948,
         "Education_type": -0.24394651951118085,
         "Family_status": -15.158806391980873,
         "Target": -27.70115999798823,
         "_deepnote_index_column": "Account_length"
        },
        {
         "Gender": -251.91708134073187,
         "Own_car": -231.1831780443,
         "Own_property": -1.7205038626732982,
         "Unemployed": -185.51454631492356,
         "Num_family": -4.0835360943460115,
         "Account_length": -3.403563635607706,
         "Total_income": "-inf",
         "Age": -134.0409882978644,
         "Income_type": -248.9028942052741,
         "Education_type": -225.9780933150204,
         "Family_status": -10.546586682306975,
         "Target": -0.6344567372243263,
         "_deepnote_index_column": "Total_income"
        },
        {
         "Gender": -135.95392556938577,
         "Own_car": -94.97536739280217,
         "Own_property": -75.40121762961974,
         "Unemployed": "-inf",
         "Num_family": "-inf",
         "Account_length": -44.7055649018946,
         "Total_income": -134.0409882978644,
         "Age": "-inf",
         "Income_type": "-inf",
         "Education_type": -200.76136472588183,
         "Family_status": -494.0492344228321,
         "Target": -5.911173573299449,
         "_deepnote_index_column": "Age"
        },
        {
         "Gender": -156.40843871569552,
         "Own_car": -102.10470170746797,
         "Own_property": -34.51509264847163,
         "Unemployed": "-inf",
         "Num_family": -263.2186269980615,
         "Account_length": -5.788769906482948,
         "Total_income": -248.90289420527404,
         "Age": "-inf",
         "Income_type": "-inf",
         "Education_type": -164.71201664891996,
         "Family_status": -203.43571244630098,
         "Target": -0.7444925177888336,
         "_deepnote_index_column": "Income_type"
        },
        {
         "Gender": -2.182859499119897,
         "Own_car": -45.296526392543186,
         "Own_property": -2.6474119914068144,
         "Unemployed": -95.57886568133154,
         "Num_family": -8.488100040063163,
         "Account_length": -0.2439465195111807,
         "Total_income": -225.97809331502037,
         "Age": -200.76136472588183,
         "Income_type": -164.71201664891998,
         "Education_type": "-inf",
         "Family_status": -37.84177594478732,
         "Target": -2.2665186338047705,
         "_deepnote_index_column": "Education_type"
        },
        {
         "Gender": -119.95599212890943,
         "Own_car": -120.7858306006774,
         "Own_property": -6.636110148418835,
         "Unemployed": -222.62761152916693,
         "Num_family": "-inf",
         "Account_length": -15.15880639198087,
         "Total_income": -10.546586682306975,
         "Age": -494.0492344228321,
         "Income_type": -203.43571244630098,
         "Education_type": -37.84177594478732,
         "Family_status": "-inf",
         "Target": -2.4963275763090524,
         "_deepnote_index_column": "Family_status"
        },
        {
         "Gender": -1.9165475987135667,
         "Own_car": -0.6468070262786438,
         "Own_property": -5.12107310445311,
         "Unemployed": -4.156378369774281,
         "Num_family": -0.48897049163988293,
         "Account_length": -27.70115999798823,
         "Total_income": -0.6344567372243263,
         "Age": -5.91117357329945,
         "Income_type": -0.7444925177888334,
         "Education_type": -2.2665186338047705,
         "Family_status": -2.4963275763090524,
         "Target": "-inf",
         "_deepnote_index_column": "Target"
        }
       ]
      },
      "text/plain": "                    Gender     Own_car  Own_property  Unemployed  Num_family  \\\nGender                -inf -616.245837    -17.096983 -140.816843  -34.306838   \nOwn_car        -616.245837        -inf     -1.120036 -105.255566 -115.074168   \nOwn_property    -17.096983   -1.120036          -inf  -38.607448   -0.942559   \nUnemployed     -140.816843 -105.255566    -38.607448        -inf -284.349571   \nNum_family      -34.306838 -115.074168     -0.942559 -284.349571        -inf   \nAccount_length   -2.642767   -4.957653     -1.855561   -1.880717   -6.483826   \nTotal_income   -251.917081 -231.183178     -1.720504 -185.514546   -4.083536   \nAge            -135.953926  -94.975367    -75.401218        -inf        -inf   \nIncome_type    -156.408439 -102.104702    -34.515093        -inf -263.218627   \nEducation_type   -2.182859  -45.296526     -2.647412  -95.578866   -8.488100   \nFamily_status  -119.955992 -120.785831     -6.636110 -222.627612        -inf   \nTarget           -1.916548   -0.646807     -5.121073   -4.156378   -0.488970   \n\n                Account_length  Total_income         Age  Income_type  \\\nGender               -2.642767   -251.917081 -135.953926  -156.408439   \nOwn_car              -4.957653   -231.183178  -94.975367  -102.104702   \nOwn_property         -1.855561     -1.720504  -75.401218   -34.515093   \nUnemployed           -1.880717   -185.514546        -inf         -inf   \nNum_family           -6.483826     -4.083536        -inf  -263.218627   \nAccount_length            -inf     -3.403564  -44.705565    -5.788770   \nTotal_income         -3.403564          -inf -134.040988  -248.902894   \nAge                 -44.705565   -134.040988        -inf         -inf   \nIncome_type          -5.788770   -248.902894        -inf         -inf   \nEducation_type       -0.243947   -225.978093 -200.761365  -164.712017   \nFamily_status       -15.158806    -10.546587 -494.049234  -203.435712   \nTarget              -27.701160     -0.634457   -5.911174    -0.744493   \n\n                Education_type  Family_status     Target  \nGender               -2.182859    -119.955992  -1.916548  \nOwn_car             -45.296526    -120.785831  -0.646807  \nOwn_property         -2.647412      -6.636110  -5.121073  \nUnemployed          -95.578866    -222.627612  -4.156378  \nNum_family           -8.488100           -inf  -0.488970  \nAccount_length       -0.243947     -15.158806 -27.701160  \nTotal_income       -225.978093     -10.546587  -0.634457  \nAge                -200.761365    -494.049234  -5.911174  \nIncome_type        -164.712017    -203.435712  -0.744493  \nEducation_type            -inf     -37.841776  -2.266519  \nFamily_status       -37.841776           -inf  -2.496328  \nTarget               -2.266519      -2.496328       -inf  ",
      "text/html": "<div>\n<style scoped>\n    .dataframe tbody tr th:only-of-type {\n        vertical-align: middle;\n    }\n\n    .dataframe tbody tr th {\n        vertical-align: top;\n    }\n\n    .dataframe thead th {\n        text-align: right;\n    }\n</style>\n<table border=\"1\" class=\"dataframe\">\n  <thead>\n    <tr style=\"text-align: right;\">\n      <th></th>\n      <th>Gender</th>\n      <th>Own_car</th>\n      <th>Own_property</th>\n      <th>Unemployed</th>\n      <th>Num_family</th>\n      <th>Account_length</th>\n      <th>Total_income</th>\n      <th>Age</th>\n      <th>Income_type</th>\n      <th>Education_type</th>\n      <th>Family_status</th>\n      <th>Target</th>\n    </tr>\n  </thead>\n  <tbody>\n    <tr>\n      <th>Gender</th>\n      <td>-inf</td>\n      <td>-616.245837</td>\n      <td>-17.096983</td>\n      <td>-140.816843</td>\n      <td>-34.306838</td>\n      <td>-2.642767</td>\n      <td>-251.917081</td>\n      <td>-135.953926</td>\n      <td>-156.408439</td>\n      <td>-2.182859</td>\n      <td>-119.955992</td>\n      <td>-1.916548</td>\n    </tr>\n    <tr>\n      <th>Own_car</th>\n      <td>-616.245837</td>\n      <td>-inf</td>\n      <td>-1.120036</td>\n      <td>-105.255566</td>\n      <td>-115.074168</td>\n      <td>-4.957653</td>\n      <td>-231.183178</td>\n      <td>-94.975367</td>\n      <td>-102.104702</td>\n      <td>-45.296526</td>\n      <td>-120.785831</td>\n      <td>-0.646807</td>\n    </tr>\n    <tr>\n      <th>Own_property</th>\n      <td>-17.096983</td>\n      <td>-1.120036</td>\n      <td>-inf</td>\n      <td>-38.607448</td>\n      <td>-0.942559</td>\n      <td>-1.855561</td>\n      <td>-1.720504</td>\n      <td>-75.401218</td>\n      <td>-34.515093</td>\n      <td>-2.647412</td>\n      <td>-6.636110</td>\n      <td>-5.121073</td>\n    </tr>\n    <tr>\n      <th>Unemployed</th>\n      <td>-140.816843</td>\n      <td>-105.255566</td>\n      <td>-38.607448</td>\n      <td>-inf</td>\n      <td>-284.349571</td>\n      <td>-1.880717</td>\n      <td>-185.514546</td>\n      <td>-inf</td>\n      <td>-inf</td>\n      <td>-95.578866</td>\n      <td>-222.627612</td>\n      <td>-4.156378</td>\n    </tr>\n    <tr>\n      <th>Num_family</th>\n      <td>-34.306838</td>\n      <td>-115.074168</td>\n      <td>-0.942559</td>\n      <td>-284.349571</td>\n      <td>-inf</td>\n      <td>-6.483826</td>\n      <td>-4.083536</td>\n      <td>-inf</td>\n      <td>-263.218627</td>\n      <td>-8.488100</td>\n      <td>-inf</td>\n      <td>-0.488970</td>\n    </tr>\n    <tr>\n      <th>Account_length</th>\n      <td>-2.642767</td>\n      <td>-4.957653</td>\n      <td>-1.855561</td>\n      <td>-1.880717</td>\n      <td>-6.483826</td>\n      <td>-inf</td>\n      <td>-3.403564</td>\n      <td>-44.705565</td>\n      <td>-5.788770</td>\n      <td>-0.243947</td>\n      <td>-15.158806</td>\n      <td>-27.701160</td>\n    </tr>\n    <tr>\n      <th>Total_income</th>\n      <td>-251.917081</td>\n      <td>-231.183178</td>\n      <td>-1.720504</td>\n      <td>-185.514546</td>\n      <td>-4.083536</td>\n      <td>-3.403564</td>\n      <td>-inf</td>\n      <td>-134.040988</td>\n      <td>-248.902894</td>\n      <td>-225.978093</td>\n      <td>-10.546587</td>\n      <td>-0.634457</td>\n    </tr>\n    <tr>\n      <th>Age</th>\n      <td>-135.953926</td>\n      <td>-94.975367</td>\n      <td>-75.401218</td>\n      <td>-inf</td>\n      <td>-inf</td>\n      <td>-44.705565</td>\n      <td>-134.040988</td>\n      <td>-inf</td>\n      <td>-inf</td>\n      <td>-200.761365</td>\n      <td>-494.049234</td>\n      <td>-5.911174</td>\n    </tr>\n    <tr>\n      <th>Income_type</th>\n      <td>-156.408439</td>\n      <td>-102.104702</td>\n      <td>-34.515093</td>\n      <td>-inf</td>\n      <td>-263.218627</td>\n      <td>-5.788770</td>\n      <td>-248.902894</td>\n      <td>-inf</td>\n      <td>-inf</td>\n      <td>-164.712017</td>\n      <td>-203.435712</td>\n      <td>-0.744493</td>\n    </tr>\n    <tr>\n      <th>Education_type</th>\n      <td>-2.182859</td>\n      <td>-45.296526</td>\n      <td>-2.647412</td>\n      <td>-95.578866</td>\n      <td>-8.488100</td>\n      <td>-0.243947</td>\n      <td>-225.978093</td>\n      <td>-200.761365</td>\n      <td>-164.712017</td>\n      <td>-inf</td>\n      <td>-37.841776</td>\n      <td>-2.266519</td>\n    </tr>\n    <tr>\n      <th>Family_status</th>\n      <td>-119.955992</td>\n      <td>-120.785831</td>\n      <td>-6.636110</td>\n      <td>-222.627612</td>\n      <td>-inf</td>\n      <td>-15.158806</td>\n      <td>-10.546587</td>\n      <td>-494.049234</td>\n      <td>-203.435712</td>\n      <td>-37.841776</td>\n      <td>-inf</td>\n      <td>-2.496328</td>\n    </tr>\n    <tr>\n      <th>Target</th>\n      <td>-1.916548</td>\n      <td>-0.646807</td>\n      <td>-5.121073</td>\n      <td>-4.156378</td>\n      <td>-0.488970</td>\n      <td>-27.701160</td>\n      <td>-0.634457</td>\n      <td>-5.911174</td>\n      <td>-0.744493</td>\n      <td>-2.266519</td>\n      <td>-2.496328</td>\n      <td>-inf</td>\n    </tr>\n  </tbody>\n</table>\n</div>"
     },
     "metadata": {},
     "output_type": "display_data"
    }
   ]
  },
  {
   "cell_type": "code",
   "metadata": {
    "cell_id": "495cb74357994aa38760210f29e12a1a",
    "tags": [],
    "deepnote_to_be_reexecuted": false,
    "source_hash": "de96760f",
    "execution_start": 1648837356765,
    "execution_millis": 580,
    "deepnote_cell_type": "code",
    "deepnote_cell_height": 586.375,
    "deepnote_output_heights": [
     null,
     193.875
    ]
   },
   "source": "for el in [\"Num_family\", \"Education_type\", \"Income_type\", \"Unemployed\", \"Total_income\", \"Own_property\", \"Account_length\", \"Target\"]:\n    (chi, p_value, dof) = chi_square(\"Family_status\",el , [\"Gender\", \"Age\"], df, False)\n    print(p_value)\n\n[\"Age\", \"Family_status\", \"Num_family\", \"Education_type\", \"Income_type\", \"Unemployed\", \"Total_income\", \"Own_property\", \"Account_length\", \"Target\"]\n\n# ammaccabanane",
   "execution_count": null,
   "outputs": [
    {
     "name": "stdout",
     "text": "0.0\n1.3464912716254496e-05\n0.16167806742425594\n0.013261977027760663\n0.15312954257534905\n0.8019186419658744\n0.008693379855200023\n0.00044030169612441217\n",
     "output_type": "stream"
    },
    {
     "output_type": "execute_result",
     "execution_count": 99,
     "data": {
      "text/plain": "['Age',\n 'Family_status',\n 'Num_family',\n 'Education_type',\n 'Income_type',\n 'Unemployed',\n 'Total_income',\n 'Own_property',\n 'Account_length',\n 'Target']"
     },
     "metadata": {}
    }
   ]
  },
  {
   "cell_type": "code",
   "source": "",
   "metadata": {
    "cell_id": "f7b3c079f2cf407da9f2e71b9d1b273a",
    "deepnote_cell_type": "visualization"
   },
   "execution_count": null,
   "outputs": []
  },
  {
   "cell_type": "code",
   "metadata": {
    "cell_id": "0f83ce1aab3548a4ae8aecdd11882ddf",
    "tags": [],
    "deepnote_to_be_reexecuted": false,
    "source_hash": "6696fdd",
    "execution_start": 1648830349475,
    "execution_millis": 36,
    "deepnote_cell_type": "code",
    "deepnote_cell_height": 495
   },
   "source": "edges = [ \n    (\"Gender\",\"Total_income\"),\n    (\"Age\",\"Education_type\"),\n    (\"Age\",\"Income_type\"),\n    (\"Age\",\"Family_status\"),\n    (\"Age\",\"Account_length\"),\n    (\"Family_status\",\"Num_family\"),\n    (\"Family_status\",\"Own_property\"),\n    (\"Family_status\",\"Own_car\"),\n    (\"Num_family\", \"Target\"),\n    (\"Education_type\",\"Income_type\"),\n    (\"Education_type\",\"Unemployed\"),\n    (\"Income_type\",\"Unemployed\"),\n    (\"Income_type\",\"Total_income\"),\n    (\"Unemployed\",\"Target\"),\n    (\"Unemployed\",\"Total_income\"),\n    (\"Total_income\", \"Own_property\"),\n    (\"Total_income\", \"Own_car\"),\n    (\"Total_income\", \"Target\"),\n    (\"Own_property\",\"Target\"),\n    (\"Own_car\",\"Target\"),\n    (\"Account_length\",\"Target\"),\n    \n]",
   "execution_count": null,
   "outputs": []
  },
  {
   "cell_type": "code",
   "metadata": {
    "cell_id": "c0dedc0e7e7e45da8bd2815565868288",
    "tags": [],
    "deepnote_to_be_reexecuted": false,
    "source_hash": "ec328804",
    "execution_start": 1649000472610,
    "execution_millis": 843,
    "owner_user_id": "14885735-5940-40fe-a39a-7ab7fac88e2b",
    "deepnote_cell_type": "code",
    "deepnote_cell_height": 234.1875
   },
   "source": "hand_net = BayesianNetwork(edges)\nhand_net.fit(df, estimator=BayesianEstimator)\ncpds = hand_net.get_cpds()\n\nfor elem in cpds:\n    print(elem)",
   "execution_count": null,
   "outputs": [
    {
     "output_type": "error",
     "ename": "NameError",
     "evalue": "name 'BayesianNetwork' is not defined",
     "traceback": [
      "\u001b[0;31m---------------------------------------------------------------------------\u001b[0m",
      "\u001b[0;31mNameError\u001b[0m                                 Traceback (most recent call last)",
      "\u001b[0;32m<ipython-input-1-258d6951d034>\u001b[0m in \u001b[0;36m<module>\u001b[0;34m\u001b[0m\n\u001b[0;32m----> 1\u001b[0;31m \u001b[0mhand_net\u001b[0m \u001b[0;34m=\u001b[0m \u001b[0mBayesianNetwork\u001b[0m\u001b[0;34m(\u001b[0m\u001b[0medges\u001b[0m\u001b[0;34m)\u001b[0m\u001b[0;34m\u001b[0m\u001b[0;34m\u001b[0m\u001b[0m\n\u001b[0m\u001b[1;32m      2\u001b[0m \u001b[0mhand_net\u001b[0m\u001b[0;34m.\u001b[0m\u001b[0mfit\u001b[0m\u001b[0;34m(\u001b[0m\u001b[0mdf\u001b[0m\u001b[0;34m,\u001b[0m \u001b[0mestimator\u001b[0m\u001b[0;34m=\u001b[0m\u001b[0mBayesianEstimator\u001b[0m\u001b[0;34m,\u001b[0m \u001b[0mprior_type\u001b[0m\u001b[0;34m=\u001b[0m\u001b[0;34m\"BDeu\"\u001b[0m\u001b[0;34m,\u001b[0m \u001b[0mequivalent_sample_size\u001b[0m\u001b[0;34m=\u001b[0m\u001b[0;36m10\u001b[0m\u001b[0;34m)\u001b[0m\u001b[0;34m\u001b[0m\u001b[0;34m\u001b[0m\u001b[0m\n\u001b[1;32m      3\u001b[0m \u001b[0mcpds\u001b[0m \u001b[0;34m=\u001b[0m \u001b[0mhand_net\u001b[0m\u001b[0;34m.\u001b[0m\u001b[0mget_cpds\u001b[0m\u001b[0;34m(\u001b[0m\u001b[0;34m)\u001b[0m\u001b[0;34m\u001b[0m\u001b[0;34m\u001b[0m\u001b[0m\n\u001b[1;32m      4\u001b[0m \u001b[0;34m\u001b[0m\u001b[0m\n\u001b[1;32m      5\u001b[0m \u001b[0;32mfor\u001b[0m \u001b[0melem\u001b[0m \u001b[0;32min\u001b[0m \u001b[0mcpds\u001b[0m\u001b[0;34m:\u001b[0m\u001b[0;34m\u001b[0m\u001b[0;34m\u001b[0m\u001b[0m\n",
      "\u001b[0;31mNameError\u001b[0m: name 'BayesianNetwork' is not defined"
     ]
    }
   ]
  },
  {
   "cell_type": "code",
   "metadata": {
    "cell_id": "337156dbf62c4512984b4a200f6cb1ef",
    "tags": [],
    "deepnote_to_be_reexecuted": false,
    "source_hash": "5cb3a2a1",
    "execution_start": 1648820429560,
    "execution_millis": 598,
    "deepnote_cell_type": "code",
    "deepnote_cell_height": 130.1875
   },
   "source": "bic_score = BicScore(df)\nprint(bic_score.score(hand_net))",
   "execution_count": null,
   "outputs": [
    {
     "name": "stdout",
     "text": "-97467.50847894179\n",
     "output_type": "stream"
    }
   ]
  },
  {
   "cell_type": "code",
   "metadata": {
    "cell_id": "9239f346d9654ad18aadeb0f73624228",
    "tags": [],
    "deepnote_to_be_reexecuted": false,
    "source_hash": "76d772c5",
    "execution_start": 1648749254265,
    "execution_millis": 259,
    "deepnote_cell_type": "code",
    "deepnote_cell_height": 809
   },
   "source": "from pgmpy.inference import VariableElimination\n\ninfer_hand = VariableElimination(hand_net)\nprint(infer_hand.query(['Target', 'Income_type'], evidence={'Unemployed': 1, 'Own_property':0, 'Total_income': 'low', 'Own_car':0, 'Account_length': '<1y'}))\nprint(infer_hand.query(['Total_income'], evidence = {'Income_type':'Student'}))\nprint(len(df[df[\"Income_type\"] == 'Student']))\nprint(len(df[(df[\"Income_type\"] == 'Student') & (df[\"Unemployed\"] == 0)]))",
   "execution_count": null,
   "outputs": [
    {
     "name": "stderr",
     "text": "Finding Elimination Order: : 100%|██████████| 5/5 [00:00<00:00, 3730.26it/s]\nEliminating: Age: 100%|██████████| 5/5 [00:00<00:00, 518.72it/s]\n+-----------+-----------------------------------+---------------------------+\n| Target    | Income_type                       |   phi(Target,Income_type) |\n+===========+===================================+===========================+\n| Target(0) | Income_type(Commercial associate) |                    0.0002 |\n+-----------+-----------------------------------+---------------------------+\n| Target(0) | Income_type(Pensioner)            |                    0.9171 |\n+-----------+-----------------------------------+---------------------------+\n| Target(0) | Income_type(State servant)        |                    0.0002 |\n+-----------+-----------------------------------+---------------------------+\n| Target(0) | Income_type(Student)              |                    0.0002 |\n+-----------+-----------------------------------+---------------------------+\n| Target(0) | Income_type(Working)              |                    0.0002 |\n+-----------+-----------------------------------+---------------------------+\n| Target(1) | Income_type(Commercial associate) |                    0.0000 |\n+-----------+-----------------------------------+---------------------------+\n| Target(1) | Income_type(Pensioner)            |                    0.0820 |\n+-----------+-----------------------------------+---------------------------+\n| Target(1) | Income_type(State servant)        |                    0.0000 |\n+-----------+-----------------------------------+---------------------------+\n| Target(1) | Income_type(Student)              |                    0.0000 |\n+-----------+-----------------------------------+---------------------------+\n| Target(1) | Income_type(Working)              |                    0.0000 |\n+-----------+-----------------------------------+---------------------------+\nFinding Elimination Order: : 100%|██████████| 4/4 [00:00<00:00, 3161.93it/s]\nEliminating: Age: 100%|██████████| 4/4 [00:00<00:00, 518.52it/s]+----------------------+---------------------+\n| Total_income         |   phi(Total_income) |\n+======================+=====================+\n| Total_income(high)   |              0.0831 |\n+----------------------+---------------------+\n| Total_income(low)    |              0.3364 |\n+----------------------+---------------------+\n| Total_income(medium) |              0.5805 |\n+----------------------+---------------------+\n3\n3\n\n",
     "output_type": "stream"
    }
   ]
  },
  {
   "cell_type": "code",
   "metadata": {
    "cell_id": "fd60e183ceb04b53b359f4c9e3d210d5",
    "tags": [],
    "deepnote_to_be_reexecuted": false,
    "source_hash": "623406cb",
    "execution_start": 1648831420489,
    "execution_millis": 806,
    "deepnote_cell_type": "code",
    "deepnote_cell_height": 743,
    "deepnote_output_heights": [
     304
    ]
   },
   "source": "\npos={\"Gender\":(3,5),\n\"Age\":(1,5),\n\"Total_income\":(3,3),\n\"Income_type\":(2.5,4),\n\"Education_type\":(2,5),\n\"Num_family\":(1,3),\n\"Account_length\":(0.5,1),\n\"Own_property\":(1,2),\n\"Unemployed\":(2.5,3.5),\n\"Own_car\":(2,3),\n\"Family_status\":(1,4),\n\"Target\":(1.5,0),}\n\nnx.draw(hand_net, pos=pos, with_labels=True)\n#per ora sto solo mettendo i nomi delle colonne, poi sistemiamo\n# sarebbe da fissare la posizione dei nodi\n#gender, Age, Family_status, num_family, Education_type, Income_type, Unemployed, Total_income, Own_property, Own_car, Account_length, target\n#nx.draw(X, pos)\n#plt.show()",
   "execution_count": null,
   "outputs": [
    {
     "data": {
      "text/plain": "<Figure size 432x288 with 1 Axes>",
      "image/png": "[encoded data removed]"
     },
     "metadata": {
      "image/png": {
       "width": 446,
       "height": 302
      }
     },
     "output_type": "display_data"
    }
   ]
  },
  {
   "cell_type": "code",
   "metadata": {
    "cell_id": "ead6dffdbb2f4e7089ea85a667ea3f17",
    "tags": [],
    "deepnote_to_be_reexecuted": false,
    "source_hash": "c8ecd9d8",
    "execution_start": 1648831404005,
    "execution_millis": 2,
    "deepnote_cell_type": "code",
    "deepnote_cell_height": 706.5
   },
   "source": "def show_active_trail(net, node_name):\n    print(f\"The nodes in an active trail that are connected to {node_name} are:\")\n    to_print = list(net.active_trail_nodes(node_name).values())\n    print(to_print)\n\nfor elem in df.columns:\n    show_active_trail(hand_net, elem)\n#eh ma anche io sto bestemmiando per disporre il grafo come si deve",
   "execution_count": null,
   "outputs": [
    {
     "name": "stdout",
     "text": "The nodes in an active trail that are connected to Gender are:\n[{'Own_car', 'Target', 'Total_income', 'Own_property', 'Gender'}]\nThe nodes in an active trail that are connected to Own_car are:\n[{'Family_status', 'Own_car', 'Total_income', 'Own_property', 'Target', 'Age', 'Income_type', 'Account_length', 'Num_family', 'Education_type', 'Gender', 'Unemployed'}]\nThe nodes in an active trail that are connected to Own_property are:\n[{'Family_status', 'Own_property', 'Total_income', 'Own_car', 'Target', 'Age', 'Income_type', 'Account_length', 'Num_family', 'Education_type', 'Gender', 'Unemployed'}]\nThe nodes in an active trail that are connected to Unemployed are:\n[{'Family_status', 'Own_property', 'Target', 'Total_income', 'Own_car', 'Age', 'Income_type', 'Account_length', 'Education_type', 'Num_family', 'Unemployed'}]\nThe nodes in an active trail that are connected to Num_family are:\n[{'Family_status', 'Own_car', 'Own_property', 'Target', 'Total_income', 'Age', 'Income_type', 'Account_length', 'Num_family', 'Education_type', 'Unemployed'}]\nThe nodes in an active trail that are connected to Account_length are:\n[{'Family_status', 'Own_car', 'Target', 'Total_income', 'Own_property', 'Age', 'Account_length', 'Income_type', 'Education_type', 'Num_family', 'Unemployed'}]\nThe nodes in an active trail that are connected to Total_income are:\n[{'Family_status', 'Own_property', 'Target', 'Total_income', 'Own_car', 'Age', 'Income_type', 'Account_length', 'Gender', 'Education_type', 'Num_family', 'Unemployed'}]\nThe nodes in an active trail that are connected to Age are:\n[{'Family_status', 'Own_property', 'Total_income', 'Own_car', 'Target', 'Age', 'Income_type', 'Account_length', 'Education_type', 'Num_family', 'Unemployed'}]\nThe nodes in an active trail that are connected to Income_type are:\n[{'Family_status', 'Own_property', 'Total_income', 'Target', 'Own_car', 'Age', 'Income_type', 'Account_length', 'Education_type', 'Num_family', 'Unemployed'}]\nThe nodes in an active trail that are connected to Education_type are:\n[{'Family_status', 'Own_car', 'Total_income', 'Target', 'Own_property', 'Age', 'Income_type', 'Account_length', 'Education_type', 'Num_family', 'Unemployed'}]\nThe nodes in an active trail that are connected to Family_status are:\n[{'Family_status', 'Own_property', 'Target', 'Own_car', 'Total_income', 'Age', 'Income_type', 'Account_length', 'Num_family', 'Education_type', 'Unemployed'}]\nThe nodes in an active trail that are connected to Target are:\n[{'Family_status', 'Own_car', 'Target', 'Own_property', 'Total_income', 'Age', 'Account_length', 'Income_type', 'Num_family', 'Education_type', 'Gender', 'Unemployed'}]\n",
     "output_type": "stream"
    }
   ]
  },
  {
   "cell_type": "code",
   "metadata": {
    "cell_id": "77fd5e138dea4e6db8d12ae452a7a9d3",
    "tags": [],
    "deepnote_to_be_reexecuted": false,
    "source_hash": "bd2ddf10",
    "execution_start": 1648831579975,
    "execution_millis": 619,
    "owner_user_id": "d3c0040e-1334-4d1d-af60-5a227b82581a",
    "deepnote_cell_type": "code",
    "deepnote_cell_height": 581,
    "deepnote_output_heights": [
     304
    ]
   },
   "source": "def draw_markov_blanket(net, node_name):\n    filtered_nodes = hand_net.get_markov_blanket(node_name)\n    filtered_nodes.append(node_name)\n    filtered_edges = [(e1, e2) for (e1, e2) in hand_net.edges() if (e1 in filtered_nodes) and (e2 in filtered_nodes)]\n\n    markov_blanket = DAG()\n    markov_blanket.add_nodes_from(nodes=filtered_nodes)\n    markov_blanket.add_edges_from(ebunch=filtered_edges)\n    nx.draw_planar(markov_blanket, width=2, with_labels=True)\n\ndraw_markov_blanket(hand_net, \"Target\")",
   "execution_count": null,
   "outputs": [
    {
     "data": {
      "text/plain": "<Figure size 432x288 with 1 Axes>",
      "image/png": "[encoded data removed]"
     },
     "metadata": {
      "image/png": {
       "width": 446,
       "height": 302
      }
     },
     "output_type": "display_data"
    }
   ]
  },
  {
   "cell_type": "markdown",
   "source": "<a style='text-decoration:none;line-height:16px;display:flex;color:#5B5B62;padding:10px;justify-content:end;' href='https://deepnote.com?utm_source=created-in-deepnote-cell&projectId=03282642-4d6b-431b-a45f-9f21a6236fff' target=\"_blank\">\n<img alt='Created in deepnote.com' style='display:inline;max-height:16px;margin:0px;margin-right:7.5px;' src='data:image/svg+xml;base64,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' > </img>\nCreated in <span style='font-weight:600;margin-left:4px;'>Deepnote</span></a>",
   "metadata": {
    "tags": [],
    "created_in_deepnote_cell": true,
    "deepnote_cell_type": "markdown"
   }
  }
 ],
 "nbformat": 4,
 "nbformat_minor": 2,
 "metadata": {
  "orig_nbformat": 2,
  "deepnote": {
   "is_reactive": false
  },
  "deepnote_notebook_id": "e9343dc4-5a37-4e2c-a002-b820c080a215",
  "deepnote_execution_queue": []
 }
}